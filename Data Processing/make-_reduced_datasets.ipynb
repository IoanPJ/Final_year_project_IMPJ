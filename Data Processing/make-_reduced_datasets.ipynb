{
 "cells": [
  {
   "cell_type": "code",
   "execution_count": 18,
   "metadata": {},
   "outputs": [],
   "source": [
    "import numpy as np\n",
    "import pandas as pd\n",
    "\n",
    "data = pd.read_csv('..\\\\Fermi-LAT Data\\\\fl_numericalonly_nopositional_withclasses.csv',index_col=0 )\n",
    "\n",
    "wrapperbest = [75,18,0,1,80,82,6,81,85,87,13,84,5,20]\n",
    "keepfeatures = (['CLASS1'])\n",
    "features = data.columns\n",
    "for i in range(0,1):\n",
    "    keepfeatures.append(features[wrapperbest[i]]) \n",
    "    #keepfeatures.append(features[wrapperbest[2*i+1]])\n",
    "    df = pd.DataFrame()\n",
    "    for s in keepfeatures:\n",
    "        df[s] = data[s]\n",
    "    df.to_csv('..\\\\Fermi-LAT Data\\\\fl_wrappered_'+str(1)+'.csv')"
   ]
  }
 ],
 "metadata": {
  "kernelspec": {
   "display_name": "Python 3",
   "language": "python",
   "name": "python3"
  },
  "language_info": {
   "codemirror_mode": {
    "name": "ipython",
    "version": 3
   },
   "file_extension": ".py",
   "mimetype": "text/x-python",
   "name": "python",
   "nbconvert_exporter": "python",
   "pygments_lexer": "ipython3",
   "version": "3.11.7"
  }
 },
 "nbformat": 4,
 "nbformat_minor": 2
}
