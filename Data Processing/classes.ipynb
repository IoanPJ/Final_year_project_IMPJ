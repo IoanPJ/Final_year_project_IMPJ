{
 "cells": [
  {
   "cell_type": "code",
   "execution_count": 20,
   "metadata": {},
   "outputs": [],
   "source": [
    "import numpy as np \n",
    "import pandas as pd\n",
    "\n",
    "cl = pd.read_csv('..\\\\Fermi-LAT Data\\\\fl_classes.csv',index_col=0)\n",
    "\n",
    "\n",
    "cl = cl.replace('bcu',0)\n",
    "cl = cl.replace('bll',1)\n",
    "cl = cl.replace('fsrq',2)\n",
    "cl = cl.replace('BLL',1)\n",
    "cl = cl.replace('FSRQ',2)\n",
    "cl = cl.replace('BCU',0)\n",
    "\n",
    "for i in range(0,len(cl['CLASS1'])):\n",
    "    if cl['CLASS1'][i] == 0:\n",
    "        pass\n",
    "    elif cl['CLASS1'][i] == 1 :\n",
    "        pass\n",
    "    elif cl['CLASS1'][i] == 2:\n",
    "        pass\n",
    "    else:\n",
    "        cl['CLASS1'][i] = 4\n",
    "\n",
    "'''\n",
    "\n",
    "In this DataFrame all unknown BCUs are assigned 0. All BLLs are assigned 1 and all FSRQs are assigned 2.\n",
    "\n",
    "'''\n",
    "\n",
    "cl.to_csv('..\\\\Fermi-LAT Data\\\\fl_classes_numerical.csv')\n"
   ]
  }
 ],
 "metadata": {
  "kernelspec": {
   "display_name": "Python 3",
   "language": "python",
   "name": "python3"
  },
  "language_info": {
   "codemirror_mode": {
    "name": "ipython",
    "version": 3
   },
   "file_extension": ".py",
   "mimetype": "text/x-python",
   "name": "python",
   "nbconvert_exporter": "python",
   "pygments_lexer": "ipython3",
   "version": "3.11.6"
  }
 },
 "nbformat": 4,
 "nbformat_minor": 2
}
