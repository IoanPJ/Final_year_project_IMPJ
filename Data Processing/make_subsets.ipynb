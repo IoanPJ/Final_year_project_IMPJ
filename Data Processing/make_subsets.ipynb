{
 "cells": [
  {
   "cell_type": "code",
   "execution_count": 2,
   "metadata": {},
   "outputs": [],
   "source": [
    "import numpy as np\n",
    "import pandas as pd"
   ]
  },
  {
   "cell_type": "code",
   "execution_count": 3,
   "metadata": {},
   "outputs": [
    {
     "name": "stdout",
     "output_type": "stream",
     "text": [
      "2363\n",
      "Index(['CLASS1', 'Frac_Variability', 'HR_24', 'Signif_Avg', 'Pivot_Energy',\n",
      "       'HR_35', 'HR_37', 'LP_Flux_Density', 'HR_36', 'HR_47', 'HR_57',\n",
      "       'PLEC_ExpfactorS', 'HR_46', 'PL_Index', 'ASSOC_PROB_LR'],\n",
      "      dtype='object')\n"
     ]
    }
   ],
   "source": [
    "full = pd.read_csv('..\\\\Fermi-LAT Data\\\\fl_numericalonly_nopositional_withclasses.csv',index_col=0)\n",
    "ref = pd.read_csv('..\\\\Fermi-LAT Data Subsets\\\\fl_wrappered_FORREFERENCE.csv',index_col=0)\n",
    "print(len(full))\n",
    "print(ref.columns)"
   ]
  },
  {
   "cell_type": "code",
   "execution_count": 4,
   "metadata": {},
   "outputs": [
    {
     "name": "stdout",
     "output_type": "stream",
     "text": [
      "['CLASS1']\n"
     ]
    }
   ],
   "source": [
    "ranked_features = list(ref.columns)\n",
    "ranked_features.remove('CLASS1')\n",
    "keep = list(['CLASS1'])\n",
    "print(keep)\n",
    "\n",
    "for k in range(1,8):\n",
    "    keep = list(['CLASS1'])\n",
    "    for i in range(0,k):\n",
    "        keep.append(ranked_features[2*i])\n",
    "        keep.append(ranked_features[2*i+1])\n",
    "    full[keep].to_csv('..\\\\Fermi-LAT Data Subsets\\\\fl_wrappered_'+str(2*i)+'.csv')\n",
    "    "
   ]
  }
 ],
 "metadata": {
  "kernelspec": {
   "display_name": "Python 3",
   "language": "python",
   "name": "python3"
  },
  "language_info": {
   "codemirror_mode": {
    "name": "ipython",
    "version": 3
   },
   "file_extension": ".py",
   "mimetype": "text/x-python",
   "name": "python",
   "nbconvert_exporter": "python",
   "pygments_lexer": "ipython3",
   "version": "3.11.7"
  }
 },
 "nbformat": 4,
 "nbformat_minor": 2
}
