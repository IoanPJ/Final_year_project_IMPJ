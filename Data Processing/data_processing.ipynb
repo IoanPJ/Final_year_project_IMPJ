{
 "cells": [
  {
   "cell_type": "code",
   "execution_count": 1,
   "metadata": {},
   "outputs": [
    {
     "name": "stdout",
     "output_type": "stream",
     "text": [
      "<astropy.io.fits.hdu.table.BinTableHDU object at 0x0000023482D06850>\n"
     ]
    }
   ],
   "source": [
    "import numpy as np\n",
    "from tqdm import tqdm\n",
    "import pandas as pd\n",
    "from astropy.table import Table\n",
    "from astropy.io import fits\n",
    "from astropy.io import ascii\n",
    "\n",
    "hdul = fits.open('..\\\\Fermi-LAT Data\\\\gll_psc_v32.fit')\n",
    "print(hdul[1])\n",
    "\n",
    "table = Table.read('..\\\\Fermi-LAT Data\\\\gll_psc_v32.fit',hdu=1)\n",
    "ascii.write(table, '..\\\\Fermi-LAT Data\\\\hdu1.ecsv', overwrite=True, format = 'ecsv')\n"
   ]
  },
  {
   "cell_type": "code",
   "execution_count": 2,
   "metadata": {},
   "outputs": [
    {
     "name": "stdout",
     "output_type": "stream",
     "text": [
      "7195\n",
      "4832\n",
      "3697.0\n"
     ]
    }
   ],
   "source": [
    "table = ascii.read('..\\Fermi-LAT Data\\hdu1.txt')\n",
    "fermi_lat = table.to_pandas()\n",
    "fermi_lat.to_csv('..\\Fermi-LAT Data\\hdu1.csv')\n",
    "redshifts = pd.read_csv('..\\\\Fermi-LAT Data\\\\redshift_predictions.csv')\n",
    "\n",
    "# ONE HOT ENCODING OF SPECTRUMTYPE\n",
    "\n",
    "PLCount = np.zeros(len(fermi_lat['SpectrumType']))\n",
    "LPCount = np.zeros(len(fermi_lat['SpectrumType']))\n",
    "PLECCount = np.zeros(len(fermi_lat['SpectrumType']))\n",
    "\n",
    "for i in range(0,len(fermi_lat['SpectrumType'])):\n",
    "    if fermi_lat['SpectrumType'][i] == 'PowerLaw':\n",
    "        PLCount[i] = 1\n",
    "    if fermi_lat['SpectrumType'][i] == 'LogParabola':\n",
    "        LPCount[i] = 1\n",
    "    if fermi_lat['SpectrumType'][i] == 'PLSuperExpCutoff':\n",
    "        PLECCount[i] = 1\n",
    "\n",
    "fermi_lat['PL'] = PLCount\n",
    "fermi_lat['LP'] = LPCount\n",
    "fermi_lat['PLEC'] = PLECCount\n",
    "\n",
    "print(len(fermi_lat))\n",
    "fl = fermi_lat.drop(columns=['ROI_num','RA_Counterpart','DEC_Counterpart','Conf_68_SemiMajor', 'Conf_68_SemiMinor', 'Conf_68_PosAng',\n",
    "       'Conf_95_SemiMajor', 'Conf_95_SemiMinor', 'Conf_95_PosAng','RAJ2000', 'DEJ2000','DataRelease','GLON','GLAT','Source_Name',\n",
    "       'Extended_Source_Name','ASSOC_4FGL','ASSOC_FGL','ASSOC_FHL','ASSOC_GAM1','ASSOC_GAM2','ASSOC_GAM3','TEVCAT_FLAG',\n",
    "       'ASSOC_TEV','CLASS1','CLASS2','ASSOC1','ASSOC2','Flags','SpectrumType'])\n",
    "\n",
    "'''\n",
    "The above columns are dropped because they are either positional data or non-numerical data.\n",
    "\n",
    "Uncertainty data is also dropped below.\n",
    "\n",
    "'''\n",
    "\n",
    "fl_classes = fermi_lat['CLASS1']\n",
    "fl_classes.to_csv('fl_classes.csv')\n",
    "\n",
    "uncertainties = np.array([])\n",
    "for x in fl.columns:\n",
    "    if 'Unc' in x:\n",
    "        uncertainties = np.append(uncertainties,x)\n",
    "fl = fl.drop(columns=uncertainties)\n",
    "\n",
    "print(len(fl)-2363)\n",
    "df=fl\n",
    "column_list = df.columns\n",
    "nan_count = np.zeros(len(column_list))\n",
    "for i in range(0,len(column_list)):\n",
    "    x=column_list[i]\n",
    "    n_nans = len(df[x])-df[x].count()\n",
    "    #print('nans in ' + x + ': ' + str(n_nans))\n",
    "    nan_count[i] = n_nans\n",
    "\n",
    "print(sum(nan_count))"
   ]
  },
  {
   "cell_type": "code",
   "execution_count": 3,
   "metadata": {},
   "outputs": [],
   "source": [
    "col0 = np.zeros(len(fl))\n",
    "col1 = np.zeros(len(fl))\n",
    "col2 = np.zeros(len(fl))\n",
    "col3 = np.zeros(len(fl))\n",
    "col4 = np.zeros(len(fl))\n",
    "col5 = np.zeros(len(fl))\n",
    "col6 = np.zeros(len(fl))\n",
    "col7 = np.zeros(len(fl))\n",
    "\n",
    "columnlist = ['Flux_Band', 'nuFnu_Band', 'Sqrt_TS_Band',\n",
    "       'Flux_History','Sqrt_TS_History']\n",
    "\n",
    "for name in columnlist:    \n",
    "    for i in range(0,len(fl)):\n",
    "        obj_data = fl[name][i]\n",
    "        obj_data = obj_data.replace('[','') \n",
    "        obj_data = obj_data.replace(']','') \n",
    "        obj_data = obj_data.replace('null','0')\n",
    "        float_data = [float(idx) for idx in obj_data.split(',')]\n",
    "        for x in range(0,len(float_data)):\n",
    "            if float_data[x] == 0:\n",
    "                float_data[x] = np.nan\n",
    "\n",
    "        col0[i] = float_data[0]\n",
    "        col1[i] = float_data[1]\n",
    "        col2[i] = float_data[2]\n",
    "        col3[i] = float_data[3]\n",
    "        col4[i] = float_data[4]\n",
    "        col5[i] = float_data[5]\n",
    "        col6[i] = float_data[6]\n",
    "        col7[i] = float_data[7]\n",
    "    fl[name + '_0'] = col0\n",
    "    fl[name+'_1'] = col1\n",
    "    fl[name+'_2'] = col2\n",
    "    fl[name+'_3'] = col3\n",
    "    fl[name+'_4'] = col4\n",
    "    fl[name+'_5'] = col5\n",
    "    fl[name+'_6'] = col6\n",
    "    fl[name+'_7'] = col7\n",
    "\n",
    "fl = fl.drop(columns=columnlist)\n",
    "\n",
    "cl = pd.read_csv('..\\\\Fermi-LAT Data\\\\fl_classes_numerical.csv',index_col=0)\n"
   ]
  },
  {
   "cell_type": "code",
   "execution_count": 5,
   "metadata": {},
   "outputs": [
    {
     "data": {
      "text/plain": [
       "\"column_list = fl.columns\\nnan_count = np.zeros(len(column_list))\\n\\n\\nfl = fl.replace(np.inf,np.nan)\\nfl = fl.replace(-np.inf,np.nan)\\n\\n\\nREPLACING ALL INFINITE VALUES WITH NaN BECAUSE SCIKIT LEARN CANNOT READ THEM\\n\\n\\nfor i in range(0,len(column_list)):\\n    n_nans = (1 - (fl[column_list[i]].count()/len(fl[column_list[i]]))) * 100\\n    #print('nans in ' + x + ': ' + str(n_nans))\\n    nan_count[i] = n_nans\\n\\n\\nnan_data = np.stack((column_list,nan_count),axis=1)\\nnc = pd.DataFrame(nan_data,columns=['Parameter','Percentage NaNs'])\\nnc = nc.drop([0])\\n#nc.to_csv('NaN_percentage_by_column.csv')\\n\\ndrop_cols = np.array([])\\n\\nfor i in range(1,len(nc)):\\n    if nc['Parameter'][i] == 'CLASS1':\\n        pass\\n    elif nc['Percentage NaNs'][i] >= 0.001 :\\n        nc_sub20 = nc.drop([i])\\n        drop_cols = np.append(drop_cols,nc['Parameter'][i])\\n\\n#nc_sub20.to_csv('NaN_percentage_by_column_sub20.csv')\\n\\nfl_sub20 = fl.drop(columns=drop_cols)\\n\\nfl = fl_sub20.dropna()\\nprint(drop_cols)\\n\""
      ]
     },
     "execution_count": 5,
     "metadata": {},
     "output_type": "execute_result"
    }
   ],
   "source": [
    "'''column_list = fl.columns\n",
    "nan_count = np.zeros(len(column_list))\n",
    "\n",
    "\n",
    "fl = fl.replace(np.inf,np.nan)\n",
    "fl = fl.replace(-np.inf,np.nan)\n",
    "\n",
    "''''''\n",
    "REPLACING ALL INFINITE VALUES WITH NaN BECAUSE SCIKIT LEARN CANNOT READ THEM\n",
    "''''''\n",
    "\n",
    "for i in range(0,len(column_list)):\n",
    "    n_nans = (1 - (fl[column_list[i]].count()/len(fl[column_list[i]]))) * 100\n",
    "    #print('nans in ' + x + ': ' + str(n_nans))\n",
    "    nan_count[i] = n_nans\n",
    "\n",
    "\n",
    "nan_data = np.stack((column_list,nan_count),axis=1)\n",
    "nc = pd.DataFrame(nan_data,columns=['Parameter','Percentage NaNs'])\n",
    "nc = nc.drop([0])\n",
    "#nc.to_csv('NaN_percentage_by_column.csv')\n",
    "\n",
    "drop_cols = np.array([])\n",
    "\n",
    "for i in range(1,len(nc)):\n",
    "    if nc['Parameter'][i] == 'CLASS1':\n",
    "        pass\n",
    "    elif nc['Percentage NaNs'][i] >= 0.001 :\n",
    "        nc_sub20 = nc.drop([i])\n",
    "        drop_cols = np.append(drop_cols,nc['Parameter'][i])\n",
    "\n",
    "#nc_sub20.to_csv('NaN_percentage_by_column_sub20.csv')\n",
    "\n",
    "fl_sub20 = fl.drop(columns=drop_cols)\n",
    "\n",
    "fl = fl_sub20.dropna()\n",
    "print(drop_cols)\n",
    "'''"
   ]
  },
  {
   "cell_type": "code",
   "execution_count": 4,
   "metadata": {},
   "outputs": [],
   "source": [
    "fl_cl = pd.merge(fl,cl,left_index=True,right_index=True)\n",
    "\n",
    "\n",
    "#fl_cl.dropna()\n",
    "\n",
    "\n",
    "mask1 = fl_cl['CLASS1'] == 4\n",
    "#mask2 = fl_cl['CLASS1'] == 0\n",
    "\n",
    "fl_cl = fl_cl[~mask1]\n",
    "#fl_cl = fl_cl[~mask2]\n"
   ]
  },
  {
   "cell_type": "code",
   "execution_count": 5,
   "metadata": {},
   "outputs": [
    {
     "name": "stdout",
     "output_type": "stream",
     "text": [
      "['LP_EPeak' 'PLEC_EPeak' 'Signif_Peak' 'Flux_Peak' 'Time_Peak'\n",
      " 'Peak_Interval' 'ASSOC_PROB_BAY' 'ASSOC_PROB_LR' 'Sqrt_TS_Band_0'\n",
      " 'Sqrt_TS_Band_1' 'Sqrt_TS_Band_2' 'Sqrt_TS_Band_4' 'Sqrt_TS_Band_5'\n",
      " 'Sqrt_TS_Band_6' 'Sqrt_TS_Band_7' 'Sqrt_TS_History_0' 'Sqrt_TS_History_1'\n",
      " 'Sqrt_TS_History_2' 'Sqrt_TS_History_3' 'Sqrt_TS_History_4'\n",
      " 'Sqrt_TS_History_5' 'Sqrt_TS_History_6']\n"
     ]
    }
   ],
   "source": [
    "column_list = fl.columns\n",
    "nan_count = np.zeros(len(column_list))\n",
    "\n",
    "\n",
    "fl = fl.replace(np.inf,np.nan)\n",
    "fl = fl.replace(-np.inf,np.nan)\n",
    "\n",
    "'''\n",
    "REPLACING ALL INFINITE VALUES WITH NaN BECAUSE SCIKIT LEARN CANNOT READ THEM\n",
    "'''\n",
    "\n",
    "for i in range(0,len(column_list)):\n",
    "    n_nans = (1 - (fl[column_list[i]].count()/len(fl[column_list[i]]))) * 100\n",
    "    #print('nans in ' + x + ': ' + str(n_nans))\n",
    "    nan_count[i] = n_nans\n",
    "\n",
    "\n",
    "nan_data = np.stack((column_list,nan_count),axis=1)\n",
    "nc = pd.DataFrame(nan_data,columns=['Parameter','Percentage NaNs'])\n",
    "nc = nc.drop([0])\n",
    "nc.to_csv('..\\\\Fermi-LAT Data\\\\NaN_percentage_by_column.csv')\n",
    "\n",
    "drop_cols = np.array([])\n",
    "\n",
    "for i in range(1,len(nc)):\n",
    "    if nc['Parameter'][i] == 'CLASS1':\n",
    "        pass\n",
    "    elif nc['Percentage NaNs'][i] >= 1 :\n",
    "        nc_sub20 = nc.drop([i])\n",
    "        drop_cols = np.append(drop_cols,nc['Parameter'][i])\n",
    "\n",
    "#nc_sub20.to_csv('NaN_percentage_by_column_sub20.csv')\n",
    "\n",
    "fl_sub20 = fl.drop(columns=drop_cols)\n",
    "\n",
    "fl = fl_sub20.dropna()\n",
    "print(drop_cols)"
   ]
  },
  {
   "cell_type": "code",
   "execution_count": 8,
   "metadata": {},
   "outputs": [
    {
     "data": {
      "text/plain": [
       "\"\\ndef LogParabola(E,E_0,K,alpha,beta):\\n    # E is the independent variable, E_0 is the Pivot_Energy, K is LP_Flux_Density, alpha is LP_Index, and beta is LP_beta\\n    return K*((E/E_0)**(-alpha-(beta*np.log(E/E_0))))\\n\\ndef PLSuperExpCutoff(E,E_0,K,gamma,b,d):\\n    # E is the independent variable, E_0 is the Pivot_Energy, K is PLEC_Flux_Density, gamma is PLEC_Index, a is PLEC_Expfactor and b is PLEC_Exp_Index\\n    return K*((E/E_0)**((d/b)-gamma))*(np.exp((d/(b**2))*(1-(E/E_0)**b)))\\n\\ndef PowerLaw(E,E_0,K,gamma):\\n    # E is the independent variable, E_0 is the Pivot_Energy, K is PL_Flux_Density, gamma is PL_Index\\n    return K*((E/E_0)**(-gamma))\\n\\nE = np.arange(50*10**6, 1*10**12,10**6)\\n\\nindex = 42\\nE_0 = fl['Pivot_Energy'][index]\\nK_pl = fl['PL_Flux_Density'][index]\\ngamma_pl = fl['PL_Index'][index]\\nK_plec = fl['PLEC_Flux_Density'][index]\\ngamma_plec = fl['PLEC_IndexS'][index]\\nd_plec = fl['PLEC_ExpfactorS'][index]\\nb_plec = fl['PLEC_Exp_Index'][index]\\nK_lp = fl['LP_Flux_Density'][index]\\nalpha_lp = fl['LP_Index'][index]\\nbeta_lp = fl['LP_beta'][index]\\n\\n\\nfluxband = [fl['Flux_Band_0'][index],fl['Flux_Band_1'][index],fl['Flux_Band_2'][index],fl['Flux_Band_3'][index],fl['Flux_Band_4'][index],\\n            fl['Flux_Band_5'][index],fl['Flux_Band_6'][index],fl['Flux_Band_7'][index]]\\n\\n# 50-100MeV, 100-300MeV, 300MeV-1GeV,1-3GeV,3-10GeV,10-30GeV,30-100GeV,100GeV-1TeV\\nlocs = [75*10**6,200*10**6,650*10**6,2*10**9,6.5*10**9,20*10**9,65*10**9,550*10**9]\\nwidths = [50*10**6,200*10**6,700*10**6,2*10**9,7*10**9,20*10**9,70*10**9,900*10**9]\\n\\navgN = np.array(fluxband)/np.array(widths)\\n\\n\\n#how many N between 2 energies, divide by width of limits to get average N\\nN=np.zeros(len(E-1))\\nif fermi_lat['SpectrumType'][index]=='LogParabola':\\n    print('LP')\\n    for i in range(0,len(E)-1):\\n        res1,err1=quad(LogParabola,E[i],E[i+1],args=(E_0,K_lp,alpha_lp,beta_lp))\\n        res = res1/10**6\\n        N[i]=res\\nelif fermi_lat['SpectrumType'][index] == 'PLSuperExpCutoff':\\n    print('PLEC')\\n    for i in range(0,len(E)-1):\\n        res1,err1=quad(PLSuperExpCutoff,E[i],E[i+1],args=(E_0,K_plec,gamma_plec,b_plec,d_plec))\\n        res = res1\\n        N[i]=res\\nelif fermi_lat['SpectrumType'][index] == 'PowerLaw':\\n    print('PL')\\n    for i in range(0,len(E)-1):\\n        res1,err1=quad(PowerLaw,E[i],E[i+1],args=(E_0,K_pl,gamma_pl))\\n        res = res1\\n        N[i]=res\\n\\n\\nfig, ax = plt.subplots()\\nax.plot(E,N)\\nprint(N)\\nax.scatter(locs,avgN)\\nax.set_xlim(0,10**(12)) \""
      ]
     },
     "execution_count": 8,
     "metadata": {},
     "output_type": "execute_result"
    }
   ],
   "source": [
    "import matplotlib.pyplot as plt\n",
    "from scipy.integrate import quad\n",
    "'''\n",
    "def LogParabola(E,E_0,K,alpha,beta):\n",
    "    # E is the independent variable, E_0 is the Pivot_Energy, K is LP_Flux_Density, alpha is LP_Index, and beta is LP_beta\n",
    "    return K*((E/E_0)**(-alpha-(beta*np.log(E/E_0))))\n",
    "\n",
    "def PLSuperExpCutoff(E,E_0,K,gamma,b,d):\n",
    "    # E is the independent variable, E_0 is the Pivot_Energy, K is PLEC_Flux_Density, gamma is PLEC_Index, a is PLEC_Expfactor and b is PLEC_Exp_Index\n",
    "    return K*((E/E_0)**((d/b)-gamma))*(np.exp((d/(b**2))*(1-(E/E_0)**b)))\n",
    "\n",
    "def PowerLaw(E,E_0,K,gamma):\n",
    "    # E is the independent variable, E_0 is the Pivot_Energy, K is PL_Flux_Density, gamma is PL_Index\n",
    "    return K*((E/E_0)**(-gamma))\n",
    "\n",
    "E = np.arange(50*10**6, 1*10**12,10**6)\n",
    "\n",
    "index = 42\n",
    "E_0 = fl['Pivot_Energy'][index]\n",
    "K_pl = fl['PL_Flux_Density'][index]\n",
    "gamma_pl = fl['PL_Index'][index]\n",
    "K_plec = fl['PLEC_Flux_Density'][index]\n",
    "gamma_plec = fl['PLEC_IndexS'][index]\n",
    "d_plec = fl['PLEC_ExpfactorS'][index]\n",
    "b_plec = fl['PLEC_Exp_Index'][index]\n",
    "K_lp = fl['LP_Flux_Density'][index]\n",
    "alpha_lp = fl['LP_Index'][index]\n",
    "beta_lp = fl['LP_beta'][index]\n",
    "\n",
    "\n",
    "fluxband = [fl['Flux_Band_0'][index],fl['Flux_Band_1'][index],fl['Flux_Band_2'][index],fl['Flux_Band_3'][index],fl['Flux_Band_4'][index],\n",
    "            fl['Flux_Band_5'][index],fl['Flux_Band_6'][index],fl['Flux_Band_7'][index]]\n",
    "\n",
    "# 50-100MeV, 100-300MeV, 300MeV-1GeV,1-3GeV,3-10GeV,10-30GeV,30-100GeV,100GeV-1TeV\n",
    "locs = [75*10**6,200*10**6,650*10**6,2*10**9,6.5*10**9,20*10**9,65*10**9,550*10**9]\n",
    "widths = [50*10**6,200*10**6,700*10**6,2*10**9,7*10**9,20*10**9,70*10**9,900*10**9]\n",
    "\n",
    "avgN = np.array(fluxband)/np.array(widths)\n",
    "\n",
    "\n",
    "#how many N between 2 energies, divide by width of limits to get average N\n",
    "N=np.zeros(len(E-1))\n",
    "if fermi_lat['SpectrumType'][index]=='LogParabola':\n",
    "    print('LP')\n",
    "    for i in range(0,len(E)-1):\n",
    "        res1,err1=quad(LogParabola,E[i],E[i+1],args=(E_0,K_lp,alpha_lp,beta_lp))\n",
    "        res = res1/10**6\n",
    "        N[i]=res\n",
    "elif fermi_lat['SpectrumType'][index] == 'PLSuperExpCutoff':\n",
    "    print('PLEC')\n",
    "    for i in range(0,len(E)-1):\n",
    "        res1,err1=quad(PLSuperExpCutoff,E[i],E[i+1],args=(E_0,K_plec,gamma_plec,b_plec,d_plec))\n",
    "        res = res1\n",
    "        N[i]=res\n",
    "elif fermi_lat['SpectrumType'][index] == 'PowerLaw':\n",
    "    print('PL')\n",
    "    for i in range(0,len(E)-1):\n",
    "        res1,err1=quad(PowerLaw,E[i],E[i+1],args=(E_0,K_pl,gamma_pl))\n",
    "        res = res1\n",
    "        N[i]=res\n",
    "\n",
    "\n",
    "fig, ax = plt.subplots()\n",
    "ax.plot(E,N)\n",
    "print(N)\n",
    "ax.scatter(locs,avgN)\n",
    "ax.set_xlim(0,10**(12)) '''\n"
   ]
  },
  {
   "cell_type": "code",
   "execution_count": 6,
   "metadata": {},
   "outputs": [
    {
     "name": "stdout",
     "output_type": "stream",
     "text": [
      "5.4647471443847184e-12\n"
     ]
    },
    {
     "ename": "",
     "evalue": "",
     "output_type": "error",
     "traceback": [
      "\u001b[1;31mThe Kernel crashed while executing code in the current cell or a previous cell. \n",
      "\u001b[1;31mPlease review the code in the cell(s) to identify a possible cause of the failure. \n",
      "\u001b[1;31mClick <a href='https://aka.ms/vscodeJupyterKernelCrash'>here</a> for more info. \n",
      "\u001b[1;31mView Jupyter <a href='command:jupyter.viewOutput'>log</a> for further details."
     ]
    }
   ],
   "source": [
    "locs = [75*10**6,200*10**6,650*10**6,2*10**9,6.5*10**9,20*10**9,65*10**9,550*10**9]\n",
    "widths = [50*10**6,200*10**6,700*10**6,2*10**9,7*10**9,20*10**9,70*10**9,900*10**9]\n",
    "\n",
    "#fluxband = np.array(fluxband)\n",
    "widths = np.array(widths)\n",
    "locs = np.array(locs)\n",
    "\n",
    "for i in range(0,len(locs)):\n",
    "    avgval = locs[i] + 0.5*widths[i]\n",
    "    \n",
    "\n",
    "h = 6.63*(10**(-34))\n",
    "\n",
    "\n",
    "for i in range(0,8):\n",
    "    for j in range(0,8):\n",
    "        if i < j:\n",
    "            fl_cl['HR_' + str(i)+str(j)]=np.zeros(len(fl_cl))\n",
    "\n",
    "pd.set_option('max_seq_item', None)\n",
    "\n",
    "\n",
    "#for i in range(0,7):\n",
    "#        for j in range(0,7):\n",
    "#            if i < j:\n",
    "#                fl_cl.insert(1,'HR_' +str(i)+str(j),np.zeros(len(fl_cl)))\n",
    "fl_cl.to_csv('test.csv')\n",
    "pd.options.mode.chained_assignment = None \n",
    "\n",
    "print(fl_cl['Flux_Band_5'][122])\n",
    "\n",
    "for index, row in fl_cl.iterrows():\n",
    "\n",
    "    fluxband = [fl_cl['Flux_Band_0'][index],fl_cl['Flux_Band_1'][index],fl_cl['Flux_Band_2'][index],fl_cl['Flux_Band_3'][index],fl_cl['Flux_Band_4'][index],\n",
    "                fl_cl['Flux_Band_5'][index],fl_cl['Flux_Band_6'][index],fl_cl['Flux_Band_7'][index]]\n",
    "\n",
    "    logE = np.log(h*avgval*np.array(fluxband))\n",
    "    HardnessRatios = np.ndarray((len(logE),len(logE)))\n",
    "\n",
    "    for i in range(0,len(logE)):\n",
    "        for j in range(0,len(logE)):\n",
    "\n",
    "            HardnessRatios[i,j] = (logE[j]-logE[i])/(logE[j]+logE[i])\n",
    "    \n",
    "\n",
    "\n",
    "    for i in range(0,len(logE)):\n",
    "        for j in range(0,len(logE)):\n",
    "            if i < j:\n",
    "                fl_cl['HR_' + str(i) + str(j)][index] = HardnessRatios[i,j]            \n",
    "            else:\n",
    "                pass\n",
    "\n",
    "fl_cl.to_csv('..\\\\Fermi-LAT Data\\\\fl_withbcus.csv')\n"
   ]
  },
  {
   "cell_type": "code",
   "execution_count": 10,
   "metadata": {},
   "outputs": [
    {
     "ename": "NameError",
     "evalue": "name 'E' is not defined",
     "output_type": "error",
     "traceback": [
      "\u001b[1;31m---------------------------------------------------------------------------\u001b[0m",
      "\u001b[1;31mNameError\u001b[0m                                 Traceback (most recent call last)",
      "Cell \u001b[1;32mIn[10], line 13\u001b[0m\n\u001b[0;32m     11\u001b[0m fig, ax \u001b[38;5;241m=\u001b[39m plt\u001b[38;5;241m.\u001b[39msubplots(figsize \u001b[38;5;241m=\u001b[39m (\u001b[38;5;241m6\u001b[39m,\u001b[38;5;241m4\u001b[39m))\n\u001b[0;32m     12\u001b[0m \u001b[38;5;66;03m#fig.tight_layout(rect=[0,0,.8,1])\u001b[39;00m\n\u001b[1;32m---> 13\u001b[0m ax\u001b[38;5;241m.\u001b[39mplot(\u001b[43mE\u001b[49m,N)\n\u001b[0;32m     14\u001b[0m ax\u001b[38;5;241m.\u001b[39mscatter(locs,avgN,marker \u001b[38;5;241m=\u001b[39m \u001b[38;5;124m'\u001b[39m\u001b[38;5;124mx\u001b[39m\u001b[38;5;124m'\u001b[39m, color \u001b[38;5;241m=\u001b[39m \u001b[38;5;124m'\u001b[39m\u001b[38;5;124mred\u001b[39m\u001b[38;5;124m'\u001b[39m\n\u001b[0;32m     15\u001b[0m         )\n\u001b[0;32m     16\u001b[0m ax\u001b[38;5;241m.\u001b[39mset_xlim(\u001b[38;5;241m-\u001b[39m\u001b[38;5;241m5\u001b[39m\u001b[38;5;241m*\u001b[39m\u001b[38;5;241m10\u001b[39m\u001b[38;5;241m*\u001b[39m\u001b[38;5;241m*\u001b[39m\u001b[38;5;241m8\u001b[39m,\u001b[38;5;241m0.75\u001b[39m\u001b[38;5;241m*\u001b[39m\u001b[38;5;241m10\u001b[39m\u001b[38;5;241m*\u001b[39m\u001b[38;5;241m*\u001b[39m\u001b[38;5;241m10\u001b[39m)\n",
      "\u001b[1;31mNameError\u001b[0m: name 'E' is not defined"
     ]
    },
    {
     "data": {
      "image/png": "[encoded data removed]",
      "text/plain": [
       "<Figure size 600x400 with 1 Axes>"
      ]
     },
     "metadata": {},
     "output_type": "display_data"
    }
   ],
   "source": [
    "from os.path import basename, exists\n",
    "def download(url):\n",
    "    filename = basename(url)\n",
    "    if not exists(filename):\n",
    "        from urllib.request import urlretrieve\n",
    "        local, _ = urlretrieve(url, filename)\n",
    "        print('Downloaded ' + local)\n",
    "        \n",
    "download('https://github.com/AllenDowney/AstronomicalData/raw/main/' + 'az-paper-twocol.mplstyle')\n",
    "plt.style.use('./az-paper-twocol.mplstyle')\n",
    "fig, ax = plt.subplots(figsize = (6,4))\n",
    "#fig.tight_layout(rect=[0,0,.8,1])\n",
    "ax.plot(E,N)\n",
    "ax.scatter(locs,avgN,marker = 'x', color = 'red'\n",
    "        )\n",
    "ax.set_xlim(-5*10**8,0.75*10**10)\n",
    "ax.set_xlabel('Energy (eV)', fontsize =11)\n",
    "ax.set_ylabel('Photon Flux (s cm2)', fontsize =11)\n",
    "#ax.set_xscale('log')"
   ]
  }
 ],
 "metadata": {
  "kernelspec": {
   "display_name": "Python 3",
   "language": "python",
   "name": "python3"
  },
  "language_info": {
   "codemirror_mode": {
    "name": "ipython",
    "version": 3
   },
   "file_extension": ".py",
   "mimetype": "text/x-python",
   "name": "python",
   "nbconvert_exporter": "python",
   "pygments_lexer": "ipython3",
   "version": "3.11.9"
  }
 },
 "nbformat": 4,
 "nbformat_minor": 2
}
