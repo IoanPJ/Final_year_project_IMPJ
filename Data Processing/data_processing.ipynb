{
 "cells": [
  {
   "cell_type": "code",
   "execution_count": 3,
   "metadata": {},
   "outputs": [
    {
     "name": "stdout",
     "output_type": "stream",
     "text": [
      "<astropy.io.fits.hdu.table.BinTableHDU object at 0x000001D31F97BD50>\n",
      "   Source_Name     DataRelease RAJ2000  ... Unc_Counterpart Flags\n",
      "                                 deg    ...       deg            \n",
      "------------------ ----------- -------- ... --------------- -----\n",
      "4FGL J0000.3-7355            1   0.0983 ...              --     0\n",
      "4FGL J0000.5+0743            2   0.1375 ...              --     0\n",
      "4FGL J0000.7+2530            3   0.1878 ...              --     0\n",
      "4FGL J0001.2+4741            1   0.3126 ...         0.00000     0\n",
      "4FGL J0001.2-0747            1   0.3151 ...         0.00000     0\n",
      "4FGL J0001.4-0010            3   0.3717 ...         0.00450     0\n",
      "4FGL J0001.5+2113            1   0.3815 ...         0.00000     0\n",
      "4FGL J0001.6+3503            3   0.4098 ...              --     0\n",
      "4FGL J0001.6-4156            1   0.4165 ...         0.00007     0\n",
      "4FGL J0001.8-2153            3   0.4647 ...         0.00000  4096\n",
      "               ...         ...      ... ...             ...   ...\n",
      "4FGL J2359.0-3038            1 359.7719 ...         0.00000     0\n",
      "4FGL J2359.1+1719            1 359.7756 ...         0.00000     0\n",
      "4FGL J2359.2-3134            2 359.8167 ...         0.00000    16\n",
      "4FGL J2359.3+0215            2 359.8329 ...         0.00450     0\n",
      "4FGL J2359.3+2502            3 359.8342 ...              --     0\n",
      "4FGL J2359.3-2049            1 359.8357 ...         0.00000     2\n",
      "4FGL J2359.3+1444            1 359.8390 ...              --     2\n",
      "4FGL J2359.7-5041            3 359.9365 ...         0.00450     0\n",
      "4FGL J2359.9-3736            1 359.9816 ...         0.00000     0\n",
      "4FGL J2359.9+3145            3 359.9908 ...         0.00450     0\n",
      "Length = 7195 rows\n"
     ]
    }
   ],
   "source": [
    "import pandas as pd\n",
    "from astropy.table import Table\n",
    "from astropy.io import fits\n",
    "from astropy.io import ascii\n",
    "\n",
    "#fits_image_filename = fits.util.get_testdata_filepath('gll_psc_v32.fit')\n",
    "\n",
    "hdul = fits.open('gll_psc_v32.fit')\n",
    "print(hdul[1])\n",
    "\n",
    "table = Table.read('gll_psc_v32.fit',hdu=1)\n",
    "ascii.write(table, 'hdu1.ecsv', overwrite=True, format = 'ecsv')\n",
    "#df = table.to_pandas()\n",
    "#df.to_csv('gll.csv')\n",
    "print(table)"
   ]
  },
  {
   "cell_type": "code",
   "execution_count": 6,
   "metadata": {},
   "outputs": [
    {
     "name": "stdout",
     "output_type": "stream",
     "text": [
      "Index(['Source_Name', 'DataRelease', 'RAJ2000', 'DEJ2000', 'GLON', 'GLAT',\n",
      "       'Conf_68_SemiMajor', 'Conf_68_SemiMinor', 'Conf_68_PosAng',\n",
      "       'Conf_95_SemiMajor', 'Conf_95_SemiMinor', 'Conf_95_PosAng', 'ROI_num',\n",
      "       'Extended_Source_Name', 'Signif_Avg', 'Pivot_Energy', 'Flux1000',\n",
      "       'Unc_Flux1000', 'Energy_Flux100', 'Unc_Energy_Flux100', 'SpectrumType',\n",
      "       'PL_Flux_Density', 'Unc_PL_Flux_Density', 'PL_Index', 'Unc_PL_Index',\n",
      "       'LP_Flux_Density', 'Unc_LP_Flux_Density', 'LP_Index', 'Unc_LP_Index',\n",
      "       'LP_beta', 'Unc_LP_beta', 'LP_SigCurv', 'LP_EPeak', 'Unc_LP_EPeak',\n",
      "       'PLEC_Flux_Density', 'Unc_PLEC_Flux_Density', 'PLEC_IndexS',\n",
      "       'Unc_PLEC_IndexS', 'PLEC_ExpfactorS', 'Unc_PLEC_ExpfactorS',\n",
      "       'PLEC_Exp_Index', 'Unc_PLEC_Exp_Index', 'PLEC_SigCurv', 'PLEC_EPeak',\n",
      "       'Unc_PLEC_EPeak', 'Npred', 'Flux_Band', 'Unc_Flux_Band', 'nuFnu_Band',\n",
      "       'Sqrt_TS_Band', 'Variability_Index', 'Frac_Variability',\n",
      "       'Unc_Frac_Variability', 'Signif_Peak', 'Flux_Peak', 'Unc_Flux_Peak',\n",
      "       'Time_Peak', 'Peak_Interval', 'Flux_History', 'Unc_Flux_History',\n",
      "       'Sqrt_TS_History', 'ASSOC_4FGL', 'ASSOC_FGL', 'ASSOC_FHL', 'ASSOC_GAM1',\n",
      "       'ASSOC_GAM2', 'ASSOC_GAM3', 'TEVCAT_FLAG', 'ASSOC_TEV', 'CLASS1',\n",
      "       'CLASS2', 'ASSOC1', 'ASSOC2', 'ASSOC_PROB_BAY', 'ASSOC_PROB_LR',\n",
      "       'RA_Counterpart', 'DEC_Counterpart', 'Unc_Counterpart', 'Flags'],\n",
      "      dtype='object')\n"
     ]
    }
   ],
   "source": [
    "table = ascii.read('hdu1.txt')\n",
    "\n",
    "fermi_lat = table.to_pandas()\n",
    "print(fermi_lat.columns)"
   ]
  },
  {
   "cell_type": "code",
   "execution_count": 8,
   "metadata": {},
   "outputs": [],
   "source": [
    "radiogal = ['rdg']\n",
    "known_radio = pd.DataFrame(radiogal, columns=['CLASS1'])\n",
    "\n",
    "fermi_lat_radioonly = pd.DataFrame.merge(known_radio,fermi_lat, how = 'inner')\n",
    "\n",
    "fermi_lat_radioonly.to_csv('known_radiogalaxy_only_data.csv')"
   ]
  },
  {
   "cell_type": "code",
   "execution_count": 66,
   "metadata": {},
   "outputs": [
    {
     "data": {
      "text/plain": [
       "<matplotlib.collections.PathCollection at 0x1d323335010>"
      ]
     },
     "execution_count": 66,
     "metadata": {},
     "output_type": "execute_result"
    },
    {
     "data": {
      "image/png": "[encoded data removed]",
      "text/plain": [
       "<Figure size 640x480 with 1 Axes>"
      ]
     },
     "metadata": {},
     "output_type": "display_data"
    }
   ],
   "source": [
    "import matplotlib.pyplot as plt\n",
    "import numpy as np\n",
    "import awkward as ak\n",
    "\n",
    "obj_data = fermi_lat_radioonly['Flux_Band'][0]\n",
    "obj_data = obj_data.replace('[','') \n",
    "obj_data = obj_data.replace(']','') \n",
    "float_data = [float(idx) for idx in obj_data.split(',')]\n",
    "\n",
    "plt.scatter(np.linspace(0,len(float_data),num=len(float_data)),float_data)"
   ]
  },
  {
   "cell_type": "code",
   "execution_count": 67,
   "metadata": {},
   "outputs": [
    {
     "name": "stdout",
     "output_type": "stream",
     "text": [
      "0        PowerLaw\n",
      "1     LogParabola\n",
      "2        PowerLaw\n",
      "3        PowerLaw\n",
      "4        PowerLaw\n",
      "5        PowerLaw\n",
      "6        PowerLaw\n",
      "7        PowerLaw\n",
      "8        PowerLaw\n",
      "9     LogParabola\n",
      "10       PowerLaw\n",
      "11       PowerLaw\n",
      "12       PowerLaw\n",
      "13       PowerLaw\n",
      "14    LogParabola\n",
      "15       PowerLaw\n",
      "16       PowerLaw\n",
      "17       PowerLaw\n",
      "18       PowerLaw\n",
      "19       PowerLaw\n",
      "20       PowerLaw\n",
      "21    LogParabola\n",
      "22       PowerLaw\n",
      "23       PowerLaw\n",
      "24    LogParabola\n",
      "25    LogParabola\n",
      "26       PowerLaw\n",
      "27       PowerLaw\n",
      "28       PowerLaw\n",
      "29    LogParabola\n",
      "30       PowerLaw\n",
      "31       PowerLaw\n",
      "32    LogParabola\n",
      "33       PowerLaw\n",
      "34    LogParabola\n",
      "35       PowerLaw\n",
      "36       PowerLaw\n",
      "37    LogParabola\n",
      "38       PowerLaw\n",
      "39       PowerLaw\n",
      "40       PowerLaw\n",
      "41    LogParabola\n",
      "42       PowerLaw\n",
      "43       PowerLaw\n",
      "44       PowerLaw\n",
      "45       PowerLaw\n",
      "46    LogParabola\n",
      "Name: SpectrumType, dtype: object\n"
     ]
    }
   ],
   "source": [
    "print(fermi_lat_radioonly[''])"
   ]
  }
 ],
 "metadata": {
  "kernelspec": {
   "display_name": "Python 3",
   "language": "python",
   "name": "python3"
  },
  "language_info": {
   "codemirror_mode": {
    "name": "ipython",
    "version": 3
   },
   "file_extension": ".py",
   "mimetype": "text/x-python",
   "name": "python",
   "nbconvert_exporter": "python",
   "pygments_lexer": "ipython3",
   "version": "3.11.6"
  },
  "orig_nbformat": 4
 },
 "nbformat": 4,
 "nbformat_minor": 2
}
