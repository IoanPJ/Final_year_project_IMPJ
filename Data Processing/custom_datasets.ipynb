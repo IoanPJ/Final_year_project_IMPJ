{
 "cells": [
  {
   "cell_type": "code",
   "execution_count": 21,
   "metadata": {},
   "outputs": [],
   "source": [
    "import pandas as pd\n",
    "import numpy as np"
   ]
  },
  {
   "cell_type": "code",
   "execution_count": 27,
   "metadata": {},
   "outputs": [
    {
     "name": "stdout",
     "output_type": "stream",
     "text": [
      "2363\n",
      "2363\n"
     ]
    }
   ],
   "source": [
    "full = pd.read_csv('..//Fermi-LAT Data\\\\fl_numericalonly_nopositional_withclasses.csv',index_col=0)\n",
    "sub = pd.read_csv('..\\\\Fermi-LAT Data Subsets\\\\fl_wrappered_10.csv',index_col=0)\n",
    "'''\n",
    "mask1 = full['CLASS1'] == 4\n",
    "mask2 = full['CLASS1'] == 0\n",
    "mask3 = full['CLASS1'] == 3\n",
    "\n",
    "full = full[~mask1]\n",
    "full = full[~mask2]\n",
    "full = full[~mask3]\n",
    "'''\n",
    "print(len(full))\n",
    "print(len(sub))"
   ]
  },
  {
   "cell_type": "code",
   "execution_count": 28,
   "metadata": {},
   "outputs": [],
   "source": [
    "pl_index = np.array(full['PL_Index'])\n",
    "lp_index = np.array(full['LP_Index'])\n",
    "plec_index = np.array(full['PLEC_IndexS'])\n",
    "pl = np.array(full['PL'])\n",
    "lp = np.array(full['LP'])\n",
    "plec = np.array(full['PLEC'])\n",
    "\n",
    "index = np.zeros(len(pl_index))\n",
    "for i in range(0,len(pl_index)):\n",
    "    if pl[i] == 1:\n",
    "        index[i] = pl_index[i]\n",
    "    elif lp[i] == 1:\n",
    "        index[i] = lp_index[i]\n",
    "    elif plec[i] == 1:\n",
    "        index[i] == plec_index[i]\n",
    "    else:\n",
    "        print('Error')"
   ]
  },
  {
   "cell_type": "code",
   "execution_count": 31,
   "metadata": {},
   "outputs": [
    {
     "name": "stdout",
     "output_type": "stream",
     "text": [
      "2363\n"
     ]
    }
   ],
   "source": [
    "\n",
    "print(len(full))\n",
    "sub['Photon Index'] = index\n",
    "sub['Variability_Index'] = full['Variability_Index']\n",
    "\n",
    "sub.to_csv('..\\\\Fermi-LAT Data Subsets\\\\chiaro_12.csv')"
   ]
  }
 ],
 "metadata": {
  "kernelspec": {
   "display_name": "Python 3",
   "language": "python",
   "name": "python3"
  },
  "language_info": {
   "codemirror_mode": {
    "name": "ipython",
    "version": 3
   },
   "file_extension": ".py",
   "mimetype": "text/x-python",
   "name": "python",
   "nbconvert_exporter": "python",
   "pygments_lexer": "ipython3",
   "version": "3.11.9"
  }
 },
 "nbformat": 4,
 "nbformat_minor": 2
}
