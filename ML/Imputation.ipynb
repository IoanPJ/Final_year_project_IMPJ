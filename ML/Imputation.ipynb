{
 "cells": [
  {
   "cell_type": "code",
   "execution_count": 47,
   "metadata": {},
   "outputs": [
    {
     "data": {
      "text/plain": [
       "Index(['Unnamed: 0', 'Conf_68_SemiMajor', 'Conf_68_SemiMinor',\n",
       "       'Conf_68_PosAng', 'Conf_95_SemiMajor', 'Conf_95_SemiMinor',\n",
       "       'Conf_95_PosAng', 'ROI_num', 'Signif_Avg', 'Pivot_Energy',\n",
       "       ...\n",
       "       'Unc_Flux_History_6', 'Unc_Flux_History_7', 'Sqrt_TS_History_0',\n",
       "       'Sqrt_TS_History_1', 'Sqrt_TS_History_2', 'Sqrt_TS_History_3',\n",
       "       'Sqrt_TS_History_4', 'Sqrt_TS_History_5', 'Sqrt_TS_History_6',\n",
       "       'Sqrt_TS_History_7'],\n",
       "      dtype='object', length=109)"
      ]
     },
     "execution_count": 47,
     "metadata": {},
     "output_type": "execute_result"
    }
   ],
   "source": [
    "import numpy as np\n",
    "import pandas as pd\n",
    "\n",
    "fl = pd.read_csv('..\\ML_input.csv')\n",
    "fl.columns"
   ]
  },
  {
   "cell_type": "code",
   "execution_count": 48,
   "metadata": {},
   "outputs": [],
   "source": [
    "column_list = fl.columns\n",
    "nan_count = np.zeros(len(column_list))\n",
    "\n",
    "\n",
    "for i in range(0,len(column_list)):\n",
    "    n_nans = (1 - (fl[column_list[i]].count()/len(fl[column_list[i]]))) * 100\n",
    "    #print('nans in ' + x + ': ' + str(n_nans))\n",
    "    nan_count[i] = n_nans\n",
    "\n",
    "nan_data = np.stack((column_list,nan_count),axis=1)\n",
    "nc = pd.DataFrame(nan_data,columns=['Parameter','Percentage NaNs'])\n",
    "nc = nc.drop([0])\n",
    "nc.to_csv('NaN_percentage_by_column.csv')\n"
   ]
  },
  {
   "cell_type": "code",
   "execution_count": 56,
   "metadata": {},
   "outputs": [
    {
     "data": {
      "text/plain": [
       "<bound method NDFrame.head of       Unnamed: 0  Conf_68_SemiMajor  Conf_68_SemiMinor  Conf_68_PosAng  \\\n",
       "0              0           0.032378           0.031453          -62.70   \n",
       "1              1           0.094544           0.069999          -10.22   \n",
       "2              2           0.051373           0.041012           82.40   \n",
       "3              3           0.036880           0.033180          -45.90   \n",
       "4              4           0.018440           0.017577           64.10   \n",
       "...          ...                ...                ...             ...   \n",
       "7190        7190           0.024607           0.021462          -73.90   \n",
       "7191        7191           0.136728           0.088377          -65.40   \n",
       "7192        7192           0.130685           0.103919           84.49   \n",
       "7193        7193           0.050757           0.043541          -58.77   \n",
       "7194        7194           0.018934           0.017947          -74.10   \n",
       "\n",
       "      Conf_95_SemiMajor  Conf_95_SemiMinor  Conf_95_PosAng  ROI_num  \\\n",
       "0                0.0525             0.0510          -62.70     1726   \n",
       "1                0.1533             0.1135          -10.22      106   \n",
       "2                0.0833             0.0665           82.40     1344   \n",
       "3                0.0598             0.0538          -45.90      668   \n",
       "4                0.0299             0.0285           64.10      671   \n",
       "...                 ...                ...             ...      ...   \n",
       "7190             0.0399             0.0348          -73.90     1693   \n",
       "7191             0.2217             0.1433          -65.40      345   \n",
       "7192             0.2119             0.1685           84.49      467   \n",
       "7193             0.0823             0.0706          -58.77      257   \n",
       "7194             0.0307             0.0291          -74.10      254   \n",
       "\n",
       "      Signif_Avg  Pivot_Energy  ...  Unc_Flux_History_6  Unc_Flux_History_7  \\\n",
       "0       8.492646     1917.7155  ...       -1.381632e-09        1.564121e-09   \n",
       "1       5.681097     1379.8829  ...       -2.614770e-09        2.830102e-09   \n",
       "2       4.197268     5989.2630  ...       -6.179571e-10        8.322253e-10   \n",
       "3       5.523873     3218.1000  ...                 NaN        1.176927e-09   \n",
       "4      24.497220     2065.1467  ...       -2.337450e-09        2.431558e-09   \n",
       "...          ...           ...  ...                 ...                 ...   \n",
       "7190   18.289204     2930.8423  ...       -7.910897e-10        9.462967e-10   \n",
       "7191    7.791155      581.7081  ...       -2.418383e-09        2.647341e-09   \n",
       "7192    5.150436      717.0486  ...                 NaN        1.623647e-09   \n",
       "7193   11.475555     1490.8507  ...       -4.507459e-10        5.370590e-10   \n",
       "7194   11.307343     3988.5469  ...       -1.042320e-09        1.211548e-09   \n",
       "\n",
       "      Sqrt_TS_History_0  Sqrt_TS_History_1  Sqrt_TS_History_2  \\\n",
       "0                   NaN           1.654728           3.609317   \n",
       "1              1.432378                NaN           1.410738   \n",
       "2              3.760440                NaN                NaN   \n",
       "3              1.998911           4.797026           3.817471   \n",
       "4              7.926063           2.934573           5.890346   \n",
       "...                 ...                ...                ...   \n",
       "7190           4.033516           1.619078           5.508992   \n",
       "7191           4.020970           3.214163           1.279778   \n",
       "7192           1.792476           2.161854           1.881382   \n",
       "7193           3.313244           4.635128           3.939034   \n",
       "7194           0.547949           2.911589           3.810685   \n",
       "\n",
       "      Sqrt_TS_History_3  Sqrt_TS_History_4  Sqrt_TS_History_5  \\\n",
       "0              3.992120           2.024323           3.840539   \n",
       "1              1.999447           1.580514           1.751642   \n",
       "2              2.728904           1.231121                NaN   \n",
       "3                   NaN                NaN           0.285321   \n",
       "4             10.227452           7.208447           5.825856   \n",
       "...                 ...                ...                ...   \n",
       "7190           3.978859           5.292601           3.387712   \n",
       "7191           2.293295           1.350941           2.293291   \n",
       "7192           0.299332           1.267902           1.320493   \n",
       "7193           3.152472           3.418002           2.101004   \n",
       "7194           4.174341           4.857389           0.953843   \n",
       "\n",
       "      Sqrt_TS_History_6  Sqrt_TS_History_7  \n",
       "0              3.172182           3.046058  \n",
       "1              2.230891           2.674823  \n",
       "2              1.708250           1.292136  \n",
       "3              1.893470           0.960601  \n",
       "4              6.605715           6.771310  \n",
       "...                 ...                ...  \n",
       "7190           3.265998           5.800932  \n",
       "7191                NaN           3.164715  \n",
       "7192           0.182238           2.117821  \n",
       "7193           3.087870           0.532565  \n",
       "7194           3.883001           3.128500  \n",
       "\n",
       "[7195 rows x 103 columns]>"
      ]
     },
     "execution_count": 56,
     "metadata": {},
     "output_type": "execute_result"
    }
   ],
   "source": [
    "drop_cols = np.array([])\n",
    "\n",
    "for i in range(1,len(nc)):\n",
    "    if nc['Percentage NaNs'][i] >= 40:\n",
    "        nc_sub40 = nc.drop([i])\n",
    "        drop_cols = np.append(drop_cols,nc['Parameter'][i])\n",
    "\n",
    "nc_sub40.to_csv('NaN_percentage_by_column_sub40.csv')\n",
    "\n",
    "fl_sub40 = fl.drop(columns=drop_cols)\n",
    "\n",
    "fl_sub40.head"
   ]
  }
 ],
 "metadata": {
  "kernelspec": {
   "display_name": "Python 3",
   "language": "python",
   "name": "python3"
  },
  "language_info": {
   "codemirror_mode": {
    "name": "ipython",
    "version": 3
   },
   "file_extension": ".py",
   "mimetype": "text/x-python",
   "name": "python",
   "nbconvert_exporter": "python",
   "pygments_lexer": "ipython3",
   "version": "3.11.6"
  }
 },
 "nbformat": 4,
 "nbformat_minor": 2
}
