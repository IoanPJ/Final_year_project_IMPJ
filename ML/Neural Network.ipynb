{
 "cells": [
  {
   "cell_type": "code",
   "execution_count": null,
   "metadata": {},
   "outputs": [
    {
     "name": "stdout",
     "output_type": "stream",
     "text": [
      "1383\n",
      "470\n",
      "Index(['ASSOC_PROB_LR', 'Flux_Band_0', 'Flux_Band_1', 'Flux_Band_2',\n",
      "       'Flux_Band_3', 'Flux_Band_4', 'Flux_Band_5', 'Flux_Band_6',\n",
      "       'Flux_Band_7', 'nuFnu_Band_0', 'nuFnu_Band_1', 'nuFnu_Band_2',\n",
      "       'nuFnu_Band_3', 'nuFnu_Band_4', 'nuFnu_Band_5', 'nuFnu_Band_6',\n",
      "       'nuFnu_Band_7', 'Sqrt_TS_Band_2', 'Sqrt_TS_Band_3', 'Sqrt_TS_Band_4',\n",
      "       'Sqrt_TS_Band_5', 'Flux_History_0', 'Flux_History_1', 'Flux_History_2',\n",
      "       'Flux_History_3', 'Flux_History_4', 'Flux_History_5', 'Flux_History_6',\n",
      "       'Flux_History_7', 'Sqrt_TS_History_0', 'Sqrt_TS_History_1',\n",
      "       'Sqrt_TS_History_2', 'Sqrt_TS_History_3', 'Sqrt_TS_History_4',\n",
      "       'Sqrt_TS_History_5', 'Sqrt_TS_History_6', 'Sqrt_TS_History_7',\n",
      "       'CLASS1'],\n",
      "      dtype='object')\n"
     ]
    }
   ],
   "source": [
    "import pandas as pd\n",
    "import numpy as np\n",
    "from sklearn.datasets import load_digits\n",
    "from sklearn.model_selection import train_test_split\n",
    "from sklearn.neural_network import MLPClassifier\n",
    "from sklearn.metrics import confusion_matrix, accuracy_score\n",
    "from sklearn.preprocessing import StandardScaler  \n",
    "from sklearn.model_selection import GridSearchCV\n",
    "\n",
    "\n",
    "data = pd.read_csv('..\\\\Fermi-LAT Data\\\\fl_varranked.csv',index_col=0)\n",
    "\n",
    "'''\n",
    "In 'data' all unknown BCUs are assigned 0. \n",
    "All BLLs are assigned 1 and all FSRQs are assigned 2.\n",
    "Radio Galaxies = 3 and Other = 4\n",
    "'''\n",
    "\n",
    "mask1 = data['CLASS1'] == 4\n",
    "mask2 = data['CLASS1'] == 0\n",
    "mask3 = data['CLASS1'] == 3\n",
    "data = data[~mask1]\n",
    "data = data[~mask2]\n",
    "data = data[~mask3]\n",
    "\n",
    "''' JOINING BLLs AND FSRQs INTO A SINGLE CATEGORY '''\n",
    "\n",
    "#data = data.replace(2,1)\n",
    "\n",
    "data = data.dropna()\n",
    "\n",
    "print(len(data['CLASS1']))\n",
    "data_test = data[~(data['CLASS1'] == 1)]\n",
    "print(len(data_test['CLASS1']))\n",
    "print(len(data.columns))"
   ]
  },
  {
   "cell_type": "markdown",
   "metadata": {},
   "source": [
    "We will split the dataset (obtained from sklearn load_digits) into a training and test set using the code below "
   ]
  },
  {
   "cell_type": "code",
   "execution_count": 60,
   "metadata": {},
   "outputs": [],
   "source": [
    "\n",
    "X = data.loc[:, data.columns != 'CLASS1']\n",
    "Y = data['CLASS1']\n",
    "\n",
    "x_train, x_test, y_train, y_test = train_test_split(X, Y, test_size=0.30,random_state=4) \n",
    "# test_size set the proportion of data to use as test data. The rest of the data will be used as training data\n",
    "\n",
    "'''HIGHLY RECOMMENDED TO SCALE TRAINING DATA '''\n",
    "\n",
    "scaler = StandardScaler()  \n",
    "scaler.fit(x_train)  \n",
    "x_train = scaler.transform(x_train)  \n",
    "x_test = scaler.transform(x_test)  \n",
    "\n",
    "hl_list = []\n",
    "for i in range(12,14):\n",
    "    hl_list.append((int(i),int(2)))\n",
    "\n",
    "\n",
    "\n"
   ]
  },
  {
   "cell_type": "code",
   "execution_count": 61,
   "metadata": {},
   "outputs": [
    {
     "name": "stdout",
     "output_type": "stream",
     "text": [
      "Best parameters found:\n",
      " {'activation': 'relu', 'alpha': 1e-05, 'hidden_layer_sizes': (13, 2), 'learning_rate': 'constant', 'solver': 'adam'}\n"
     ]
    },
    {
     "name": "stderr",
     "output_type": "stream",
     "text": [
      "C:\\Users\\ioanp\\AppData\\Local\\Packages\\PythonSoftwareFoundation.Python.3.11_qbz5n2kfra8p0\\LocalCache\\local-packages\\Python311\\site-packages\\sklearn\\neural_network\\_multilayer_perceptron.py:691: ConvergenceWarning: Stochastic Optimizer: Maximum iterations (1000) reached and the optimization hasn't converged yet.\n",
      "  warnings.warn(\n"
     ]
    }
   ],
   "source": [
    "from sklearn.model_selection import GridSearchCV\n",
    "\n",
    "model_parameters = {\n",
    "        'hidden_layer_sizes':hl_list,\n",
    "        'activation':['tanh','relu'],\n",
    "        'solver':['sgd','adam'],\n",
    "        'alpha':[0.0001,0.001,0.00001],\n",
    "        'learning_rate':['constant','invscaling','adaptive']\n",
    "}\n",
    "\n",
    "clf = GridSearchCV(NN, model_parameters, n_jobs=-1, cv=3)\n",
    "clf.fit(x_train, y_train)\n",
    "\n",
    "# Best paramete set\n",
    "#print('Best parameters found:\\n', clf.best_params_)\n",
    "'''\n",
    "# All results\n",
    "means = clf.cv_results_['mean_test_score']\n",
    "stds = clf.cv_results_['std_test_score']\n",
    "for mean, std, params in zip(means, stds, clf.cv_results_['params']):\n",
    "    print(\"%0.3f (+/-%0.03f) for %r\" % (mean, std * 2, params))\n",
    "'''    \n",
    "#NN.fit(x_train, y_train)\n",
    "\n",
    "print('Best parameters found:\\n', clf.best_params_)"
   ]
  },
  {
   "cell_type": "code",
   "execution_count": 62,
   "metadata": {},
   "outputs": [
    {
     "name": "stderr",
     "output_type": "stream",
     "text": [
      "C:\\Users\\ioanp\\AppData\\Local\\Packages\\PythonSoftwareFoundation.Python.3.11_qbz5n2kfra8p0\\LocalCache\\local-packages\\Python311\\site-packages\\sklearn\\neural_network\\_multilayer_perceptron.py:691: ConvergenceWarning: Stochastic Optimizer: Maximum iterations (1000) reached and the optimization hasn't converged yet.\n",
      "  warnings.warn(\n",
      "C:\\Users\\ioanp\\AppData\\Local\\Packages\\PythonSoftwareFoundation.Python.3.11_qbz5n2kfra8p0\\LocalCache\\local-packages\\Python311\\site-packages\\sklearn\\neural_network\\_multilayer_perceptron.py:691: ConvergenceWarning: Stochastic Optimizer: Maximum iterations (1000) reached and the optimization hasn't converged yet.\n",
      "  warnings.warn(\n",
      "C:\\Users\\ioanp\\AppData\\Local\\Packages\\PythonSoftwareFoundation.Python.3.11_qbz5n2kfra8p0\\LocalCache\\local-packages\\Python311\\site-packages\\sklearn\\neural_network\\_multilayer_perceptron.py:691: ConvergenceWarning: Stochastic Optimizer: Maximum iterations (1000) reached and the optimization hasn't converged yet.\n",
      "  warnings.warn(\n",
      "C:\\Users\\ioanp\\AppData\\Local\\Packages\\PythonSoftwareFoundation.Python.3.11_qbz5n2kfra8p0\\LocalCache\\local-packages\\Python311\\site-packages\\sklearn\\neural_network\\_multilayer_perceptron.py:691: ConvergenceWarning: Stochastic Optimizer: Maximum iterations (1000) reached and the optimization hasn't converged yet.\n",
      "  warnings.warn(\n",
      "C:\\Users\\ioanp\\AppData\\Local\\Packages\\PythonSoftwareFoundation.Python.3.11_qbz5n2kfra8p0\\LocalCache\\local-packages\\Python311\\site-packages\\sklearn\\neural_network\\_multilayer_perceptron.py:691: ConvergenceWarning: Stochastic Optimizer: Maximum iterations (1000) reached and the optimization hasn't converged yet.\n",
      "  warnings.warn(\n",
      "C:\\Users\\ioanp\\AppData\\Local\\Packages\\PythonSoftwareFoundation.Python.3.11_qbz5n2kfra8p0\\LocalCache\\local-packages\\Python311\\site-packages\\sklearn\\neural_network\\_multilayer_perceptron.py:691: ConvergenceWarning: Stochastic Optimizer: Maximum iterations (1000) reached and the optimization hasn't converged yet.\n",
      "  warnings.warn(\n",
      "C:\\Users\\ioanp\\AppData\\Local\\Packages\\PythonSoftwareFoundation.Python.3.11_qbz5n2kfra8p0\\LocalCache\\local-packages\\Python311\\site-packages\\sklearn\\neural_network\\_multilayer_perceptron.py:691: ConvergenceWarning: Stochastic Optimizer: Maximum iterations (1000) reached and the optimization hasn't converged yet.\n",
      "  warnings.warn(\n",
      "C:\\Users\\ioanp\\AppData\\Local\\Packages\\PythonSoftwareFoundation.Python.3.11_qbz5n2kfra8p0\\LocalCache\\local-packages\\Python311\\site-packages\\sklearn\\neural_network\\_multilayer_perceptron.py:691: ConvergenceWarning: Stochastic Optimizer: Maximum iterations (1000) reached and the optimization hasn't converged yet.\n",
      "  warnings.warn(\n",
      "C:\\Users\\ioanp\\AppData\\Local\\Packages\\PythonSoftwareFoundation.Python.3.11_qbz5n2kfra8p0\\LocalCache\\local-packages\\Python311\\site-packages\\sklearn\\neural_network\\_multilayer_perceptron.py:691: ConvergenceWarning: Stochastic Optimizer: Maximum iterations (1000) reached and the optimization hasn't converged yet.\n",
      "  warnings.warn(\n",
      "C:\\Users\\ioanp\\AppData\\Local\\Packages\\PythonSoftwareFoundation.Python.3.11_qbz5n2kfra8p0\\LocalCache\\local-packages\\Python311\\site-packages\\sklearn\\neural_network\\_multilayer_perceptron.py:691: ConvergenceWarning: Stochastic Optimizer: Maximum iterations (1000) reached and the optimization hasn't converged yet.\n",
      "  warnings.warn(\n",
      "C:\\Users\\ioanp\\AppData\\Local\\Packages\\PythonSoftwareFoundation.Python.3.11_qbz5n2kfra8p0\\LocalCache\\local-packages\\Python311\\site-packages\\sklearn\\neural_network\\_multilayer_perceptron.py:691: ConvergenceWarning: Stochastic Optimizer: Maximum iterations (1000) reached and the optimization hasn't converged yet.\n",
      "  warnings.warn(\n",
      "C:\\Users\\ioanp\\AppData\\Local\\Packages\\PythonSoftwareFoundation.Python.3.11_qbz5n2kfra8p0\\LocalCache\\local-packages\\Python311\\site-packages\\sklearn\\neural_network\\_multilayer_perceptron.py:691: ConvergenceWarning: Stochastic Optimizer: Maximum iterations (1000) reached and the optimization hasn't converged yet.\n",
      "  warnings.warn(\n",
      "C:\\Users\\ioanp\\AppData\\Local\\Packages\\PythonSoftwareFoundation.Python.3.11_qbz5n2kfra8p0\\LocalCache\\local-packages\\Python311\\site-packages\\sklearn\\neural_network\\_multilayer_perceptron.py:691: ConvergenceWarning: Stochastic Optimizer: Maximum iterations (1000) reached and the optimization hasn't converged yet.\n",
      "  warnings.warn(\n",
      "C:\\Users\\ioanp\\AppData\\Local\\Packages\\PythonSoftwareFoundation.Python.3.11_qbz5n2kfra8p0\\LocalCache\\local-packages\\Python311\\site-packages\\sklearn\\neural_network\\_multilayer_perceptron.py:691: ConvergenceWarning: Stochastic Optimizer: Maximum iterations (1000) reached and the optimization hasn't converged yet.\n",
      "  warnings.warn(\n"
     ]
    },
    {
     "data": {
      "text/html": [
       "<style>#sk-container-id-5 {color: black;}#sk-container-id-5 pre{padding: 0;}#sk-container-id-5 div.sk-toggleable {background-color: white;}#sk-container-id-5 label.sk-toggleable__label {cursor: pointer;display: block;width: 100%;margin-bottom: 0;padding: 0.3em;box-sizing: border-box;text-align: center;}#sk-container-id-5 label.sk-toggleable__label-arrow:before {content: \"▸\";float: left;margin-right: 0.25em;color: #696969;}#sk-container-id-5 label.sk-toggleable__label-arrow:hover:before {color: black;}#sk-container-id-5 div.sk-estimator:hover label.sk-toggleable__label-arrow:before {color: black;}#sk-container-id-5 div.sk-toggleable__content {max-height: 0;max-width: 0;overflow: hidden;text-align: left;background-color: #f0f8ff;}#sk-container-id-5 div.sk-toggleable__content pre {margin: 0.2em;color: black;border-radius: 0.25em;background-color: #f0f8ff;}#sk-container-id-5 input.sk-toggleable__control:checked~div.sk-toggleable__content {max-height: 200px;max-width: 100%;overflow: auto;}#sk-container-id-5 input.sk-toggleable__control:checked~label.sk-toggleable__label-arrow:before {content: \"▾\";}#sk-container-id-5 div.sk-estimator input.sk-toggleable__control:checked~label.sk-toggleable__label {background-color: #d4ebff;}#sk-container-id-5 div.sk-label input.sk-toggleable__control:checked~label.sk-toggleable__label {background-color: #d4ebff;}#sk-container-id-5 input.sk-hidden--visually {border: 0;clip: rect(1px 1px 1px 1px);clip: rect(1px, 1px, 1px, 1px);height: 1px;margin: -1px;overflow: hidden;padding: 0;position: absolute;width: 1px;}#sk-container-id-5 div.sk-estimator {font-family: monospace;background-color: #f0f8ff;border: 1px dotted black;border-radius: 0.25em;box-sizing: border-box;margin-bottom: 0.5em;}#sk-container-id-5 div.sk-estimator:hover {background-color: #d4ebff;}#sk-container-id-5 div.sk-parallel-item::after {content: \"\";width: 100%;border-bottom: 1px solid gray;flex-grow: 1;}#sk-container-id-5 div.sk-label:hover label.sk-toggleable__label {background-color: #d4ebff;}#sk-container-id-5 div.sk-serial::before {content: \"\";position: absolute;border-left: 1px solid gray;box-sizing: border-box;top: 0;bottom: 0;left: 50%;z-index: 0;}#sk-container-id-5 div.sk-serial {display: flex;flex-direction: column;align-items: center;background-color: white;padding-right: 0.2em;padding-left: 0.2em;position: relative;}#sk-container-id-5 div.sk-item {position: relative;z-index: 1;}#sk-container-id-5 div.sk-parallel {display: flex;align-items: stretch;justify-content: center;background-color: white;position: relative;}#sk-container-id-5 div.sk-item::before, #sk-container-id-5 div.sk-parallel-item::before {content: \"\";position: absolute;border-left: 1px solid gray;box-sizing: border-box;top: 0;bottom: 0;left: 50%;z-index: -1;}#sk-container-id-5 div.sk-parallel-item {display: flex;flex-direction: column;z-index: 1;position: relative;background-color: white;}#sk-container-id-5 div.sk-parallel-item:first-child::after {align-self: flex-end;width: 50%;}#sk-container-id-5 div.sk-parallel-item:last-child::after {align-self: flex-start;width: 50%;}#sk-container-id-5 div.sk-parallel-item:only-child::after {width: 0;}#sk-container-id-5 div.sk-dashed-wrapped {border: 1px dashed gray;margin: 0 0.4em 0.5em 0.4em;box-sizing: border-box;padding-bottom: 0.4em;background-color: white;}#sk-container-id-5 div.sk-label label {font-family: monospace;font-weight: bold;display: inline-block;line-height: 1.2em;}#sk-container-id-5 div.sk-label-container {text-align: center;}#sk-container-id-5 div.sk-container {/* jupyter's `normalize.less` sets `[hidden] { display: none; }` but bootstrap.min.css set `[hidden] { display: none !important; }` so we also need the `!important` here to be able to override the default hidden behavior on the sphinx rendered scikit-learn.org. See: https://github.com/scikit-learn/scikit-learn/issues/21755 */display: inline-block !important;position: relative;}#sk-container-id-5 div.sk-text-repr-fallback {display: none;}</style><div id=\"sk-container-id-5\" class=\"sk-top-container\"><div class=\"sk-text-repr-fallback\"><pre>BaggingClassifier(estimator=MLPClassifier(hidden_layer_sizes=(13, 2),\n",
       "                                          max_iter=1000, random_state=1,\n",
       "                                          solver=&#x27;sgd&#x27;),\n",
       "                  n_estimators=100)</pre><b>In a Jupyter environment, please rerun this cell to show the HTML representation or trust the notebook. <br />On GitHub, the HTML representation is unable to render, please try loading this page with nbviewer.org.</b></div><div class=\"sk-container\" hidden><div class=\"sk-item sk-dashed-wrapped\"><div class=\"sk-label-container\"><div class=\"sk-label sk-toggleable\"><input class=\"sk-toggleable__control sk-hidden--visually\" id=\"sk-estimator-id-13\" type=\"checkbox\" ><label for=\"sk-estimator-id-13\" class=\"sk-toggleable__label sk-toggleable__label-arrow\">BaggingClassifier</label><div class=\"sk-toggleable__content\"><pre>BaggingClassifier(estimator=MLPClassifier(hidden_layer_sizes=(13, 2),\n",
       "                                          max_iter=1000, random_state=1,\n",
       "                                          solver=&#x27;sgd&#x27;),\n",
       "                  n_estimators=100)</pre></div></div></div><div class=\"sk-parallel\"><div class=\"sk-parallel-item\"><div class=\"sk-item\"><div class=\"sk-label-container\"><div class=\"sk-label sk-toggleable\"><input class=\"sk-toggleable__control sk-hidden--visually\" id=\"sk-estimator-id-14\" type=\"checkbox\" ><label for=\"sk-estimator-id-14\" class=\"sk-toggleable__label sk-toggleable__label-arrow\">estimator: MLPClassifier</label><div class=\"sk-toggleable__content\"><pre>MLPClassifier(hidden_layer_sizes=(13, 2), max_iter=1000, random_state=1,\n",
       "              solver=&#x27;sgd&#x27;)</pre></div></div></div><div class=\"sk-serial\"><div class=\"sk-item\"><div class=\"sk-estimator sk-toggleable\"><input class=\"sk-toggleable__control sk-hidden--visually\" id=\"sk-estimator-id-15\" type=\"checkbox\" ><label for=\"sk-estimator-id-15\" class=\"sk-toggleable__label sk-toggleable__label-arrow\">MLPClassifier</label><div class=\"sk-toggleable__content\"><pre>MLPClassifier(hidden_layer_sizes=(13, 2), max_iter=1000, random_state=1,\n",
       "              solver=&#x27;sgd&#x27;)</pre></div></div></div></div></div></div></div></div></div></div>"
      ],
      "text/plain": [
       "BaggingClassifier(estimator=MLPClassifier(hidden_layer_sizes=(13, 2),\n",
       "                                          max_iter=1000, random_state=1,\n",
       "                                          solver='sgd'),\n",
       "                  n_estimators=100)"
      ]
     },
     "execution_count": 62,
     "metadata": {},
     "output_type": "execute_result"
    }
   ],
   "source": [
    "from sklearn.ensemble import BaggingClassifier\n",
    "\n",
    "NN = MLPClassifier(activation='relu', alpha= 0.0001, hidden_layer_sizes=(13, 2), learning_rate='constant', solver='sgd', random_state=1, max_iter=1000)\n",
    "NN.fit(x_train, y_train)\n",
    "\n",
    "'Making use of the above algorithm with bagging implemented'\n",
    "\n",
    "BNN = BaggingClassifier(estimator=NN,n_estimators=100,bootstrap=True)\n",
    "BNN.fit(x_train,y_train)"
   ]
  },
  {
   "cell_type": "markdown",
   "metadata": {},
   "source": [
    "Now testing the model:"
   ]
  },
  {
   "cell_type": "code",
   "execution_count": 63,
   "metadata": {},
   "outputs": [
    {
     "name": "stdout",
     "output_type": "stream",
     "text": [
      "The Neural Network accuracy is 89.87951807228916\n",
      "The Neural Network Confusion Matrix is:\n",
      "[[250  17]\n",
      " [ 25 123]]\n",
      "The Bagged Neural Network accuracy is 90.36144578313254\n",
      "The Bagged Neural Network Confusion Matrix is:\n",
      "[[251  16]\n",
      " [ 24 124]]\n"
     ]
    }
   ],
   "source": [
    "y_pred = NN.predict(x_test)\n",
    "y_proba = NN.predict_proba(x_test)\n",
    "\n",
    "accuracy = accuracy_score(y_test, y_pred)*100\n",
    "confusion = confusion_matrix(y_test, y_pred)\n",
    "print('The Neural Network accuracy is ' + str(accuracy))\n",
    "print('The Neural Network Confusion Matrix is:')\n",
    "print(confusion)\n",
    "\n",
    "'''The neural network accuracy initially decreases when bagging\n",
    "is implemented, suggesting that the data has a high bias'''\n",
    "\n",
    "b_y_pred = BNN.predict(x_test)\n",
    "b_y_proba = BNN.predict_proba(x_test)\n",
    "\n",
    "b_accuracy = accuracy_score(y_test, b_y_pred)*100\n",
    "b_confusion = confusion_matrix(y_test, b_y_pred)\n",
    "print('The Bagged Neural Network accuracy is ' + str(b_accuracy))\n",
    "print('The Bagged Neural Network Confusion Matrix is:')\n",
    "print(b_confusion)"
   ]
  },
  {
   "cell_type": "code",
   "execution_count": 64,
   "metadata": {},
   "outputs": [
    {
     "name": "stdout",
     "output_type": "stream",
     "text": [
      "0          (0.958, 1.0]\n",
      "1        (0.875, 0.917]\n",
      "2      (0.0417, 0.0833]\n",
      "3      (0.0417, 0.0833]\n",
      "4      (0.0417, 0.0833]\n",
      "             ...       \n",
      "410    (0.0417, 0.0833]\n",
      "411    (0.0417, 0.0833]\n",
      "412        (0.958, 1.0]\n",
      "413    (0.0417, 0.0833]\n",
      "414    (0.0417, 0.0833]\n",
      "Name: p_2, Length: 415, dtype: category\n",
      "Categories (24, interval[float64, right]): [(-0.001, 0.0417] < (0.0417, 0.0833] < (0.0833, 0.125] < (0.125, 0.167] ... (0.833, 0.875] < (0.875, 0.917] < (0.917, 0.958] < (0.958, 1.0]]\n"
     ]
    },
    {
     "data": {
      "image/png": "[encoded data removed]",
      "text/plain": [
       "<Figure size 640x480 with 1 Axes>"
      ]
     },
     "metadata": {},
     "output_type": "display_data"
    },
    {
     "ename": "",
     "evalue": "",
     "output_type": "error",
     "traceback": [
      "\u001b[1;31mThe Kernel crashed while executing code in the the current cell or a previous cell. Please review the code in the cell(s) to identify a possible cause of the failure. Click <a href='https://aka.ms/vscodeJupyterKernelCrash'>here</a> for more info. View Jupyter <a href='command:jupyter.viewOutput'>log</a> for further details."
     ]
    }
   ],
   "source": [
    "import matplotlib.pyplot as plt\n",
    "#print(y_proba)\n",
    "probs = pd.DataFrame(y_proba,columns=('p_1','p_2'))\n",
    "bin_probs_1 = pd.cut(probs['p_1'],np.linspace(0,1,25),include_lowest=True)\n",
    "bin_probs_2 = pd.cut(probs['p_2'],np.linspace(0,1,25    ),include_lowest=True)\n",
    "\n",
    "print(bin_probs_2)\n",
    "\n",
    "fig, ax = plt.subplots()\n",
    "x_axis = np.linspace(0,1,len(bin_probs_1.value_counts()))\n",
    "\n",
    "ax.bar(x_axis-0.01,bin_probs_1.value_counts(sort=False), width=0.02,label='BLLs')\n",
    "ax.bar(x_axis+0.01,bin_probs_2.value_counts(sort=False),width=0.02,label='FSRQs')\n",
    "ax.legend()\n",
    "ax.set_xlabel('Probability')\n",
    "ax.set_ylabel('Number of Objects')\n",
    "ax.set_title('Results of the MLPClassifier algorithm applied to known BLLs and FSRQs')\n",
    "\n",
    "plt.show()"
   ]
  },
  {
   "cell_type": "code",
   "execution_count": null,
   "metadata": {},
   "outputs": [],
   "source": []
  }
 ],
 "metadata": {
  "kernelspec": {
   "display_name": "Python 3",
   "language": "python",
   "name": "python3"
  },
  "language_info": {
   "codemirror_mode": {
    "name": "ipython",
    "version": 3
   },
   "file_extension": ".py",
   "mimetype": "text/x-python",
   "name": "python",
   "nbconvert_exporter": "python",
   "pygments_lexer": "ipython3",
   "version": "3.11.6"
  }
 },
 "nbformat": 4,
 "nbformat_minor": 2
}
