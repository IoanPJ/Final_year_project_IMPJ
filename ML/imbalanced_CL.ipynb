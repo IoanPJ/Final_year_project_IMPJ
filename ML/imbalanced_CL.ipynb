{
  "cells": [
    {
      "cell_type": "markdown",
      "metadata": {
        "id": "view-in-github",
        "colab_type": "text"
      },
      "source": [
        "<a href=\"https://colab.research.google.com/github/IoanPJ/Final_year_project_IMPJ/blob/main/ML/imbalanced_CL.ipynb\" target=\"_parent\"><img src=\"https://colab.research.google.com/assets/colab-badge.svg\" alt=\"Open In Colab\"/></a>"
      ]
    },
    {
      "cell_type": "code",
      "execution_count": 45,
      "metadata": {
        "id": "C3xcXEpyNE2W"
      },
      "outputs": [],
      "source": [
        "import imblearn\n",
        "from sklearn.neural_network import MLPClassifier\n",
        "from sklearn.pipeline import Pipeline\n",
        "from sklearn.preprocessing import StandardScaler, FunctionTransformer\n",
        "from sklearn.model_selection import train_test_split, KFold\n",
        "from sklearn.ensemble import BaggingClassifier\n",
        "from sklearn.experimental import enable_iterative_imputer\n",
        "from sklearn.impute import IterativeImputer\n",
        "from sklearn.metrics import confusion_matrix, accuracy_score, f1_score, log_loss, roc_auc_score, RocCurveDisplay, roc_curve\n",
        "import numpy as np\n",
        "import pandas as pd\n",
        "#from IMPJ import DataProcessor\n",
        "import random\n",
        "import matplotlib.pyplot as plt\n",
        "from os.path import basename, exists\n",
        "import matplotlib as mpl\n",
        "import random\n",
        "from collections import Counter\n",
        "from imblearn.over_sampling import SMOTE\n",
        "from imblearn.under_sampling import RandomUnderSampler\n",
        "from sklearn.multiclass import OneVsRestClassifier\n",
        "from tqdm import tqdm\n",
        "\n",
        "#dp = DataProcessor()\n",
        "\n",
        "def download(url):\n",
        "    filename = basename(url)\n",
        "    if not exists(filename):\n",
        "        from urllib.request import urlretrieve\n",
        "        local, _ = urlretrieve(url, filename)\n",
        "        print('Downloaded ' + local)\n",
        "\n",
        "download('https://github.com/AllenDowney/AstronomicalData/raw/main/' + 'az-paper-twocol.mplstyle')\n",
        "plt.style.use('./az-paper-twocol.mplstyle')"
      ]
    },
    {
      "cell_type": "code",
      "source": [
        "from google.colab import drive\n",
        "drive.mount('/content/drive')"
      ],
      "metadata": {
        "id": "ly_EmtuuNKkq",
        "outputId": "e693a986-1495-4e95-e48a-7fb9931a53a1",
        "colab": {
          "base_uri": "https://localhost:8080/"
        }
      },
      "execution_count": 6,
      "outputs": [
        {
          "output_type": "stream",
          "name": "stdout",
          "text": [
            "Drive already mounted at /content/drive; to attempt to forcibly remount, call drive.mount(\"/content/drive\", force_remount=True).\n"
          ]
        }
      ]
    },
    {
      "cell_type": "code",
      "execution_count": 35,
      "metadata": {
        "id": "s88SZaA3NE2a"
      },
      "outputs": [],
      "source": [
        "test_size = 0.3\n",
        "\n",
        "filepath = \"/content/drive/My Drive/Colab Notebooks/chiaro_12.csv\"\n",
        "data = pd.read_csv(filepath, index_col=0)\n",
        "data = data.dropna()\n",
        "Y = np.array(data['CLASS1'])\n",
        "X = np.array(data.drop(labels='CLASS1',axis=1))\n",
        "#X,Y = dp.choose_2_vars('CLASS1',data,1,2)"
      ]
    },
    {
      "cell_type": "code",
      "execution_count": 36,
      "metadata": {
        "id": "liRn_Ys_NE2c"
      },
      "outputs": [],
      "source": [
        "Y[Y==2]=1 # non radio galaxies\n",
        "Y[Y==3]=0 # radio galaxies\n",
        "\n",
        "init_ratio = len(Y[Y==0])/len(Y[Y==1])\n",
        "\n",
        "sm = SMOTE(random_state=42, sampling_strategy=init_ratio*5)\n",
        "ru = RandomUnderSampler(random_state=42, sampling_strategy=1)\n",
        "\n",
        "scaler = StandardScaler()\n"
      ]
    },
    {
      "cell_type": "code",
      "execution_count": 46,
      "metadata": {
        "id": "k0a2IqueNE2d",
        "outputId": "595f13b5-adfa-4a74-8b47-4f85ce6a80c5",
        "colab": {
          "base_uri": "https://localhost:8080/"
        }
      },
      "outputs": [
        {
          "output_type": "stream",
          "name": "stderr",
          "text": [
            "\r0it [00:00, ?it/s]"
          ]
        },
        {
          "output_type": "stream",
          "name": "stdout",
          "text": [
            "[Parallel(n_jobs=2)]: Using backend LokyBackend with 2 concurrent workers.\n",
            "[Parallel(n_jobs=2)]: Done   1 tasks      | elapsed:    9.5s\n"
          ]
        },
        {
          "output_type": "stream",
          "name": "stderr",
          "text": [
            "\r1it [00:11, 11.86s/it]"
          ]
        },
        {
          "output_type": "stream",
          "name": "stdout",
          "text": [
            "[Parallel(n_jobs=2)]: Done   2 out of   2 | elapsed:   11.7s finished\n",
            "[Parallel(n_jobs=2)]: Using backend LokyBackend with 2 concurrent workers.\n",
            "[Parallel(n_jobs=2)]: Done   1 tasks      | elapsed:    0.0s\n",
            "[Parallel(n_jobs=2)]: Batch computation too fast (0.04363560676574707s.) Setting batch_size=2.\n",
            "[Parallel(n_jobs=2)]: Done   2 out of   2 | elapsed:    0.1s finished\n",
            "[Parallel(n_jobs=2)]: Using backend LokyBackend with 2 concurrent workers.\n",
            "[Parallel(n_jobs=2)]: Done   1 tasks      | elapsed:    0.0s\n",
            "[Parallel(n_jobs=2)]: Batch computation too fast (0.027701377868652344s.) Setting batch_size=2.\n",
            "[Parallel(n_jobs=2)]: Done   2 out of   2 | elapsed:    0.0s finished\n",
            "[Parallel(n_jobs=2)]: Using backend LokyBackend with 2 concurrent workers.\n",
            "[Parallel(n_jobs=2)]: Done   1 tasks      | elapsed:    0.0s\n",
            "[Parallel(n_jobs=2)]: Batch computation too fast (0.022411584854125977s.) Setting batch_size=2.\n",
            "[Parallel(n_jobs=2)]: Done   2 out of   2 | elapsed:    0.0s finished\n",
            "[Parallel(n_jobs=2)]: Using backend LokyBackend with 2 concurrent workers.\n",
            "[Parallel(n_jobs=2)]: Done   1 tasks      | elapsed:    8.5s\n"
          ]
        },
        {
          "output_type": "stream",
          "name": "stderr",
          "text": [
            "\r2it [00:22, 11.25s/it]"
          ]
        },
        {
          "output_type": "stream",
          "name": "stdout",
          "text": [
            "[Parallel(n_jobs=2)]: Done   2 out of   2 | elapsed:   10.7s finished\n",
            "[Parallel(n_jobs=2)]: Using backend LokyBackend with 2 concurrent workers.\n",
            "[Parallel(n_jobs=2)]: Done   1 tasks      | elapsed:    0.0s\n",
            "[Parallel(n_jobs=2)]: Batch computation too fast (0.018301010131835938s.) Setting batch_size=2.\n",
            "[Parallel(n_jobs=2)]: Done   2 out of   2 | elapsed:    0.0s finished\n",
            "[Parallel(n_jobs=2)]: Using backend LokyBackend with 2 concurrent workers.\n",
            "[Parallel(n_jobs=2)]: Done   1 tasks      | elapsed:    0.0s\n",
            "[Parallel(n_jobs=2)]: Batch computation too fast (0.022377729415893555s.) Setting batch_size=2.\n",
            "[Parallel(n_jobs=2)]: Done   2 out of   2 | elapsed:    0.0s finished\n",
            "[Parallel(n_jobs=2)]: Using backend LokyBackend with 2 concurrent workers.\n",
            "[Parallel(n_jobs=2)]: Done   1 tasks      | elapsed:    0.0s\n",
            "[Parallel(n_jobs=2)]: Batch computation too fast (0.018492460250854492s.) Setting batch_size=2.\n",
            "[Parallel(n_jobs=2)]: Done   2 out of   2 | elapsed:    0.0s finished\n",
            "[Parallel(n_jobs=2)]: Using backend LokyBackend with 2 concurrent workers.\n",
            "[Parallel(n_jobs=2)]: Done   1 tasks      | elapsed:   10.8s\n"
          ]
        },
        {
          "output_type": "stream",
          "name": "stderr",
          "text": [
            "\r3it [00:36, 12.60s/it]"
          ]
        },
        {
          "output_type": "stream",
          "name": "stdout",
          "text": [
            "[Parallel(n_jobs=2)]: Done   2 out of   2 | elapsed:   14.1s finished\n",
            "[Parallel(n_jobs=2)]: Using backend LokyBackend with 2 concurrent workers.\n",
            "[Parallel(n_jobs=2)]: Done   1 tasks      | elapsed:    0.0s\n",
            "[Parallel(n_jobs=2)]: Batch computation too fast (0.015009164810180664s.) Setting batch_size=2.\n",
            "[Parallel(n_jobs=2)]: Done   2 out of   2 | elapsed:    0.0s finished\n",
            "[Parallel(n_jobs=2)]: Using backend LokyBackend with 2 concurrent workers.\n",
            "[Parallel(n_jobs=2)]: Done   1 tasks      | elapsed:    0.0s\n",
            "[Parallel(n_jobs=2)]: Batch computation too fast (0.015783309936523438s.) Setting batch_size=2.\n",
            "[Parallel(n_jobs=2)]: Done   2 out of   2 | elapsed:    0.0s finished\n",
            "[Parallel(n_jobs=2)]: Using backend LokyBackend with 2 concurrent workers.\n",
            "[Parallel(n_jobs=2)]: Done   1 tasks      | elapsed:    0.0s\n",
            "[Parallel(n_jobs=2)]: Batch computation too fast (0.014767646789550781s.) Setting batch_size=2.\n",
            "[Parallel(n_jobs=2)]: Done   2 out of   2 | elapsed:    0.0s finished\n",
            "[Parallel(n_jobs=2)]: Using backend LokyBackend with 2 concurrent workers.\n",
            "[Parallel(n_jobs=2)]: Done   1 tasks      | elapsed:    7.7s\n"
          ]
        },
        {
          "output_type": "stream",
          "name": "stderr",
          "text": [
            "\r4it [00:47, 12.00s/it]"
          ]
        },
        {
          "output_type": "stream",
          "name": "stdout",
          "text": [
            "[Parallel(n_jobs=2)]: Done   2 out of   2 | elapsed:   11.0s finished\n",
            "[Parallel(n_jobs=2)]: Using backend LokyBackend with 2 concurrent workers.\n",
            "[Parallel(n_jobs=2)]: Done   1 tasks      | elapsed:    0.0s\n",
            "[Parallel(n_jobs=2)]: Batch computation too fast (0.01617741584777832s.) Setting batch_size=2.\n",
            "[Parallel(n_jobs=2)]: Done   2 out of   2 | elapsed:    0.0s finished\n",
            "[Parallel(n_jobs=2)]: Using backend LokyBackend with 2 concurrent workers.\n",
            "[Parallel(n_jobs=2)]: Done   1 tasks      | elapsed:    0.0s\n",
            "[Parallel(n_jobs=2)]: Batch computation too fast (0.014853715896606445s.) Setting batch_size=2.\n",
            "[Parallel(n_jobs=2)]: Done   2 out of   2 | elapsed:    0.0s finished\n",
            "[Parallel(n_jobs=2)]: Using backend LokyBackend with 2 concurrent workers.\n",
            "[Parallel(n_jobs=2)]: Done   1 tasks      | elapsed:    0.0s\n",
            "[Parallel(n_jobs=2)]: Batch computation too fast (0.015127182006835938s.) Setting batch_size=2.\n",
            "[Parallel(n_jobs=2)]: Done   2 out of   2 | elapsed:    0.0s finished\n",
            "[Parallel(n_jobs=2)]: Using backend LokyBackend with 2 concurrent workers.\n",
            "[Parallel(n_jobs=2)]: Done   1 tasks      | elapsed:    6.3s\n"
          ]
        },
        {
          "output_type": "stream",
          "name": "stderr",
          "text": [
            "\r5it [00:55, 10.48s/it]"
          ]
        },
        {
          "output_type": "stream",
          "name": "stdout",
          "text": [
            "[Parallel(n_jobs=2)]: Done   2 out of   2 | elapsed:    7.7s finished\n",
            "[Parallel(n_jobs=2)]: Using backend LokyBackend with 2 concurrent workers.\n",
            "[Parallel(n_jobs=2)]: Done   1 tasks      | elapsed:    0.0s\n",
            "[Parallel(n_jobs=2)]: Batch computation too fast (0.0146026611328125s.) Setting batch_size=2.\n",
            "[Parallel(n_jobs=2)]: Done   2 out of   2 | elapsed:    0.0s finished\n",
            "[Parallel(n_jobs=2)]: Using backend LokyBackend with 2 concurrent workers.\n",
            "[Parallel(n_jobs=2)]: Done   1 tasks      | elapsed:    0.0s\n",
            "[Parallel(n_jobs=2)]: Batch computation too fast (0.016112089157104492s.) Setting batch_size=2.\n",
            "[Parallel(n_jobs=2)]: Done   2 out of   2 | elapsed:    0.0s finished\n",
            "[Parallel(n_jobs=2)]: Using backend LokyBackend with 2 concurrent workers.\n",
            "[Parallel(n_jobs=2)]: Done   1 tasks      | elapsed:    0.0s\n",
            "[Parallel(n_jobs=2)]: Batch computation too fast (0.014807939529418945s.) Setting batch_size=2.\n",
            "[Parallel(n_jobs=2)]: Done   2 out of   2 | elapsed:    0.0s finished\n",
            "[Parallel(n_jobs=2)]: Using backend LokyBackend with 2 concurrent workers.\n",
            "[Parallel(n_jobs=2)]: Done   1 tasks      | elapsed:    8.5s\n"
          ]
        },
        {
          "output_type": "stream",
          "name": "stderr",
          "text": [
            "\r6it [01:05, 10.32s/it]"
          ]
        },
        {
          "output_type": "stream",
          "name": "stdout",
          "text": [
            "[Parallel(n_jobs=2)]: Done   2 out of   2 | elapsed:    9.9s finished\n",
            "[Parallel(n_jobs=2)]: Using backend LokyBackend with 2 concurrent workers.\n",
            "[Parallel(n_jobs=2)]: Done   1 tasks      | elapsed:    0.0s\n",
            "[Parallel(n_jobs=2)]: Batch computation too fast (0.014975786209106445s.) Setting batch_size=2.\n",
            "[Parallel(n_jobs=2)]: Done   2 out of   2 | elapsed:    0.0s finished\n",
            "[Parallel(n_jobs=2)]: Using backend LokyBackend with 2 concurrent workers.\n",
            "[Parallel(n_jobs=2)]: Done   1 tasks      | elapsed:    0.0s\n",
            "[Parallel(n_jobs=2)]: Batch computation too fast (0.014643192291259766s.) Setting batch_size=2.\n",
            "[Parallel(n_jobs=2)]: Done   2 out of   2 | elapsed:    0.0s finished\n",
            "[Parallel(n_jobs=2)]: Using backend LokyBackend with 2 concurrent workers.\n",
            "[Parallel(n_jobs=2)]: Done   1 tasks      | elapsed:    0.0s\n",
            "[Parallel(n_jobs=2)]: Batch computation too fast (0.015197515487670898s.) Setting batch_size=2.\n",
            "[Parallel(n_jobs=2)]: Done   2 out of   2 | elapsed:    0.0s finished\n",
            "[Parallel(n_jobs=2)]: Using backend LokyBackend with 2 concurrent workers.\n",
            "[Parallel(n_jobs=2)]: Done   1 tasks      | elapsed:    6.3s\n"
          ]
        },
        {
          "output_type": "stream",
          "name": "stderr",
          "text": [
            "\r7it [01:14,  9.80s/it]"
          ]
        },
        {
          "output_type": "stream",
          "name": "stdout",
          "text": [
            "[Parallel(n_jobs=2)]: Done   2 out of   2 | elapsed:    8.6s finished\n",
            "[Parallel(n_jobs=2)]: Using backend LokyBackend with 2 concurrent workers.\n",
            "[Parallel(n_jobs=2)]: Done   1 tasks      | elapsed:    0.0s\n",
            "[Parallel(n_jobs=2)]: Batch computation too fast (0.025746583938598633s.) Setting batch_size=2.\n",
            "[Parallel(n_jobs=2)]: Done   2 out of   2 | elapsed:    0.0s finished\n",
            "[Parallel(n_jobs=2)]: Using backend LokyBackend with 2 concurrent workers.\n",
            "[Parallel(n_jobs=2)]: Done   1 tasks      | elapsed:    0.0s\n",
            "[Parallel(n_jobs=2)]: Batch computation too fast (0.018529891967773438s.) Setting batch_size=2.\n",
            "[Parallel(n_jobs=2)]: Done   2 out of   2 | elapsed:    0.0s finished\n",
            "[Parallel(n_jobs=2)]: Using backend LokyBackend with 2 concurrent workers.\n",
            "[Parallel(n_jobs=2)]: Done   1 tasks      | elapsed:    0.0s\n",
            "[Parallel(n_jobs=2)]: Batch computation too fast (0.027369022369384766s.) Setting batch_size=2.\n",
            "[Parallel(n_jobs=2)]: Done   2 out of   2 | elapsed:    0.0s finished\n",
            "[Parallel(n_jobs=2)]: Using backend LokyBackend with 2 concurrent workers.\n",
            "[Parallel(n_jobs=2)]: Done   1 tasks      | elapsed:    6.6s\n"
          ]
        },
        {
          "output_type": "stream",
          "name": "stderr",
          "text": [
            "\r8it [01:24,  9.73s/it]"
          ]
        },
        {
          "output_type": "stream",
          "name": "stdout",
          "text": [
            "[Parallel(n_jobs=2)]: Done   2 out of   2 | elapsed:    9.5s finished\n",
            "[Parallel(n_jobs=2)]: Using backend LokyBackend with 2 concurrent workers.\n",
            "[Parallel(n_jobs=2)]: Done   1 tasks      | elapsed:    0.0s\n",
            "[Parallel(n_jobs=2)]: Batch computation too fast (0.015448331832885742s.) Setting batch_size=2.\n",
            "[Parallel(n_jobs=2)]: Done   2 out of   2 | elapsed:    0.0s finished\n",
            "[Parallel(n_jobs=2)]: Using backend LokyBackend with 2 concurrent workers.\n",
            "[Parallel(n_jobs=2)]: Done   1 tasks      | elapsed:    0.0s\n",
            "[Parallel(n_jobs=2)]: Batch computation too fast (0.015008687973022461s.) Setting batch_size=2.\n",
            "[Parallel(n_jobs=2)]: Done   2 out of   2 | elapsed:    0.0s finished\n",
            "[Parallel(n_jobs=2)]: Using backend LokyBackend with 2 concurrent workers.\n",
            "[Parallel(n_jobs=2)]: Done   1 tasks      | elapsed:    0.0s\n",
            "[Parallel(n_jobs=2)]: Batch computation too fast (0.014881372451782227s.) Setting batch_size=2.\n",
            "[Parallel(n_jobs=2)]: Done   2 out of   2 | elapsed:    0.0s finished\n",
            "[Parallel(n_jobs=2)]: Using backend LokyBackend with 2 concurrent workers.\n",
            "[Parallel(n_jobs=2)]: Done   1 tasks      | elapsed:    7.9s\n"
          ]
        },
        {
          "output_type": "stream",
          "name": "stderr",
          "text": [
            "\r9it [01:34,  9.79s/it]"
          ]
        },
        {
          "output_type": "stream",
          "name": "stdout",
          "text": [
            "[Parallel(n_jobs=2)]: Done   2 out of   2 | elapsed:    9.8s finished\n",
            "[Parallel(n_jobs=2)]: Using backend LokyBackend with 2 concurrent workers.\n",
            "[Parallel(n_jobs=2)]: Done   1 tasks      | elapsed:    0.0s\n",
            "[Parallel(n_jobs=2)]: Batch computation too fast (0.020423412322998047s.) Setting batch_size=2.\n",
            "[Parallel(n_jobs=2)]: Done   2 out of   2 | elapsed:    0.0s finished\n",
            "[Parallel(n_jobs=2)]: Using backend LokyBackend with 2 concurrent workers.\n",
            "[Parallel(n_jobs=2)]: Done   1 tasks      | elapsed:    0.0s\n",
            "[Parallel(n_jobs=2)]: Batch computation too fast (0.011798381805419922s.) Setting batch_size=2.\n",
            "[Parallel(n_jobs=2)]: Done   2 out of   2 | elapsed:    0.0s finished\n",
            "[Parallel(n_jobs=2)]: Using backend LokyBackend with 2 concurrent workers.\n",
            "[Parallel(n_jobs=2)]: Done   1 tasks      | elapsed:    0.0s\n",
            "[Parallel(n_jobs=2)]: Batch computation too fast (0.015397787094116211s.) Setting batch_size=2.\n",
            "[Parallel(n_jobs=2)]: Done   2 out of   2 | elapsed:    0.0s finished\n",
            "[Parallel(n_jobs=2)]: Using backend LokyBackend with 2 concurrent workers.\n",
            "[Parallel(n_jobs=2)]: Done   1 tasks      | elapsed:    6.5s\n"
          ]
        },
        {
          "output_type": "stream",
          "name": "stderr",
          "text": [
            "10it [01:43, 10.32s/it]"
          ]
        },
        {
          "output_type": "stream",
          "name": "stdout",
          "text": [
            "[Parallel(n_jobs=2)]: Done   2 out of   2 | elapsed:    9.1s finished\n",
            "[Parallel(n_jobs=2)]: Using backend LokyBackend with 2 concurrent workers.\n",
            "[Parallel(n_jobs=2)]: Done   1 tasks      | elapsed:    0.0s\n",
            "[Parallel(n_jobs=2)]: Batch computation too fast (0.02310800552368164s.) Setting batch_size=2.\n",
            "[Parallel(n_jobs=2)]: Done   2 out of   2 | elapsed:    0.0s finished\n",
            "[Parallel(n_jobs=2)]: Using backend LokyBackend with 2 concurrent workers.\n",
            "[Parallel(n_jobs=2)]: Done   1 tasks      | elapsed:    0.0s\n",
            "[Parallel(n_jobs=2)]: Batch computation too fast (0.0204927921295166s.) Setting batch_size=2.\n",
            "[Parallel(n_jobs=2)]: Done   2 out of   2 | elapsed:    0.0s finished\n",
            "[Parallel(n_jobs=2)]: Using backend LokyBackend with 2 concurrent workers.\n",
            "[Parallel(n_jobs=2)]: Done   1 tasks      | elapsed:    0.0s\n",
            "[Parallel(n_jobs=2)]: Batch computation too fast (0.02507328987121582s.) Setting batch_size=2.\n",
            "[Parallel(n_jobs=2)]: Done   2 out of   2 | elapsed:    0.0s finished\n"
          ]
        },
        {
          "output_type": "stream",
          "name": "stderr",
          "text": [
            "\n"
          ]
        }
      ],
      "source": [
        "NN = MLPClassifier(activation='tanh',hidden_layer_sizes=(50,50),learning_rate='constant',solver='sgd',\n",
        "                   max_iter=5000,random_state=5)\n",
        "BNN = BaggingClassifier(estimator=NN,n_estimators=5,bootstrap=True,verbose=0,n_jobs=-1)\n",
        "#ovr = OneVsRestClassifier(estimator=BNN, n_jobs=-1,verbose=10)\n",
        "iteration=0\n",
        "kf = KFold(n_splits=10)\n",
        "\n",
        "y_pred=pd.DataFrame()\n",
        "y_proba=pd.DataFrame()\n",
        "\n",
        "for train_indices, test_indices in tqdm(kf.split(X)):\n",
        "    iteration+=1\n",
        "    x_train=X[train_indices]\n",
        "    y_train = Y[train_indices]\n",
        "    x_test=X[test_indices]\n",
        "    y_test=Y[test_indices]\n",
        "    scaler.fit(x_train)\n",
        "    x_train = scaler.transform(x_train)\n",
        "    x_test = scaler.transform(x_test)\n",
        "    #print(f'Initial Ratio: {len(y_train[y_train==0])/len(y_train[y_train==1])}')\n",
        "    #print(f'Original Dataset Shape: {Counter(y_train)}')\n",
        "    x_train_sm, y_train_sm = sm.fit_resample(x_train, y_train)\n",
        "    x_train_res, y_train_res = ru.fit_resample(x_train_sm,y_train_sm)\n",
        "    #print(f'New Ratio: {len(y_train_res[y_train_res==0])/len(y_train_res[y_train_res==1])}')\n",
        "    #print(f'Resampled dataset shape {Counter(y_train_res)}')\n",
        "    BNN.fit(x_train, y_train)\n",
        "\n",
        "    y_pred['iteration '+str(iteration)] = BNN.predict(x_test)\n",
        "    y_proba['class' + str(0) + ' iteration '+ str(iteration)] = BNN.predict_proba(x_test)[0]\n",
        "    y_proba['class'+str(1)+' iteration '+str(iteration)]= BNN.predict_proba(x_test)[1]\n",
        "#BNN.fit(x_train_res,y_train_res)\n",
        "y_pred.to_csv(\"/content/drive/My Drive/Colab Notebooks/imbalanced_trials/y_pred.csv\")\n",
        "y_proba.to_csv(\"/content/drive/My Drive/Colab Notebooks/imbalanced_trials/y_proba.csv\")\n"
      ]
    },
    {
      "cell_type": "code",
      "execution_count": 30,
      "metadata": {
        "id": "JnNvqyKfNE2e",
        "outputId": "7f47fe75-6986-465a-cb1c-c1bed49c0e17",
        "colab": {
          "base_uri": "https://localhost:8080/",
          "height": 638
        }
      },
      "outputs": [
        {
          "output_type": "stream",
          "name": "stdout",
          "text": [
            "[0 1]\n",
            "The Neural Network accuracy is 72.03389830508475\n",
            "The Neural Network ROC AUC Scores are: 0.6515926972729356\n",
            "The Neural Network's Weighted Average ROC AUC Score is: 0.6515926972729356\n",
            "The Neural Network's Logarithmic Loss Score is: 10.08000476136327\n",
            "The Neural Network F1 Score is: 0.8344481605351171\n",
            "The Neural Network Confusion Matrix is:\n",
            "[[ 11   8]\n",
            " [190 499]]\n"
          ]
        },
        {
          "output_type": "execute_result",
          "data": {
            "text/plain": [
              "Text(0, 0.5, 'True Positive Rate')"
            ]
          },
          "metadata": {},
          "execution_count": 30
        },
        {
          "output_type": "display_data",
          "data": {
            "text/plain": [
              "<Figure size 500x500 with 1 Axes>"
            ],
            "image/png": "[encoded data removed]"
          },
          "metadata": {}
        }
      ],
      "source": [
        "print(np.unique(y_train))\n",
        "\n",
        "''' SCORING METRICS '''\n",
        "\n",
        "accuracy = accuracy_score(y_test, y_pred)*100\n",
        "confusion = confusion_matrix(y_test, y_pred)\n",
        "roc_auc = roc_auc_score(y_test,y_pred)\n",
        "roc_auc_weightedavg = roc_auc_score(y_test,y_pred,average='weighted')\n",
        "logloss = log_loss(y_test,y_pred)\n",
        "f1 = f1_score(y_test,y_pred)\n",
        "fpr, tpr, thresholds = roc_curve(y_test,y_proba.T[1])\n",
        "\n",
        "print('The Neural Network accuracy is ' + str(accuracy))\n",
        "print('The Neural Network ROC AUC Scores are: '+str(roc_auc))\n",
        "print(\"The Neural Network's Weighted Average ROC AUC Score is: \" + str(roc_auc_weightedavg))\n",
        "print(\"The Neural Network's Logarithmic Loss Score is: \" + str(logloss))\n",
        "print('The Neural Network F1 Score is: '+str(f1))\n",
        "print('The Neural Network Confusion Matrix is:')\n",
        "print(confusion)\n",
        "\n",
        "resultcols = ['Accuracy', 'ROC AUC', 'ROC Weighted Av', 'Logarithmic Loss',\n",
        "            'F1 Score', 'CMatrix11','CMatrix12', 'CMatrix21', 'CMatrix22']\n",
        "resultarray = np.array((accuracy,roc_auc,roc_auc_weightedavg,logloss,f1,\n",
        "                        confusion[0,0],confusion[0,1],confusion[1,0],confusion[1,1]))\n",
        "rocresultcols = ['FPR','TPR','Thresholds']\n",
        "rocresultarray = np.array([fpr,tpr,thresholds])\n",
        "#print(rocresultarray)\n",
        "results = pd.DataFrame([resultarray],columns=resultcols)\n",
        "rocresults = pd.DataFrame(np.array([fpr,tpr,thresholds]).transpose(),columns=rocresultcols)\n",
        "\n",
        "results.to_csv(\"/content/drive/My Drive/Colab Notebooks/imbalanced_trials/results1.csv\")\n",
        "rocresults.to_csv(\"/content/drive/My Drive/Colab Notebooks/imbalanced_trials/rocresults1.csv\")\n",
        "\n",
        "\n",
        "fig, ax = plt.subplots(figsize=(5,5))\n",
        "\n",
        "ax.plot(fpr,tpr,linestyle='dashed',marker='x')\n",
        "ax.set_xlabel('False Positive Rate')\n",
        "ax.set_ylabel('True Positive Rate')"
      ]
    },
    {
      "cell_type": "code",
      "source": [],
      "metadata": {
        "id": "DSIANtA2gqWQ"
      },
      "execution_count": null,
      "outputs": []
    }
  ],
  "metadata": {
    "kernelspec": {
      "display_name": "Python 3",
      "language": "python",
      "name": "python3"
    },
    "language_info": {
      "codemirror_mode": {
        "name": "ipython",
        "version": 3
      },
      "file_extension": ".py",
      "mimetype": "text/x-python",
      "name": "python",
      "nbconvert_exporter": "python",
      "pygments_lexer": "ipython3",
      "version": "3.11.8"
    },
    "colab": {
      "provenance": [],
      "include_colab_link": true
    }
  },
  "nbformat": 4,
  "nbformat_minor": 0
}