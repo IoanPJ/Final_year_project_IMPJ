{
  "cells": [
    {
      "cell_type": "code",
      "source": [
        "from google.colab import drive\n",
        "drive.mount('/content/drive')"
      ],
      "metadata": {
        "id": "ELcFoEfViVly",
        "outputId": "2968bcaf-c399-4504-c067-74ad8f798626",
        "colab": {
          "base_uri": "https://localhost:8080/"
        }
      },
      "execution_count": 10,
      "outputs": [
        {
          "output_type": "stream",
          "name": "stdout",
          "text": [
            "Drive already mounted at /content/drive; to attempt to forcibly remount, call drive.mount(\"/content/drive\", force_remount=True).\n"
          ]
        }
      ]
    },
    {
      "cell_type": "code",
      "execution_count": 14,
      "metadata": {
        "id": "Lv4HXchUiSCM",
        "outputId": "0f5ac5a0-bbb6-4a4c-ff8b-a461bff08d20",
        "colab": {
          "base_uri": "https://localhost:8080/"
        }
      },
      "outputs": [
        {
          "output_type": "stream",
          "name": "stdout",
          "text": [
            "['x0' 'x1' 'x6' 'x18' 'x75' 'x80' 'x81' 'x82']\n"
          ]
        }
      ],
      "source": [
        "# %%\n",
        "import pandas as pd\n",
        "import numpy as np\n",
        "from sklearn.datasets import load_digits\n",
        "from sklearn.model_selection import train_test_split\n",
        "from sklearn.neural_network import MLPClassifier\n",
        "from sklearn.metrics import confusion_matrix, accuracy_score\n",
        "from sklearn.preprocessing import StandardScaler\n",
        "from sklearn.model_selection import GridSearchCV\n",
        "import sys\n",
        "#from mlxtend.feature_selection import SequentialFeatureSelector as sfs\n",
        "from sklearn.feature_selection import SequentialFeatureSelector as sfs\n",
        "\n",
        "data = pd.read_csv(\"/content/drive/My Drive/Colab Notebooks/fl_numericalonly_nopositional_withclasses.csv\",index_col=0)\n",
        "\n",
        "'''\n",
        "In 'data' all unknown BCUs are assigned 0.\n",
        "All BLLs are assigned 1 and all FSRQs are assigned 2.\n",
        "Radio Galaxies = 3 and Other = 4\n",
        "'''\n",
        "\n",
        "mask1 = data['CLASS1'] == 4\n",
        "mask2 = data['CLASS1'] == 0\n",
        "mask3 = data['CLASS1'] == 3\n",
        "data = data[~mask1]\n",
        "data = data[~mask2]\n",
        "data = data[~mask3]\n",
        "\n",
        "#data = data.replace(2,1)\n",
        "\n",
        "data = data.dropna()\n",
        "\n",
        "\n",
        "#print(len(data['CLASS1']))\n",
        "data_test = data[~(data['CLASS1'] == 1)]\n",
        "#print(len(data_test['CLASS1']))\n",
        "#print(data.columns)\n",
        "\n",
        "\n",
        "X = data.loc[:, data.columns != 'CLASS1']\n",
        "Y = data['CLASS1']\n",
        "\n",
        "x_train, x_test, y_train, y_test = train_test_split(X, Y, test_size=0.30,random_state=4)\n",
        "# test_size set the proportion of data to use as test data. The rest of the data will be used as training data\n",
        "\n",
        "'''HIGHLY RECOMMENDED TO SCALE TRAINING DATA '''\n",
        "\n",
        "scaler = StandardScaler()\n",
        "scaler.fit(x_train)\n",
        "x_train = scaler.transform(x_train)\n",
        "x_test = scaler.transform(x_test)\n",
        "\n",
        "NN = MLPClassifier(activation='relu', alpha= 0.0001, hidden_layer_sizes=(13, 2), learning_rate='constant', solver='sgd', random_state=1, max_iter=10000)\n",
        "\n",
        "NN.fit(x_train, y_train)\n",
        "\n",
        "model=sfs(NN,n_features_to_select=8,direction='forward',scoring='roc_auc', cv = None, n_jobs=-1)\n",
        "\n",
        "model = model.fit(x_train, y_train)\n",
        "\n",
        "print(model.get_feature_names_out())"
      ]
    }
  ],
  "metadata": {
    "kernelspec": {
      "display_name": "Python 3",
      "language": "python",
      "name": "python3"
    },
    "language_info": {
      "codemirror_mode": {
        "name": "ipython",
        "version": 3
      },
      "file_extension": ".py",
      "mimetype": "text/x-python",
      "name": "python",
      "nbconvert_exporter": "python",
      "pygments_lexer": "ipython3",
      "version": "3.11.7"
    },
    "colab": {
      "provenance": [],
      "toc_visible": true
    }
  },
  "nbformat": 4,
  "nbformat_minor": 0
}