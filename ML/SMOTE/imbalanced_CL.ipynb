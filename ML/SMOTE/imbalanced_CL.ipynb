{
  "cells": [
    {
      "cell_type": "markdown",
      "metadata": {
        "id": "view-in-github",
        "colab_type": "text"
      },
      "source": [
        "<a href=\"https://colab.research.google.com/github/IoanPJ/Final_year_project_IMPJ/blob/main/ML/imbalanced_CL.ipynb\" target=\"_parent\"><img src=\"https://colab.research.google.com/assets/colab-badge.svg\" alt=\"Open In Colab\"/></a>"
      ]
    },
    {
      "cell_type": "code",
      "execution_count": 1,
      "metadata": {
        "id": "C3xcXEpyNE2W",
        "outputId": "70ad5b0f-345a-4ab9-9caf-81816cc75c5b",
        "colab": {
          "base_uri": "https://localhost:8080/"
        }
      },
      "outputs": [
        {
          "output_type": "stream",
          "name": "stdout",
          "text": [
            "Downloaded az-paper-twocol.mplstyle\n"
          ]
        }
      ],
      "source": [
        "import imblearn\n",
        "from sklearn.neural_network import MLPClassifier\n",
        "from sklearn.pipeline import Pipeline\n",
        "from sklearn.preprocessing import StandardScaler, FunctionTransformer\n",
        "from sklearn.model_selection import train_test_split, KFold\n",
        "from sklearn.ensemble import BaggingClassifier\n",
        "from sklearn.experimental import enable_iterative_imputer\n",
        "from sklearn.impute import IterativeImputer\n",
        "from sklearn.metrics import confusion_matrix, accuracy_score, f1_score, log_loss, roc_auc_score, RocCurveDisplay, roc_curve\n",
        "import numpy as np\n",
        "import pandas as pd\n",
        "#from IMPJ import DataProcessor\n",
        "import random\n",
        "import matplotlib.pyplot as plt\n",
        "from os.path import basename, exists\n",
        "import matplotlib as mpl\n",
        "import random\n",
        "from collections import Counter\n",
        "from imblearn.over_sampling import SMOTE\n",
        "from imblearn.under_sampling import RandomUnderSampler\n",
        "from sklearn.multiclass import OneVsRestClassifier\n",
        "from tqdm import tqdm\n",
        "\n",
        "#dp = DataProcessor()\n",
        "\n",
        "def download(url):\n",
        "    filename = basename(url)\n",
        "    if not exists(filename):\n",
        "        from urllib.request import urlretrieve\n",
        "        local, _ = urlretrieve(url, filename)\n",
        "        print('Downloaded ' + local)\n",
        "\n",
        "download('https://github.com/AllenDowney/AstronomicalData/raw/main/' + 'az-paper-twocol.mplstyle')\n",
        "plt.style.use('./az-paper-twocol.mplstyle')"
      ]
    },
    {
      "cell_type": "code",
      "source": [
        "from google.colab import drive\n",
        "drive.mount('/content/drive')"
      ],
      "metadata": {
        "id": "ly_EmtuuNKkq",
        "outputId": "420af92a-35fe-4954-a04c-fecaa7646486",
        "colab": {
          "base_uri": "https://localhost:8080/"
        }
      },
      "execution_count": 2,
      "outputs": [
        {
          "output_type": "stream",
          "name": "stdout",
          "text": [
            "Mounted at /content/drive\n"
          ]
        }
      ]
    },
    {
      "cell_type": "code",
      "execution_count": 6,
      "metadata": {
        "id": "k0a2IqueNE2d",
        "outputId": "80f23ee7-b420-4b30-e648-384d7afe4722",
        "colab": {
          "base_uri": "https://localhost:8080/"
        }
      },
      "outputs": [
        {
          "output_type": "stream",
          "name": "stderr",
          "text": [
            "10it [08:45, 52.53s/it]\n"
          ]
        }
      ],
      "source": [
        "test_size = 0.3\n",
        "\n",
        "filepath = \"/content/drive/My Drive/Colab Notebooks/Fermi-LAT Data/fl_wrappered_12.csv\"\n",
        "data = pd.read_csv(filepath, index_col=0)\n",
        "data = data.dropna()\n",
        "Y = np.array(data['CLASS1'])\n",
        "X = np.array(data.drop(labels='CLASS1',axis=1))\n",
        "\n",
        "Y[Y==2]=1 # non radio galaxies\n",
        "Y[Y==3]=0 # radio galaxies\n",
        "\n",
        "init_ratio = len(Y[Y==0])/len(Y[Y==1])\n",
        "\n",
        "sm = SMOTE(random_state=42, sampling_strategy=init_ratio*5)\n",
        "ru = RandomUnderSampler(random_state=42, sampling_strategy=1)\n",
        "\n",
        "scaler = StandardScaler()\n",
        "\n",
        "NN = MLPClassifier(activation='tanh',hidden_layer_sizes=(50,50),learning_rate='adaptive',solver='sgd',\n",
        "                   max_iter=5000)\n",
        "BNN = BaggingClassifier(estimator=NN,n_estimators=5,bootstrap=True,verbose=0,n_jobs=-1)\n",
        "iteration=0\n",
        "kf = KFold(n_splits=10)\n",
        "run=1\n",
        "\n",
        "for train_indices, test_indices in tqdm(kf.split(X)):\n",
        "    iteration+=1\n",
        "    x_train=X[train_indices]\n",
        "    y_train = Y[train_indices]\n",
        "    x_test=X[test_indices]\n",
        "    y_test=Y[test_indices]\n",
        "    scaler.fit(x_train)\n",
        "    x_train = scaler.transform(x_train)\n",
        "    x_test = scaler.transform(x_test)\n",
        "    x_train_sm, y_train_sm = sm.fit_resample(x_train, y_train)\n",
        "    x_train_res, y_train_res = ru.fit_resample(x_train_sm,y_train_sm)\n",
        "\n",
        "    # Machine learning training and testing\n",
        "\n",
        "    BNN.fit(x_train_res, y_train_res)\n",
        "    y_pred=BNN.predict(x_test)\n",
        "    y_proba=BNN.predict_proba(x_test)\n",
        "\n",
        "    # Saving Data\n",
        "\n",
        "\n",
        "    y_proba0=np.array(y_proba).T[0]\n",
        "    y_proba1=np.array(y_proba).T[1]\n",
        "    y_results = pd.DataFrame(y_test,columns=['y_test'])\n",
        "    y_results['y_pred']=y_pred\n",
        "    y_results['y_proba_0']=y_proba0\n",
        "    y_results['y_proba_1']=y_proba1\n",
        "    y_results['testind']=test_indices\n",
        "    y_results.to_csv('/content/drive/My Drive/Colab Notebooks/imbalanced/Run_'+str(run)+'/y_results_cvsplit'+str(iteration)+'.csv')\n"
      ]
    }
  ],
  "metadata": {
    "kernelspec": {
      "display_name": "Python 3",
      "language": "python",
      "name": "python3"
    },
    "language_info": {
      "codemirror_mode": {
        "name": "ipython",
        "version": 3
      },
      "file_extension": ".py",
      "mimetype": "text/x-python",
      "name": "python",
      "nbconvert_exporter": "python",
      "pygments_lexer": "ipython3",
      "version": "3.11.8"
    },
    "colab": {
      "provenance": [],
      "include_colab_link": true
    }
  },
  "nbformat": 4,
  "nbformat_minor": 0
}