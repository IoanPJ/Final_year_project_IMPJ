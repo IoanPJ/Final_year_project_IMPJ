{
 "cells": [
  {
   "cell_type": "code",
   "execution_count": 1,
   "metadata": {},
   "outputs": [],
   "source": [
    "from sklearn.neural_network import MLPClassifier\n",
    "from sklearn.pipeline import Pipeline\n",
    "from sklearn.preprocessing import StandardScaler, FunctionTransformer\n",
    "from sklearn.model_selection import train_test_split\n",
    "from sklearn.ensemble import BaggingClassifier\n",
    "from sklearn.experimental import enable_iterative_imputer\n",
    "from sklearn.impute import IterativeImputer\n",
    "from sklearn.metrics import confusion_matrix, accuracy_score, f1_score, log_loss, roc_auc_score, RocCurveDisplay, roc_curve\n",
    "import wandb\n",
    "from wandb.sklearn import plot_precision_recall, plot_feature_importances\n",
    "from wandb.sklearn import plot_class_proportions, plot_learning_curve, plot_roc\n",
    "import numpy as np\n",
    "import pandas as pd\n",
    "from IMPJ import DataProcessor\n",
    "import random\n",
    "import matplotlib.pyplot as plt\n",
    "from os.path import basename, exists\n",
    "import matplotlib as mpl\n",
    "\n",
    "\n",
    "def download(url):\n",
    "    filename = basename(url)\n",
    "    if not exists(filename):\n",
    "        from urllib.request import urlretrieve\n",
    "        local, _ = urlretrieve(url, filename)\n",
    "        print('Downloaded ' + local)\n",
    "        \n",
    "download('https://github.com/AllenDowney/AstronomicalData/raw/main/' + 'az-paper-twocol.mplstyle')\n",
    "plt.style.use('./az-paper-twocol.mplstyle')"
   ]
  },
  {
   "cell_type": "code",
   "execution_count": 2,
   "metadata": {},
   "outputs": [
    {
     "name": "stdout",
     "output_type": "stream",
     "text": [
      "Index(['Signif_Avg', 'Pivot_Energy', 'Flux1000', 'Energy_Flux100',\n",
      "       'PL_Flux_Density', 'PL_Index', 'LP_Flux_Density', 'LP_Index', 'LP_beta',\n",
      "       'LP_SigCurv', 'LP_EPeak', 'PLEC_Flux_Density', 'PLEC_IndexS',\n",
      "       'PLEC_ExpfactorS', 'PLEC_Exp_Index', 'PLEC_SigCurv', 'Npred',\n",
      "       'Variability_Index', 'Frac_Variability', 'ASSOC_PROB_BAY',\n",
      "       'Flux_Band_0', 'Flux_Band_1', 'Flux_Band_2', 'Flux_Band_3',\n",
      "       'Flux_Band_4', 'Flux_Band_5', 'Flux_Band_6', 'Flux_Band_7',\n",
      "       'nuFnu_Band_0', 'nuFnu_Band_1', 'nuFnu_Band_2', 'nuFnu_Band_3',\n",
      "       'nuFnu_Band_4', 'nuFnu_Band_5', 'nuFnu_Band_6', 'nuFnu_Band_7',\n",
      "       'Sqrt_TS_Band_2', 'Sqrt_TS_Band_3', 'Sqrt_TS_Band_4', 'Sqrt_TS_Band_5',\n",
      "       'Flux_History_0', 'Flux_History_1', 'Flux_History_2', 'Flux_History_3',\n",
      "       'Flux_History_4', 'Flux_History_5', 'Flux_History_6', 'Flux_History_7',\n",
      "       'Sqrt_TS_History_0', 'Sqrt_TS_History_1', 'Sqrt_TS_History_2',\n",
      "       'Sqrt_TS_History_3', 'Sqrt_TS_History_4', 'Sqrt_TS_History_5',\n",
      "       'Sqrt_TS_History_6', 'Sqrt_TS_History_7', 'CLASS1'],\n",
      "      dtype='object')\n"
     ]
    }
   ],
   "source": [
    "#non log transformed\n",
    "nonlogpath = '..\\\\Fermi-LAT Data\\\\fl_varranked_rm0.csv'\n",
    "\n",
    "#log transformed\n",
    "logpath = '..\\\\Fermi-LAT Data\\\\fl_logtransformed.csv'\n",
    "\n",
    "data = pd.read_csv(nonlogpath, index_col=0)\n",
    "logdata = pd.read_csv(logpath, index_col=0)\n",
    "\n",
    "\n",
    "print(data.columns)\n",
    "NN = MLPClassifier(activation='relu', alpha= 0.0001, hidden_layer_sizes=(30,20,10), learning_rate='constant', solver='sgd', random_state=1, max_iter=10000)\n",
    "BNN = BaggingClassifier(estimator=NN,n_estimators=10,bootstrap=True)"
   ]
  },
  {
   "cell_type": "code",
   "execution_count": 3,
   "metadata": {},
   "outputs": [
    {
     "data": {
      "text/plain": [
       "\"\\ncol = 'LP_EPeak'\\nindices = data.index.values.tolist()\\n\\nnum = 5\\n\\nvalues = np.zeros(num)\\nfor i in range(0,num):\\n    values[i] = random.choice(indices)\\nprint(values)\\ndp = DataProcessor()\\ndata = dp.multipleimputation(data,col,values)\\ndata.to_csv('mi_test.csv')\""
      ]
     },
     "execution_count": 3,
     "metadata": {},
     "output_type": "execute_result"
    }
   ],
   "source": [
    "'''\n",
    "col = 'LP_EPeak'\n",
    "indices = data.index.values.tolist()\n",
    "\n",
    "num = 5\n",
    "\n",
    "values = np.zeros(num)\n",
    "for i in range(0,num):\n",
    "    values[i] = random.choice(indices)\n",
    "print(values)\n",
    "dp = DataProcessor()\n",
    "data = dp.multipleimputation(data,col,values)\n",
    "data.to_csv('mi_test.csv')'''"
   ]
  },
  {
   "cell_type": "code",
   "execution_count": 4,
   "metadata": {},
   "outputs": [
    {
     "name": "stdout",
     "output_type": "stream",
     "text": [
      "check1\n",
      "check1\n"
     ]
    }
   ],
   "source": [
    "\n",
    "# Creating test and train data and Classifiers \n",
    "\n",
    "test_size = 0.3\n",
    "\n",
    "dp = DataProcessor()\n",
    "X,Y = dp.choose_2_vars('CLASS1',data,1,2)\n",
    "logX,logY = dp.choose_2_vars('CLASS1',logdata,1,2)\n",
    "x_train, x_test, y_train, y_test = train_test_split(X, Y, test_size=test_size,random_state=4) \n",
    "logx_train, logx_test, logy_train, logy_test = train_test_split(X, Y, test_size=test_size,random_state=4) \n",
    "\n",
    "# Define the pipeline\n",
    "\n",
    "pipeline = Pipeline([\n",
    "    ('scaler', StandardScaler()),\n",
    "    ('classifier', BNN)\n",
    "])\n",
    "\n",
    "# Fit the pipeline on the training data\n",
    "\n",
    "pipeline.fit(x_train,y_train)\n",
    "y_pred = pipeline.predict(x_test)\n",
    "y_proba = pipeline.predict_proba(x_test)\n",
    "\n",
    "pipeline.fit(logx_train,logy_train)\n",
    "logy_pred = pipeline.predict(logx_test)\n",
    "logy_proba = pipeline.predict_proba(logx_test)\n"
   ]
  },
  {
   "cell_type": "code",
   "execution_count": 5,
   "metadata": {},
   "outputs": [
    {
     "name": "stdout",
     "output_type": "stream",
     "text": [
      "The Neural Network accuracy is 90.60240963855422\n",
      "The Neural Network ROC AUC Scores are: 0.8908290312784694\n",
      "The Neural Network's Weighted Average ROC AUC Score is: 0.8908290312784694\n",
      "The Neural Network's Logarithmic Loss Score is: 3.3872348968086\n",
      "The Neural Network F1 Score is: 0.8641114982578396\n",
      "The Neural Network Confusion Matrix is:\n",
      "[[252  15]\n",
      " [ 24 124]]\n"
     ]
    },
    {
     "data": {
      "image/png": "[encoded data removed]",
      "text/plain": [
       "<Figure size 500x300 with 1 Axes>"
      ]
     },
     "metadata": {},
     "output_type": "display_data"
    }
   ],
   "source": [
    "''' SCORING METRICS '''\n",
    "\n",
    "accuracy = accuracy_score(y_test, y_pred)*100\n",
    "confusion = confusion_matrix(y_test, y_pred)\n",
    "roc_auc = roc_auc_score(y_test,y_pred)\n",
    "roc_auc_weightedavg = roc_auc_score(y_test,y_pred,average='weighted')\n",
    "logloss = log_loss(y_test,y_pred)\n",
    "f1 = f1_score(y_test,y_pred)\n",
    "fpr, tpr, thresholds = roc_curve(y_test,y_proba.T[1])\n",
    "\n",
    "print('The Neural Network accuracy is ' + str(accuracy))\n",
    "print('The Neural Network ROC AUC Scores are: '+str(roc_auc))\n",
    "print(\"The Neural Network's Weighted Average ROC AUC Score is: \" + str(roc_auc_weightedavg))\n",
    "print(\"The Neural Network's Logarithmic Loss Score is: \" + str(logloss))\n",
    "print('The Neural Network F1 Score is: '+str(f1))\n",
    "print('The Neural Network Confusion Matrix is:')\n",
    "print(confusion)\n",
    "\n",
    "mpl.rcParams['figure.dpi'] = 100\n",
    "fig, ax = plt.subplots(figsize=(5,3))\n",
    "ax.plot(fpr,tpr)\n",
    "ax.set_ylabel('True Positive Rate (BLL/FSRQ)')\n",
    "ax.set_xlabel('False Positive Rate (BLL/FSRQ)')\n",
    "\n",
    "#RocCurveDisplay.from_estimator(pipeline, x_test, y_test,ax=ax).figure_\n",
    "plt.title('The Receiver Operating Characteristic Curve for Logarithmically Scaled Data')\n",
    "plt.show()"
   ]
  },
  {
   "cell_type": "code",
   "execution_count": 6,
   "metadata": {},
   "outputs": [
    {
     "name": "stderr",
     "output_type": "stream",
     "text": [
      "Failed to detect the name of this notebook, you can set it manually with the WANDB_NOTEBOOK_NAME environment variable to enable code saving.\n",
      "\u001b[34m\u001b[1mwandb\u001b[0m: Currently logged in as: \u001b[33mioanpeakejones\u001b[0m. Use \u001b[1m`wandb login --relogin`\u001b[0m to force relogin\n"
     ]
    },
    {
     "data": {
      "text/html": [
       "Tracking run with wandb version 0.16.1"
      ],
      "text/plain": [
       "<IPython.core.display.HTML object>"
      ]
     },
     "metadata": {},
     "output_type": "display_data"
    },
    {
     "data": {
      "text/html": [
       "Run data is saved locally in <code>c:\\Users\\ioanp\\Documents\\Final Year Project\\initial_coding\\ML\\wandb\\run-20231214_140559-ou5m3bd9</code>"
      ],
      "text/plain": [
       "<IPython.core.display.HTML object>"
      ]
     },
     "metadata": {},
     "output_type": "display_data"
    },
    {
     "data": {
      "text/html": [
       "Syncing run <strong><a href='https://wandb.ai/ioanpeakejones/final-year-project/runs/ou5m3bd9' target=\"_blank\">pleasant-oath-11</a></strong> to <a href='https://wandb.ai/ioanpeakejones/final-year-project' target=\"_blank\">Weights & Biases</a> (<a href='https://wandb.me/run' target=\"_blank\">docs</a>)<br/>"
      ],
      "text/plain": [
       "<IPython.core.display.HTML object>"
      ]
     },
     "metadata": {},
     "output_type": "display_data"
    },
    {
     "data": {
      "text/html": [
       " View project at <a href='https://wandb.ai/ioanpeakejones/final-year-project' target=\"_blank\">https://wandb.ai/ioanpeakejones/final-year-project</a>"
      ],
      "text/plain": [
       "<IPython.core.display.HTML object>"
      ]
     },
     "metadata": {},
     "output_type": "display_data"
    },
    {
     "data": {
      "text/html": [
       " View run at <a href='https://wandb.ai/ioanpeakejones/final-year-project/runs/ou5m3bd9' target=\"_blank\">https://wandb.ai/ioanpeakejones/final-year-project/runs/ou5m3bd9</a>"
      ],
      "text/plain": [
       "<IPython.core.display.HTML object>"
      ]
     },
     "metadata": {},
     "output_type": "display_data"
    },
    {
     "ename": "NameError",
     "evalue": "name 'labels' is not defined",
     "output_type": "error",
     "traceback": [
      "\u001b[1;31m---------------------------------------------------------------------------\u001b[0m",
      "\u001b[1;31mNameError\u001b[0m                                 Traceback (most recent call last)",
      "Cell \u001b[1;32mIn[6], line 9\u001b[0m\n\u001b[0;32m      4\u001b[0m wandb\u001b[38;5;241m.\u001b[39minit(project\u001b[38;5;241m=\u001b[39m\u001b[38;5;124m'\u001b[39m\u001b[38;5;124mfinal-year-project\u001b[39m\u001b[38;5;124m'\u001b[39m, config\u001b[38;5;241m=\u001b[39mBNN_params)\n\u001b[0;32m      5\u001b[0m wandb\u001b[38;5;241m.\u001b[39mconfig\u001b[38;5;241m.\u001b[39mupdate({\u001b[38;5;124m\"\u001b[39m\u001b[38;5;124mtest_size\u001b[39m\u001b[38;5;124m\"\u001b[39m : test_size,\n\u001b[0;32m      6\u001b[0m                     \u001b[38;5;124m\"\u001b[39m\u001b[38;5;124mtrain_len\u001b[39m\u001b[38;5;124m\"\u001b[39m : \u001b[38;5;28mlen\u001b[39m(x_train),\n\u001b[0;32m      7\u001b[0m                     \u001b[38;5;124m\"\u001b[39m\u001b[38;5;124mtest_len\u001b[39m\u001b[38;5;124m\"\u001b[39m : \u001b[38;5;28mlen\u001b[39m(x_test)})\n\u001b[1;32m----> 9\u001b[0m plot_class_proportions(y_train, y_test, \u001b[43mlabels\u001b[49m)\n\u001b[0;32m     10\u001b[0m plot_learning_curve(BNN, x_train, y_train)\n\u001b[0;32m     11\u001b[0m plot_roc(y_test, y_proba, labels)\n",
      "\u001b[1;31mNameError\u001b[0m: name 'labels' is not defined"
     ]
    }
   ],
   "source": [
    "# Saving the run to WandB\n",
    "\n",
    "BNN_params = BNN.get_params\n",
    "wandb.init(project='final-year-project', config=BNN_params)\n",
    "wandb.config.update({\"test_size\" : test_size,\n",
    "                    \"train_len\" : len(x_train),\n",
    "                    \"test_len\" : len(x_test)})\n",
    "\n",
    "plot_class_proportions(y_train, y_test, labels)\n",
    "plot_learning_curve(BNN, x_train, y_train)\n",
    "plot_roc(y_test, y_proba, labels)\n",
    "plot_precision_recall(y_test, y_proba, labels)\n",
    "#plot_feature_importances(model)\n",
    "\n",
    "# [optional] finish the wandb run, necessary in notebooks\n",
    "wandb.finish()\n"
   ]
  },
  {
   "cell_type": "code",
   "execution_count": null,
   "metadata": {},
   "outputs": [
    {
     "name": "stdout",
     "output_type": "stream",
     "text": [
      "(415, 57)\n"
     ]
    },
    {
     "data": {
      "image/png": "[encoded data removed]",
      "text/plain": [
       "<Figure size 640x480 with 1 Axes>"
      ]
     },
     "metadata": {},
     "output_type": "display_data"
    }
   ],
   "source": [
    "import matplotlib.pyplot as plt\n",
    "#print(y_proba)\n",
    "probs = pd.DataFrame(y_proba,columns=('p_1','p_2'))\n",
    "bin_probs_1 = pd.cut(probs['p_1'],np.linspace(0,1,50),include_lowest=True)\n",
    "bin_probs_2 = pd.cut(probs['p_2'],np.linspace(0,1,50),include_lowest=True)\n",
    "\n",
    "print(x_test.shape)\n",
    "\n",
    "fig, ax = plt.subplots()\n",
    "x_axis = np.linspace(0,1,len(bin_probs_1.value_counts()))\n",
    "\n",
    "ax.bar(x_axis-0.005,bin_probs_1.value_counts(sort=False), width=0.01,label='BLLs')\n",
    "ax.bar(x_axis+0.005,bin_probs_2.value_counts(sort=False),width=0.01,label='FSRQs')\n",
    "ax.legend()\n",
    "ax.set_xlabel('Probability')\n",
    "ax.set_ylabel('Number of Objects')\n",
    "ax.set_title('Results of the MLPClassifier algorithm applied to known BLLs and FSRQs')\n",
    "\n",
    "plt.show()"
   ]
  },
  {
   "cell_type": "code",
   "execution_count": null,
   "metadata": {},
   "outputs": [],
   "source": []
  }
 ],
 "metadata": {
  "kernelspec": {
   "display_name": "Python 3",
   "language": "python",
   "name": "python3"
  },
  "language_info": {
   "codemirror_mode": {
    "name": "ipython",
    "version": 3
   },
   "file_extension": ".py",
   "mimetype": "text/x-python",
   "name": "python",
   "nbconvert_exporter": "python",
   "pygments_lexer": "ipython3",
   "version": "3.11.7"
  }
 },
 "nbformat": 4,
 "nbformat_minor": 2
}
