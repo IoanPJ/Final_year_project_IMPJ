{
 "cells": [
  {
   "cell_type": "code",
   "execution_count": 1,
   "metadata": {},
   "outputs": [],
   "source": [
    "from sklearn.neural_network import MLPClassifier\n",
    "from sklearn.pipeline import Pipeline\n",
    "from sklearn.preprocessing import StandardScaler, FunctionTransformer\n",
    "from sklearn.model_selection import train_test_split\n",
    "from sklearn.ensemble import BaggingClassifier\n",
    "from sklearn.experimental import enable_iterative_imputer\n",
    "from sklearn.impute import IterativeImputer\n",
    "from sklearn.metrics import confusion_matrix, accuracy_score, f1_score, log_loss, roc_auc_score, RocCurveDisplay, roc_curve\n",
    "import numpy as np\n",
    "import pandas as pd\n",
    "from IMPJ import DataProcessor\n",
    "import random\n",
    "import matplotlib.pyplot as plt\n",
    "from os.path import basename, exists\n",
    "import matplotlib as mpl\n",
    "import random\n",
    "from tqdm import tqdm\n",
    "\n",
    "randomstate = random.randint(1,1000) \n",
    "\n",
    "def download(url):\n",
    "    filename = basename(url)\n",
    "    if not exists(filename):\n",
    "        from urllib.request import urlretrieve\n",
    "        local, _ = urlretrieve(url, filename)\n",
    "        print('Downloaded ' + local)\n",
    "        \n",
    "download('https://github.com/AllenDowney/AstronomicalData/raw/main/' + 'az-paper-twocol.mplstyle')\n",
    "plt.style.use('./az-paper-twocol.mplstyle')"
   ]
  },
  {
   "cell_type": "code",
   "execution_count": 2,
   "metadata": {},
   "outputs": [],
   "source": [
    "dp = DataProcessor()"
   ]
  },
  {
   "cell_type": "code",
   "execution_count": 3,
   "metadata": {},
   "outputs": [
    {
     "data": {
      "text/plain": [
       "'\\nfrom sklearn.model_selection import GridSearchCV\\nfrom sklearn.model_selection import RandomizedSearchCV\\nfrom skopt import BayesSearchCV\\nhl_list = []\\nfor i in range(1,100):\\n        for k in range(1,100):\\n               \\n                hl_list.append((i,k))\\n\\nmodel_parameters = {\\n        \\'hidden_layer_sizes\\':hl_list,\\n        \\'activation\\':[\\'tanh\\',\\'relu\\'],\\n        \\'solver\\':[\\'lbfgs\\',\\'sgd\\',\\'adam\\'],\\n        \\'learning_rate\\':[\\'constant\\',\\'invscaling\\',\\'adaptive\\']\\n}\\nNN = MLPClassifier(random_state=1)\\nclf = RandomizedSearchCV(NN, model_parameters, n_jobs=-1, cv=20,scoring=\\'roc_auc\\')\\nclf.fit(x_train, y_train)\\n#NN = MLPClassifier(activation=\\'relu\\', alpha= 0.0001, hidden_layer_sizes=(30,20,10), learning_rate=\\'constant\\', solver=\\'sgd\\', random_state=1, max_iter=10000)\\n\\n# All results\\n#means = clf.cv_results_[\\'mean_test_score\\']\\n#stds = clf.cv_results_[\\'std_test_score\\']\\n#for mean, std, params in zip(means, stds, clf.cv_results_[\\'params\\']):\\n#    print(\"%0.3f (+/-%0.03f) for %r\" % (mean, std * 2, params))\\n\\nprint(\\'Best parameters found:\\n\\', clf.best_params_ )\\nprint(\\'Best Score (ROC-AUC) was: \\n\\', clf.best_score_)'"
      ]
     },
     "execution_count": 3,
     "metadata": {},
     "output_type": "execute_result"
    }
   ],
   "source": [
    "'''\n",
    "from sklearn.model_selection import GridSearchCV\n",
    "from sklearn.model_selection import RandomizedSearchCV\n",
    "from skopt import BayesSearchCV\n",
    "hl_list = []\n",
    "for i in range(1,100):\n",
    "        for k in range(1,100):\n",
    "               \n",
    "                hl_list.append((i,k))\n",
    "\n",
    "model_parameters = {\n",
    "        'hidden_layer_sizes':hl_list,\n",
    "        'activation':['tanh','relu'],\n",
    "        'solver':['lbfgs','sgd','adam'],\n",
    "        'learning_rate':['constant','invscaling','adaptive']\n",
    "}\n",
    "NN = MLPClassifier(random_state=1)\n",
    "clf = RandomizedSearchCV(NN, model_parameters, n_jobs=-1, cv=20,scoring='roc_auc')\n",
    "clf.fit(x_train, y_train)\n",
    "#NN = MLPClassifier(activation='relu', alpha= 0.0001, hidden_layer_sizes=(30,20,10), learning_rate='constant', solver='sgd', random_state=1, max_iter=10000)\n",
    "\n",
    "# All results\n",
    "#means = clf.cv_results_['mean_test_score']\n",
    "#stds = clf.cv_results_['std_test_score']\n",
    "#for mean, std, params in zip(means, stds, clf.cv_results_['params']):\n",
    "#    print(\"%0.3f (+/-%0.03f) for %r\" % (mean, std * 2, params))\n",
    "\n",
    "print('Best parameters found:\\n', clf.best_params_ )\n",
    "print('Best Score (ROC-AUC) was: \\n', clf.best_score_)'''\n"
   ]
  },
  {
   "cell_type": "code",
   "execution_count": 4,
   "metadata": {},
   "outputs": [
    {
     "name": "stderr",
     "output_type": "stream",
     "text": [
      "  0%|          | 0/10 [00:00<?, ?it/s]"
     ]
    },
    {
     "name": "stderr",
     "output_type": "stream",
     "text": [
      "100%|██████████| 10/10 [26:01<00:00, 156.16s/it]\n"
     ]
    }
   ],
   "source": [
    "\n",
    "for i in tqdm(range(11,21)):\n",
    "    \n",
    "    test_size = 0.25\n",
    "    \n",
    "    n=12\n",
    "    filepath = '..\\\\Fermi-LAT Data Subsets\\\\chiaro_12.csv'\n",
    "    datum = pd.read_csv(filepath, index_col=0)\n",
    "    data = pd.read_csv(filepath, index_col=0)\n",
    "    data = data.dropna()\n",
    "    datum = datum.dropna()\n",
    "    X,Y = dp.choose_2_vars('CLASS1',data,1,2)\n",
    "    x_train, x_test, y_train, y_test = train_test_split(X, Y, test_size=test_size,random_state=2*i) \n",
    "    scaler = StandardScaler()  \n",
    "    scaler.fit(x_train)  \n",
    "    x_train = scaler.transform(x_train)  \n",
    "    x_test = scaler.transform(x_test)  \n",
    "\n",
    "    NN = MLPClassifier(activation='tanh',hidden_layer_sizes=(50,50),learning_rate='constant',solver='sgd',max_iter=5000,random_state=5*i)\n",
    "    BNN = BaggingClassifier(estimator=NN,n_estimators=20,bootstrap=True)\n",
    "    BNN.fit(x_train,y_train)\n",
    "    y_pred = BNN.predict(x_test)\n",
    "    y_proba = BNN.predict_proba(x_test)\n",
    "\n",
    "\n",
    "    ''' SCORING METRICS '''\n",
    "\n",
    "    accuracy = accuracy_score(y_test, y_pred)*100\n",
    "    confusion = confusion_matrix(y_test, y_pred)\n",
    "    roc_auc = roc_auc_score(y_test,y_pred)\n",
    "    roc_auc_weightedavg = roc_auc_score(y_test,y_pred,average='weighted')\n",
    "    logloss = log_loss(y_test,y_pred)\n",
    "    f1 = f1_score(y_test,y_pred)\n",
    "    fpr, tpr, thresholds = roc_curve(y_test,y_proba.T[1])\n",
    "\n",
    "    #print('The Neural Network accuracy is ' + str(accuracy))\n",
    "    #print('The Neural Network ROC AUC Scores are: '+str(roc_auc))\n",
    "    #print(\"The Neural Network's Weighted Average ROC AUC Score is: \" + str(roc_auc_weightedavg))\n",
    "    #print(\"The Neural Network's Logarithmic Loss Score is: \" + str(logloss))\n",
    "    #print('The Neural Network F1 Score is: '+str(f1))\n",
    "    #print('The Neural Network Confusion Matrix is:')\n",
    "    #print(confusion)\n",
    "\n",
    "    resultcols = ['Accuracy', 'ROC AUC', 'ROC Weighted Av', 'Logarithmic Loss', \n",
    "            'F1 Score', 'CMatrix11','CMatrix12', 'CMatrix21', 'CMatrix22']\n",
    "    resultarray = np.array((accuracy,roc_auc,roc_auc_weightedavg,logloss,f1,\n",
    "                            confusion[0,0],confusion[0,1],confusion[1,0],confusion[1,1]))\n",
    "    rocresultcols = ['FPR','TPR','Thresholds']\n",
    "    rocresultarray = np.array([fpr,tpr,thresholds])\n",
    "    #print(rocresultarray)\n",
    "    results = pd.DataFrame([resultarray],columns=resultcols)\n",
    "    rocresults = pd.DataFrame(np.array([fpr,tpr,thresholds]).transpose(),columns=rocresultcols)\n",
    "\n",
    "    #results.to_csv('/content/drive/My Drive/Colab Notebooks/testresults.csv')\n",
    "    #rocresults.to_csv('/content/drive/My Drive/Colab Notebooks/testrocresults.csv')\n",
    "    #results.to_csv('..\\\\Hyperparam_results\\\\2layer_0.csv')\n",
    "    results.to_csv('..\\\\traintestsplitresults\\\\2575_'+str(i)+'.csv')\n",
    "    rocresults.to_csv('..\\\\traintestsplitresults\\\\roc_2575_'+str(i)+'.csv')\n",
    "    #print(results)\n",
    "        "
   ]
  },
  {
   "cell_type": "code",
   "execution_count": 11,
   "metadata": {},
   "outputs": [
    {
     "name": "stderr",
     "output_type": "stream",
     "text": [
      "100%|██████████| 10/10 [39:35<00:00, 237.53s/it]\n"
     ]
    }
   ],
   "source": [
    "\n",
    "for i in tqdm(range(11,21)):\n",
    "    \n",
    "    test_size = 0.3\n",
    "    \n",
    "    n=12\n",
    "    filepath = '..\\\\Fermi-LAT Data Subsets\\\\chiaro_12.csv'\n",
    "    datum = pd.read_csv(filepath, index_col=0)\n",
    "    data = pd.read_csv(filepath, index_col=0)\n",
    "    data = data.dropna()\n",
    "    datum = datum.dropna()\n",
    "    X,Y = dp.choose_2_vars('CLASS1',data,1,2)\n",
    "    x_train, x_test, y_train, y_test = train_test_split(X, Y, test_size=test_size,random_state=2*i) \n",
    "    scaler = StandardScaler()  \n",
    "    scaler.fit(x_train)  \n",
    "    x_train = scaler.transform(x_train)  \n",
    "    x_test = scaler.transform(x_test)  \n",
    "\n",
    "    NN = MLPClassifier(activation='tanh',hidden_layer_sizes=(50,50),learning_rate='constant',solver='sgd',max_iter=5000,random_state=5*i)\n",
    "    BNN = BaggingClassifier(estimator=NN,n_estimators=20,bootstrap=True)\n",
    "    BNN.fit(x_train,y_train)\n",
    "    y_pred = BNN.predict(x_test)\n",
    "    y_proba = BNN.predict_proba(x_test)\n",
    "\n",
    "\n",
    "    ''' SCORING METRICS '''\n",
    "\n",
    "    accuracy = accuracy_score(y_test, y_pred)*100\n",
    "    confusion = confusion_matrix(y_test, y_pred)\n",
    "    roc_auc = roc_auc_score(y_test,y_pred)\n",
    "    roc_auc_weightedavg = roc_auc_score(y_test,y_pred,average='weighted')\n",
    "    logloss = log_loss(y_test,y_pred)\n",
    "    f1 = f1_score(y_test,y_pred)\n",
    "    fpr, tpr, thresholds = roc_curve(y_test,y_proba.T[1])\n",
    "\n",
    "    #print('The Neural Network accuracy is ' + str(accuracy))\n",
    "    #print('The Neural Network ROC AUC Scores are: '+str(roc_auc))\n",
    "    #print(\"The Neural Network's Weighted Average ROC AUC Score is: \" + str(roc_auc_weightedavg))\n",
    "    #print(\"The Neural Network's Logarithmic Loss Score is: \" + str(logloss))\n",
    "    #print('The Neural Network F1 Score is: '+str(f1))\n",
    "    #print('The Neural Network Confusion Matrix is:')\n",
    "    #print(confusion)\n",
    "\n",
    "    resultcols = ['Accuracy', 'ROC AUC', 'ROC Weighted Av', 'Logarithmic Loss', \n",
    "            'F1 Score', 'CMatrix11','CMatrix12', 'CMatrix21', 'CMatrix22']\n",
    "    resultarray = np.array((accuracy,roc_auc,roc_auc_weightedavg,logloss,f1,\n",
    "                            confusion[0,0],confusion[0,1],confusion[1,0],confusion[1,1]))\n",
    "    rocresultcols = ['FPR','TPR','Thresholds']\n",
    "    rocresultarray = np.array([fpr,tpr,thresholds])\n",
    "    #print(rocresultarray)\n",
    "    results = pd.DataFrame([resultarray],columns=resultcols)\n",
    "    rocresults = pd.DataFrame(np.array([fpr,tpr,thresholds]).transpose(),columns=rocresultcols)\n",
    "\n",
    "    #results.to_csv('/content/drive/My Drive/Colab Notebooks/testresults.csv')\n",
    "    #rocresults.to_csv('/content/drive/My Drive/Colab Notebooks/testrocresults.csv')\n",
    "    #results.to_csv('..\\\\Hyperparam_results\\\\2layer_0.csv')\n",
    "    results.to_csv('..\\\\traintestsplitresults\\\\3070_'+str(i)+'.csv')\n",
    "    rocresults.to_csv('..\\\\traintestsplitresults\\\\roc_3070_'+str(i)+'.csv')\n",
    "    #print(results)\n",
    "        "
   ]
  },
  {
   "cell_type": "code",
   "execution_count": 12,
   "metadata": {},
   "outputs": [
    {
     "name": "stderr",
     "output_type": "stream",
     "text": [
      "  0%|          | 0/10 [00:00<?, ?it/s]"
     ]
    },
    {
     "name": "stderr",
     "output_type": "stream",
     "text": [
      "100%|██████████| 10/10 [35:14<00:00, 211.44s/it]\n"
     ]
    }
   ],
   "source": [
    "\n",
    "for i in tqdm(range(11,21)):\n",
    "    \n",
    "    test_size = 0.35\n",
    "    \n",
    "    n=12\n",
    "    filepath = '..\\\\Fermi-LAT Data Subsets\\\\chiaro_12.csv'\n",
    "    datum = pd.read_csv(filepath, index_col=0)\n",
    "    data = pd.read_csv(filepath, index_col=0)\n",
    "    data = data.dropna()\n",
    "    datum = datum.dropna()\n",
    "    X,Y = dp.choose_2_vars('CLASS1',data,1,2)\n",
    "    x_train, x_test, y_train, y_test = train_test_split(X, Y, test_size=test_size,random_state=2*i) \n",
    "    scaler = StandardScaler()  \n",
    "    scaler.fit(x_train)  \n",
    "    x_train = scaler.transform(x_train)  \n",
    "    x_test = scaler.transform(x_test)  \n",
    "\n",
    "    NN = MLPClassifier(activation='tanh',hidden_layer_sizes=(50,50),learning_rate='constant',solver='sgd',max_iter=5000,random_state=5*i)\n",
    "    BNN = BaggingClassifier(estimator=NN,n_estimators=20,bootstrap=True)\n",
    "    BNN.fit(x_train,y_train)\n",
    "    y_pred = BNN.predict(x_test)\n",
    "    y_proba = BNN.predict_proba(x_test)\n",
    "\n",
    "\n",
    "    ''' SCORING METRICS '''\n",
    "\n",
    "    accuracy = accuracy_score(y_test, y_pred)*100\n",
    "    confusion = confusion_matrix(y_test, y_pred)\n",
    "    roc_auc = roc_auc_score(y_test,y_pred)\n",
    "    roc_auc_weightedavg = roc_auc_score(y_test,y_pred,average='weighted')\n",
    "    logloss = log_loss(y_test,y_pred)\n",
    "    f1 = f1_score(y_test,y_pred)\n",
    "    fpr, tpr, thresholds = roc_curve(y_test,y_proba.T[1])\n",
    "\n",
    "    #print('The Neural Network accuracy is ' + str(accuracy))\n",
    "    #print('The Neural Network ROC AUC Scores are: '+str(roc_auc))\n",
    "    #print(\"The Neural Network's Weighted Average ROC AUC Score is: \" + str(roc_auc_weightedavg))\n",
    "    #print(\"The Neural Network's Logarithmic Loss Score is: \" + str(logloss))\n",
    "    #print('The Neural Network F1 Score is: '+str(f1))\n",
    "    #print('The Neural Network Confusion Matrix is:')\n",
    "    #print(confusion)\n",
    "\n",
    "    resultcols = ['Accuracy', 'ROC AUC', 'ROC Weighted Av', 'Logarithmic Loss', \n",
    "            'F1 Score', 'CMatrix11','CMatrix12', 'CMatrix21', 'CMatrix22']\n",
    "    resultarray = np.array((accuracy,roc_auc,roc_auc_weightedavg,logloss,f1,\n",
    "                            confusion[0,0],confusion[0,1],confusion[1,0],confusion[1,1]))\n",
    "    rocresultcols = ['FPR','TPR','Thresholds']\n",
    "    rocresultarray = np.array([fpr,tpr,thresholds])\n",
    "    #print(rocresultarray)\n",
    "    results = pd.DataFrame([resultarray],columns=resultcols)\n",
    "    rocresults = pd.DataFrame(np.array([fpr,tpr,thresholds]).transpose(),columns=rocresultcols)\n",
    "\n",
    "    #results.to_csv('/content/drive/My Drive/Colab Notebooks/testresults.csv')\n",
    "    #rocresults.to_csv('/content/drive/My Drive/Colab Notebooks/testrocresults.csv')\n",
    "    #results.to_csv('..\\\\Hyperparam_results\\\\2layer_0.csv')\n",
    "    results.to_csv('..\\\\traintestsplitresults\\\\3565_'+str(i)+'.csv')\n",
    "    rocresults.to_csv('..\\\\traintestsplitresults\\\\roc_3565_'+str(i)+'.csv')\n",
    "    #print(results)\n",
    "        "
   ]
  },
  {
   "cell_type": "code",
   "execution_count": 13,
   "metadata": {},
   "outputs": [
    {
     "name": "stderr",
     "output_type": "stream",
     "text": [
      "  0%|          | 0/10 [00:00<?, ?it/s]"
     ]
    },
    {
     "name": "stderr",
     "output_type": "stream",
     "text": [
      "100%|██████████| 10/10 [21:24<00:00, 128.47s/it]\n"
     ]
    }
   ],
   "source": [
    "\n",
    "for i in tqdm(range(11,21)):\n",
    "    \n",
    "    test_size = 0.4\n",
    "    \n",
    "    n=12\n",
    "    filepath = '..\\\\Fermi-LAT Data Subsets\\\\chiaro_12.csv'\n",
    "    datum = pd.read_csv(filepath, index_col=0)\n",
    "    data = pd.read_csv(filepath, index_col=0)\n",
    "    data = data.dropna()\n",
    "    datum = datum.dropna()\n",
    "    X,Y = dp.choose_2_vars('CLASS1',data,1,2)\n",
    "    x_train, x_test, y_train, y_test = train_test_split(X, Y, test_size=test_size,random_state=2*i) \n",
    "    scaler = StandardScaler()  \n",
    "    scaler.fit(x_train)  \n",
    "    x_train = scaler.transform(x_train)  \n",
    "    x_test = scaler.transform(x_test)  \n",
    "\n",
    "    NN = MLPClassifier(activation='tanh',hidden_layer_sizes=(50,50),learning_rate='constant',solver='sgd',max_iter=5000,random_state=5*i)\n",
    "    BNN = BaggingClassifier(estimator=NN,n_estimators=20,bootstrap=True)\n",
    "    BNN.fit(x_train,y_train)\n",
    "    y_pred = BNN.predict(x_test)\n",
    "    y_proba = BNN.predict_proba(x_test)\n",
    "\n",
    "\n",
    "    ''' SCORING METRICS '''\n",
    "\n",
    "    accuracy = accuracy_score(y_test, y_pred)*100\n",
    "    confusion = confusion_matrix(y_test, y_pred)\n",
    "    roc_auc = roc_auc_score(y_test,y_pred)\n",
    "    roc_auc_weightedavg = roc_auc_score(y_test,y_pred,average='weighted')\n",
    "    logloss = log_loss(y_test,y_pred)\n",
    "    f1 = f1_score(y_test,y_pred)\n",
    "    fpr, tpr, thresholds = roc_curve(y_test,y_proba.T[1])\n",
    "\n",
    "    #print('The Neural Network accuracy is ' + str(accuracy))\n",
    "    #print('The Neural Network ROC AUC Scores are: '+str(roc_auc))\n",
    "    #print(\"The Neural Network's Weighted Average ROC AUC Score is: \" + str(roc_auc_weightedavg))\n",
    "    #print(\"The Neural Network's Logarithmic Loss Score is: \" + str(logloss))\n",
    "    #print('The Neural Network F1 Score is: '+str(f1))\n",
    "    #print('The Neural Network Confusion Matrix is:')\n",
    "    #print(confusion)\n",
    "\n",
    "    resultcols = ['Accuracy', 'ROC AUC', 'ROC Weighted Av', 'Logarithmic Loss', \n",
    "            'F1 Score', 'CMatrix11','CMatrix12', 'CMatrix21', 'CMatrix22']\n",
    "    resultarray = np.array((accuracy,roc_auc,roc_auc_weightedavg,logloss,f1,\n",
    "                            confusion[0,0],confusion[0,1],confusion[1,0],confusion[1,1]))\n",
    "    rocresultcols = ['FPR','TPR','Thresholds']\n",
    "    rocresultarray = np.array([fpr,tpr,thresholds])\n",
    "    #print(rocresultarray)\n",
    "    results = pd.DataFrame([resultarray],columns=resultcols)\n",
    "    rocresults = pd.DataFrame(np.array([fpr,tpr,thresholds]).transpose(),columns=rocresultcols)\n",
    "\n",
    "    #results.to_csv('/content/drive/My Drive/Colab Notebooks/testresults.csv')\n",
    "    #rocresults.to_csv('/content/drive/My Drive/Colab Notebooks/testrocresults.csv')\n",
    "    #results.to_csv('..\\\\Hyperparam_results\\\\2layer_0.csv')\n",
    "    results.to_csv('..\\\\traintestsplitresults\\\\4060_'+str(i)+'.csv')\n",
    "    rocresults.to_csv('..\\\\traintestsplitresults\\\\roc_4060_'+str(i)+'.csv')\n",
    "    #print(results)\n",
    "        "
   ]
  },
  {
   "cell_type": "code",
   "execution_count": 14,
   "metadata": {},
   "outputs": [],
   "source": [
    "dataclassles = data.drop(columns='CLASS1')\n",
    "df_test = pd.DataFrame(x_test,columns=[dataclassles.columns])\n",
    "df_test['CLASS1'] = y_test\n",
    "df_test['y_pred'] = y_pred\n",
    "df_test['y_probs_bll'] = y_proba.T[0]\n",
    "df_test['y_probs_fsrq'] = y_proba.T[1]\n",
    "df_test.to_csv('..\\\\Fermi-LAT Data\\\\ML_Results.csv')\n"
   ]
  },
  {
   "cell_type": "code",
   "execution_count": 15,
   "metadata": {},
   "outputs": [
    {
     "name": "stdout",
     "output_type": "stream",
     "text": [
      "(462, 14)\n"
     ]
    },
    {
     "data": {
      "text/plain": [
       "Text(0.5, 1.0, '')"
      ]
     },
     "execution_count": 15,
     "metadata": {},
     "output_type": "execute_result"
    },
    {
     "data": {
      "image/png": "[encoded data removed]",
      "text/plain": [
       "<Figure size 1800x1200 with 1 Axes>"
      ]
     },
     "metadata": {},
     "output_type": "display_data"
    }
   ],
   "source": [
    "import matplotlib.pyplot as plt\n",
    "#print(y_proba)\n",
    "probs = pd.DataFrame(y_proba,columns=('p_1','p_2'))\n",
    "bin_probs_1 = pd.cut(probs['p_1'],np.linspace(0,1,50),include_lowest=True)\n",
    "bin_probs_2 = pd.cut(probs['p_2'],np.linspace(0,1,50),include_lowest=True)\n",
    "\n",
    "print(x_test.shape)\n",
    "\n",
    "fig, ax = plt.subplots(figsize=(6,4),dpi=300)\n",
    "x_axis = np.linspace(0,1,len(bin_probs_1.value_counts()))\n",
    "\n",
    "ax.bar(x_axis-0.005,bin_probs_1.value_counts(sort=False), width=0.01,label='BLLs')\n",
    "ax.bar(x_axis+0.005,bin_probs_2.value_counts(sort=False),width=0.01,label='FSRQs',color='white',edgecolor='black')\n",
    "#ax.legend()\n",
    "ax.set_xlabel('Probability')\n",
    "ax.set_ylabel('Number of Objects')\n",
    "ax.set_title('')\n",
    "\n",
    "#plt.show()"
   ]
  },
  {
   "cell_type": "code",
   "execution_count": 16,
   "metadata": {},
   "outputs": [
    {
     "name": "stdout",
     "output_type": "stream",
     "text": [
      "2360\n",
      "462\n",
      "462\n"
     ]
    },
    {
     "name": "stderr",
     "output_type": "stream",
     "text": [
      "C:\\Users\\ioanp\\AppData\\Local\\Packages\\PythonSoftwareFoundation.Python.3.11_qbz5n2kfra8p0\\LocalCache\\local-packages\\Python311\\site-packages\\sklearn\\base.py:465: UserWarning: X does not have valid feature names, but StandardScaler was fitted with feature names\n",
      "  warnings.warn(\n"
     ]
    }
   ],
   "source": [
    "data = pd.read_csv(filepath, index_col=0)\n",
    "data = data.dropna()\n",
    "print(len(data))\n",
    "X,Y = dp.choose_2_vars('CLASS1',data,1,2)\n",
    "x_train, x_test, y_train, y_test = train_test_split(X, Y, test_size=test_size,random_state=randomstate)\n",
    "correct = np.array([])\n",
    "incorrect = np.array([])\n",
    "y_actual = np.array(y_pred)\n",
    "\n",
    "for i in range(0,len(y_pred)):\n",
    "    if y_pred[i] == y_actual[i]:\n",
    "        correct = np.append(correct,i)\n",
    "    else:\n",
    "        incorrect = np.append(incorrect, i)\n",
    "\n",
    "inc_probs = np.array([])\n",
    "\n",
    "for i in range(0,len(incorrect)):\n",
    "    inc_probs = np.append(inc_probs, y_proba[0:int(incorrect[i])])\n",
    "\n",
    "print(len(x_test))\n",
    "print(len(y_test))\n",
    "\n",
    "\n",
    "scaler = StandardScaler()  \n",
    "rdgcount = 0\n",
    "data_array = np.array(data) # all of x and y including radio galaxies\n",
    "for i in range(0,len(data_array)):\n",
    "    if data_array[i,0] == 3:  # if row number 'i' is a radio galaxy\n",
    "        rdgcount +=1\n",
    "        newrow = np.array(data_array[i])\n",
    "        newrow = np.delete(newrow,0)\n",
    "        x_test=np.append(x_test,[newrow],axis=0)   \n",
    "        y_test = np.append(y_test,3)   \n",
    "\n",
    "\n",
    "scaler.fit(x_train) \n",
    "x_test = scaler.transform(x_test)\n",
    "y_pred = BNN.predict(x_test)\n",
    "y_proba = BNN.predict_proba(x_test)\n"
   ]
  },
  {
   "cell_type": "code",
   "execution_count": 17,
   "metadata": {},
   "outputs": [
    {
     "name": "stdout",
     "output_type": "stream",
     "text": [
      "515\n",
      "515\n"
     ]
    }
   ],
   "source": [
    "dataclassles = data.drop(columns='CLASS1')\n",
    "df_test = pd.DataFrame(x_test,columns=[dataclassles.columns])\n",
    "print(len(x_test))\n",
    "print(len(y_pred))\n",
    "df_test['CLASS1'] = y_test\n",
    "df_test['y_pred'] = y_pred\n",
    "df_test['y_probs_bll'] = y_proba.T[0]\n",
    "df_test['y_probs_fsrq'] = y_proba.T[1]\n",
    "df_test.to_csv('..\\\\Fermi-LAT Data\\\\ML_Results_withrdg.csv')\n",
    "df_test.to_csv('..\\\\Search Area Results\\\\iteration_11_raw.csv')"
   ]
  },
  {
   "cell_type": "code",
   "execution_count": 18,
   "metadata": {},
   "outputs": [
    {
     "data": {
      "text/plain": [
       "\"\\nfor j in range(0,len(cols)):\\n    for k in range(0,len(cols)):\\n        if j > k:     \\n            frac = np.array(data[cols[j]])\\n            hr = np.array(data[cols[k]])\\n            bllfrac=np.array([])\\n            bllhr = np.array([])\\n            fsrqfrac=np.array([])\\n            fsrqhr = np.array([])\\n            for i in range(0,len(y_pred)):\\n                if y_pred[i] == 0:\\n                    #print('bll')\\n                    bllfrac=np.append(bllfrac,frac[i])\\n                    bllhr=np.append(bllhr,hr[i])\\n                if y_pred[i] == 1:\\n                    #print('fsrq')\\n                    fsrqfrac=np.append(fsrqfrac,frac[i])\\n                    fsrqhr=np.append(fsrqhr,hr[i])\\n\\n            plt.scatter(fsrqfrac,fsrqhr,color='red')\\n            plt.scatter(bllfrac,bllhr,color='blue')\\n            plt.savefig('autoplot_' + cols[j] + '_and_' + cols[k] + '.png')\\n            plt.clf()\\n\""
      ]
     },
     "execution_count": 18,
     "metadata": {},
     "output_type": "execute_result"
    },
    {
     "data": {
      "image/png": "[encoded data removed]",
      "text/plain": [
       "<Figure size 600x300 with 1 Axes>"
      ]
     },
     "metadata": {},
     "output_type": "display_data"
    }
   ],
   "source": [
    "data = pd.read_csv(filepath, index_col=0)\n",
    "fig, ax = plt.subplots()\n",
    "#plt.scatter(data['Frac_Variability'], data['HR_24'])\n",
    "cols = data.columns\n",
    "'''\n",
    "for j in range(0,len(cols)):\n",
    "    for k in range(0,len(cols)):\n",
    "        if j > k:     \n",
    "            frac = np.array(data[cols[j]])\n",
    "            hr = np.array(data[cols[k]])\n",
    "            bllfrac=np.array([])\n",
    "            bllhr = np.array([])\n",
    "            fsrqfrac=np.array([])\n",
    "            fsrqhr = np.array([])\n",
    "            for i in range(0,len(y_pred)):\n",
    "                if y_pred[i] == 0:\n",
    "                    #print('bll')\n",
    "                    bllfrac=np.append(bllfrac,frac[i])\n",
    "                    bllhr=np.append(bllhr,hr[i])\n",
    "                if y_pred[i] == 1:\n",
    "                    #print('fsrq')\n",
    "                    fsrqfrac=np.append(fsrqfrac,frac[i])\n",
    "                    fsrqhr=np.append(fsrqhr,hr[i])\n",
    "\n",
    "            plt.scatter(fsrqfrac,fsrqhr,color='red')\n",
    "            plt.scatter(bllfrac,bllhr,color='blue')\n",
    "            plt.savefig('autoplot_' + cols[j] + '_and_' + cols[k] + '.png')\n",
    "            plt.clf()\n",
    "'''"
   ]
  },
  {
   "cell_type": "code",
   "execution_count": 19,
   "metadata": {},
   "outputs": [
    {
     "ename": "KeyError",
     "evalue": "'Spectral_Index'",
     "output_type": "error",
     "traceback": [
      "\u001b[1;31m---------------------------------------------------------------------------\u001b[0m",
      "\u001b[1;31mKeyError\u001b[0m                                  Traceback (most recent call last)",
      "File \u001b[1;32m~\\AppData\\Local\\Packages\\PythonSoftwareFoundation.Python.3.11_qbz5n2kfra8p0\\LocalCache\\local-packages\\Python311\\site-packages\\pandas\\core\\indexes\\base.py:3790\u001b[0m, in \u001b[0;36mIndex.get_loc\u001b[1;34m(self, key)\u001b[0m\n\u001b[0;32m   3789\u001b[0m \u001b[38;5;28;01mtry\u001b[39;00m:\n\u001b[1;32m-> 3790\u001b[0m     \u001b[38;5;28;01mreturn\u001b[39;00m \u001b[38;5;28;43mself\u001b[39;49m\u001b[38;5;241;43m.\u001b[39;49m\u001b[43m_engine\u001b[49m\u001b[38;5;241;43m.\u001b[39;49m\u001b[43mget_loc\u001b[49m\u001b[43m(\u001b[49m\u001b[43mcasted_key\u001b[49m\u001b[43m)\u001b[49m\n\u001b[0;32m   3791\u001b[0m \u001b[38;5;28;01mexcept\u001b[39;00m \u001b[38;5;167;01mKeyError\u001b[39;00m \u001b[38;5;28;01mas\u001b[39;00m err:\n",
      "File \u001b[1;32mindex.pyx:152\u001b[0m, in \u001b[0;36mpandas._libs.index.IndexEngine.get_loc\u001b[1;34m()\u001b[0m\n",
      "File \u001b[1;32mindex.pyx:181\u001b[0m, in \u001b[0;36mpandas._libs.index.IndexEngine.get_loc\u001b[1;34m()\u001b[0m\n",
      "File \u001b[1;32mpandas\\_libs\\hashtable_class_helper.pxi:7080\u001b[0m, in \u001b[0;36mpandas._libs.hashtable.PyObjectHashTable.get_item\u001b[1;34m()\u001b[0m\n",
      "File \u001b[1;32mpandas\\_libs\\hashtable_class_helper.pxi:7088\u001b[0m, in \u001b[0;36mpandas._libs.hashtable.PyObjectHashTable.get_item\u001b[1;34m()\u001b[0m\n",
      "\u001b[1;31mKeyError\u001b[0m: 'Spectral_Index'",
      "\nThe above exception was the direct cause of the following exception:\n",
      "\u001b[1;31mKeyError\u001b[0m                                  Traceback (most recent call last)",
      "Cell \u001b[1;32mIn[19], line 4\u001b[0m\n\u001b[0;32m      1\u001b[0m data \u001b[38;5;241m=\u001b[39m pd\u001b[38;5;241m.\u001b[39mread_csv(\u001b[38;5;124m'\u001b[39m\u001b[38;5;124m..\u001b[39m\u001b[38;5;130;01m\\\\\u001b[39;00m\u001b[38;5;124mFermi-LAT Data\u001b[39m\u001b[38;5;130;01m\\\\\u001b[39;00m\u001b[38;5;124mfl_numericalonly_nopositional_withclasses.csv\u001b[39m\u001b[38;5;124m'\u001b[39m)\n\u001b[1;32m----> 4\u001b[0m frac \u001b[38;5;241m=\u001b[39m np\u001b[38;5;241m.\u001b[39marray(\u001b[43mdata\u001b[49m\u001b[43m[\u001b[49m\u001b[38;5;124;43m'\u001b[39;49m\u001b[38;5;124;43mSpectral_Index\u001b[39;49m\u001b[38;5;124;43m'\u001b[39;49m\u001b[43m]\u001b[49m)\n\u001b[0;32m      5\u001b[0m hr \u001b[38;5;241m=\u001b[39m np\u001b[38;5;241m.\u001b[39marray(data[\u001b[38;5;124m'\u001b[39m\u001b[38;5;124mFlux1000\u001b[39m\u001b[38;5;124m'\u001b[39m])\n\u001b[0;32m      6\u001b[0m bllfrac\u001b[38;5;241m=\u001b[39mnp\u001b[38;5;241m.\u001b[39marray([])\n",
      "File \u001b[1;32m~\\AppData\\Local\\Packages\\PythonSoftwareFoundation.Python.3.11_qbz5n2kfra8p0\\LocalCache\\local-packages\\Python311\\site-packages\\pandas\\core\\frame.py:3896\u001b[0m, in \u001b[0;36mDataFrame.__getitem__\u001b[1;34m(self, key)\u001b[0m\n\u001b[0;32m   3894\u001b[0m \u001b[38;5;28;01mif\u001b[39;00m \u001b[38;5;28mself\u001b[39m\u001b[38;5;241m.\u001b[39mcolumns\u001b[38;5;241m.\u001b[39mnlevels \u001b[38;5;241m>\u001b[39m \u001b[38;5;241m1\u001b[39m:\n\u001b[0;32m   3895\u001b[0m     \u001b[38;5;28;01mreturn\u001b[39;00m \u001b[38;5;28mself\u001b[39m\u001b[38;5;241m.\u001b[39m_getitem_multilevel(key)\n\u001b[1;32m-> 3896\u001b[0m indexer \u001b[38;5;241m=\u001b[39m \u001b[38;5;28;43mself\u001b[39;49m\u001b[38;5;241;43m.\u001b[39;49m\u001b[43mcolumns\u001b[49m\u001b[38;5;241;43m.\u001b[39;49m\u001b[43mget_loc\u001b[49m\u001b[43m(\u001b[49m\u001b[43mkey\u001b[49m\u001b[43m)\u001b[49m\n\u001b[0;32m   3897\u001b[0m \u001b[38;5;28;01mif\u001b[39;00m is_integer(indexer):\n\u001b[0;32m   3898\u001b[0m     indexer \u001b[38;5;241m=\u001b[39m [indexer]\n",
      "File \u001b[1;32m~\\AppData\\Local\\Packages\\PythonSoftwareFoundation.Python.3.11_qbz5n2kfra8p0\\LocalCache\\local-packages\\Python311\\site-packages\\pandas\\core\\indexes\\base.py:3797\u001b[0m, in \u001b[0;36mIndex.get_loc\u001b[1;34m(self, key)\u001b[0m\n\u001b[0;32m   3792\u001b[0m     \u001b[38;5;28;01mif\u001b[39;00m \u001b[38;5;28misinstance\u001b[39m(casted_key, \u001b[38;5;28mslice\u001b[39m) \u001b[38;5;129;01mor\u001b[39;00m (\n\u001b[0;32m   3793\u001b[0m         \u001b[38;5;28misinstance\u001b[39m(casted_key, abc\u001b[38;5;241m.\u001b[39mIterable)\n\u001b[0;32m   3794\u001b[0m         \u001b[38;5;129;01mand\u001b[39;00m \u001b[38;5;28many\u001b[39m(\u001b[38;5;28misinstance\u001b[39m(x, \u001b[38;5;28mslice\u001b[39m) \u001b[38;5;28;01mfor\u001b[39;00m x \u001b[38;5;129;01min\u001b[39;00m casted_key)\n\u001b[0;32m   3795\u001b[0m     ):\n\u001b[0;32m   3796\u001b[0m         \u001b[38;5;28;01mraise\u001b[39;00m InvalidIndexError(key)\n\u001b[1;32m-> 3797\u001b[0m     \u001b[38;5;28;01mraise\u001b[39;00m \u001b[38;5;167;01mKeyError\u001b[39;00m(key) \u001b[38;5;28;01mfrom\u001b[39;00m \u001b[38;5;21;01merr\u001b[39;00m\n\u001b[0;32m   3798\u001b[0m \u001b[38;5;28;01mexcept\u001b[39;00m \u001b[38;5;167;01mTypeError\u001b[39;00m:\n\u001b[0;32m   3799\u001b[0m     \u001b[38;5;66;03m# If we have a listlike key, _check_indexing_error will raise\u001b[39;00m\n\u001b[0;32m   3800\u001b[0m     \u001b[38;5;66;03m#  InvalidIndexError. Otherwise we fall through and re-raise\u001b[39;00m\n\u001b[0;32m   3801\u001b[0m     \u001b[38;5;66;03m#  the TypeError.\u001b[39;00m\n\u001b[0;32m   3802\u001b[0m     \u001b[38;5;28mself\u001b[39m\u001b[38;5;241m.\u001b[39m_check_indexing_error(key)\n",
      "\u001b[1;31mKeyError\u001b[0m: 'Spectral_Index'"
     ]
    }
   ],
   "source": [
    "data = pd.read_csv('..\\\\Fermi-LAT Data\\\\fl_numericalonly_nopositional_withclasses.csv')\n",
    "\n",
    "\n",
    "frac = np.array(data['Spectral_Index'])\n",
    "hr = np.array(data['Flux1000'])\n",
    "bllfrac=np.array([])\n",
    "bllhr = np.array([])\n",
    "fsrqfrac=np.array([])\n",
    "fsrqhr = np.array([])\n",
    "for i in range(0,len(y_pred)):\n",
    "    if y_pred[i] == 0:\n",
    "        #print('bll')\n",
    "        bllfrac=np.append(bllfrac,frac[i])\n",
    "        bllhr=np.append(bllhr,hr[i])\n",
    "    if y_pred[i] == 1:\n",
    "        #print('fsrq')\n",
    "        fsrqfrac=np.append(fsrqfrac,frac[i])\n",
    "        fsrqhr=np.append(fsrqhr,hr[i])\n",
    "\n",
    "plt.scatter(fsrqfrac,fsrqhr,color='red')\n",
    "plt.scatter(bllfrac,bllhr,color='blue')\n",
    "plt.savefig('autoplot_' + cols[j] + '_and_' + cols[k] + '.png')\n",
    "plt.clf()"
   ]
  }
 ],
 "metadata": {
  "kernelspec": {
   "display_name": "Python 3",
   "language": "python",
   "name": "python3"
  },
  "language_info": {
   "codemirror_mode": {
    "name": "ipython",
    "version": 3
   },
   "file_extension": ".py",
   "mimetype": "text/x-python",
   "name": "python",
   "nbconvert_exporter": "python",
   "pygments_lexer": "ipython3",
   "version": "3.11.8"
  }
 },
 "nbformat": 4,
 "nbformat_minor": 2
}
