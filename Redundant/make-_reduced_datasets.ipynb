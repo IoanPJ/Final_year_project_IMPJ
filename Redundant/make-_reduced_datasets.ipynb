{
 "cells": [
  {
   "cell_type": "code",
   "execution_count": 52,
   "metadata": {},
   "outputs": [
    {
     "name": "stdout",
     "output_type": "stream",
     "text": [
      "0\n"
     ]
    },
    {
     "ename": "",
     "evalue": "",
     "output_type": "error",
     "traceback": [
      "\u001b[1;31mThe Kernel crashed while executing code in the the current cell or a previous cell. Please review the code in the cell(s) to identify a possible cause of the failure. Click <a href='https://aka.ms/vscodeJupyterKernelCrash'>here</a> for more info. View Jupyter <a href='command:jupyter.viewOutput'>log</a> for further details."
     ]
    }
   ],
   "source": [
    "import numpy as np\n",
    "import pandas as pd\n",
    "\n",
    "data = pd.read_csv('..\\\\Fermi-LAT Data\\\\fl_numericalonly_nopositional_withclasses.csv',index_col=0 )\n",
    "\n",
    "filterbest = ['HR_25','PL_Index','HR_35','HR_24','LP_Index','PLEC_IndexS','HR_34','HR_15','HR_16','HR_26','HR_23','HR_36','HR_45','HR_14']\n",
    "keepfeatures = (['CLASS1'])\n",
    "features = data.columns\n",
    "for i in range(0,1):\n",
    "    print(i)\n",
    "    keepfeatures.append(filterbest[i]) \n",
    "    #keepfeatures.append(filterbest[2*i+1])\n",
    "    df = pd.DataFrame()\n",
    "    for s in keepfeatures:\n",
    "        df[s] = data[s]\n",
    "    df.to_csv('..\\\\Fermi-LAT Data\\\\fl_filter_'+str(1)+'.csv')\n",
    "        \n"
   ]
  }
 ],
 "metadata": {
  "kernelspec": {
   "display_name": "Python 3",
   "language": "python",
   "name": "python3"
  },
  "language_info": {
   "codemirror_mode": {
    "name": "ipython",
    "version": 3
   },
   "file_extension": ".py",
   "mimetype": "text/x-python",
   "name": "python",
   "nbconvert_exporter": "python",
   "pygments_lexer": "ipython3",
   "version": "3.11.7"
  }
 },
 "nbformat": 4,
 "nbformat_minor": 2
}
