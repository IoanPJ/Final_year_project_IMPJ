{
 "cells": [
  {
   "cell_type": "code",
   "execution_count": 26,
   "metadata": {},
   "outputs": [
    {
     "data": {
      "text/plain": [
       "array(['even'], dtype='<U4')"
      ]
     },
     "execution_count": 26,
     "metadata": {},
     "output_type": "execute_result"
    }
   ],
   "source": [
    "from sklearn import tree\n",
    "\n",
    "X = [[4,6,8,10,12,10,8,24,30,46,22,62],[3,1,5,7,9,11,15,17,23,45,63,91]]\n",
    "Y = ['even','odd']\n",
    "\n",
    "clsf = tree.DecisionTreeClassifier()\n",
    "clsf = clsf.fit(X,Y)\n",
    "\n",
    "clsf.predict([[5,3,7,12,10,13,30,50,81,43,71,83]])"
   ]
  }
 ],
 "metadata": {
  "kernelspec": {
   "display_name": "Python 3",
   "language": "python",
   "name": "python3"
  },
  "language_info": {
   "codemirror_mode": {
    "name": "ipython",
    "version": 3
   },
   "file_extension": ".py",
   "mimetype": "text/x-python",
   "name": "python",
   "nbconvert_exporter": "python",
   "pygments_lexer": "ipython3",
   "version": "3.11.6"
  }
 },
 "nbformat": 4,
 "nbformat_minor": 2
}
