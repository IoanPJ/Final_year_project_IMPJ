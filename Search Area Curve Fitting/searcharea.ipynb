{
 "cells": [
  {
   "cell_type": "code",
   "execution_count": 10,
   "metadata": {},
   "outputs": [],
   "source": [
    "import numpy as np\n",
    "import matplotlib.pyplot as plt\n",
    "import pandas as pd\n",
    "from scipy.stats import fit, norm, chisquare, goodness_of_fit, lognorm, t,beta, cosine, uniform\n",
    "from scipy.optimize import curve_fit\n",
    "from tqdm import tqdm\n",
    "\n",
    "# Creating the master dataframe\n",
    "\n",
    "lengthdf = pd.read_csv('..\\\\Search Area Results\\\\iteration_1_raw.csv') # we just need this for the length\n",
    "\n",
    "\n",
    "count = 0\n",
    "n_bins=10\n",
    "bin_size = int(len(lengthdf)/n_bins)\n",
    "\n",
    "\n",
    "\n",
    "rdgprobs = pd.DataFrame()\n",
    "allprobs = pd.DataFrame(np.array([np.zeros(len(lengthdf))]).T,columns=['CLASS'])\n",
    "allprobs['sum']=np.zeros(len(allprobs))\n",
    "\n",
    "# We want to add results from each iteration to a master dataframe\n",
    "\n",
    "for i in range(1,11):\n",
    "    df = pd.read_csv('..\\\\Search Area Results\\\\iteration_'+str(i)+'_raw.csv')\n",
    "    rdgprobs['iteration_' +str(i)] = df.loc[df['CLASS1']==3]['y_probs_bll']\n",
    "    allprobs['iteration_'+str(i)] = df['y_probs_bll']\n",
    "    allprobs['CLASS_it' +str(i) ]=df['CLASS1']\n"
   ]
  },
  {
   "cell_type": "code",
   "execution_count": 13,
   "metadata": {},
   "outputs": [
    {
     "name": "stderr",
     "output_type": "stream",
     "text": [
      "100%|██████████| 1/1 [00:00<00:00,  6.66it/s]\n"
     ]
    }
   ],
   "source": [
    "\n",
    "y_probs=np.empty(len(allprobs))\n",
    "\n",
    "for iteration in tqdm(range(1,2)):\n",
    "    y_probs=allprobs['iteration_'+str(iteration)]\n",
    "    classes=allprobs['CLASS_it' +str(iteration)]\n",
    "\n",
    "    y_probs_ascending=np.sort(y_probs)\n",
    "    y_probs_descending=np.flip(y_probs_ascending)\n",
    "\n",
    "\n",
    "    cutoff_prob_a = np.array([0])\n",
    "    cutoff_prob_d = np.array([1])\n",
    "    #print(y_probs_ascending)\n",
    "\n",
    "    for i in range(0,len(y_probs)):\n",
    "        count+=1\n",
    "        if count >= bin_size:\n",
    "            cutoff_prob_a = np.append(cutoff_prob_a,y_probs_ascending[i])\n",
    "            cutoff_prob_d = np.append(cutoff_prob_d,y_probs_descending[i])\n",
    "            count = 0\n",
    "    n_bins = len(cutoff_prob_a)-1\n",
    "\n",
    "    bins = pd.DataFrame((np.array([y_probs,classes,np.zeros(len(classes)),np.zeros(len(classes))]).T),\n",
    "                        columns=['y_probs','classes','bin_n_ascending','bin_n_descending'])\n",
    "\n",
    "    for i in range(0,n_bins):\n",
    "        for k in range(0,len(y_probs)):\n",
    "            if y_probs[k] >= cutoff_prob_a[i] and y_probs[k] < cutoff_prob_a[i+1]:\n",
    "                bins['bin_n_ascending'][k] = i\n",
    "            if y_probs[k] <= cutoff_prob_d[i] and y_probs[k] > cutoff_prob_d[i+1]:\n",
    "                bins['bin_n_descending'][k] = i\n",
    "\n",
    "    lowerbounds = np.delete(cutoff_prob_a,-1)\n",
    "    upperbounds = np.delete(cutoff_prob_a,0)\n",
    "    totals_asc = pd.DataFrame((np.array([np.zeros(n_bins),lowerbounds, upperbounds,np.zeros(n_bins),np.zeros(n_bins),np.zeros(n_bins)]).T),\n",
    "                                    columns=['Bin (asc)','Lower Bound','Upper Bound','RDG Count','Total Count','Frac'])\n",
    "\n",
    "\n",
    "    for i in range(0,n_bins): # iterates over each bin in the set\n",
    "            n_rdg = bins.loc[(bins['bin_n_ascending']==i) & (bins['classes']==3)]\n",
    "            n_bll = bins.loc[(bins['bin_n_ascending']==i) & (bins['classes']==0)]\n",
    "            n_fsrq = bins.loc[(bins['bin_n_ascending']==i) & (bins['classes']==1)]\n",
    "            tot = len(n_rdg)+len(n_bll)+len(n_fsrq)\n",
    "            #print(f'n_rdg is {len(n_rdg)} from {tot} in ascending bin {i}')\n",
    "            totals_asc['Bin (asc)'][i] = i\n",
    "            totals_asc['RDG Count'][i] = len(n_rdg)\n",
    "            totals_asc['Total Count'][i] = tot\n",
    "            totals_asc['Frac'][i] = len(n_rdg)/tot\n",
    "\n",
    "    #totals_asc.to_csv('..\\\\Search Area Results\\\\iteration_10')\n",
    "    #fig, ax = plt.subplots()\n",
    "    #ax.bar(totals_asc['Bin (asc)'],totals_asc['RDG Count'])\n",
    "    #ax.set_xlabel('Bin Number')\n",
    "    #ax.set_ylabel('Fraction of Radio Galaxies')\n",
    "    totals_asc.to_csv('totals_asc'+str(iteration)+'.csv')\n",
    "\n",
    "\n",
    "    dummydata = np.array([])\n",
    "\n",
    "    for i in range(0,len(totals_asc)):\n",
    "        dummydata = np.append(dummydata,totals_asc['Bin (asc)'][i]*np.ones(int(totals_asc['RDG Count'][i])))\n",
    "\n",
    "    fittype=beta\n",
    "    xs = np.arange(0,len(totals_asc),1)\n",
    "    \n",
    "    guess = list(beta.fit(dummydata))\n",
    "    \n",
    "    fitresults = goodness_of_fit(norm,dummydata,statistic='ks',n_mc_samples=999,guessed_params={'a':guess[0],'b':guess[1],'scale':guess[3]})\n",
    "    fitresultsdf=pd.DataFrame([[fitresults[0],fitresults[1],fitresults[2]]],columns=['Fit Results','KS Statistic','P-Value'])\n",
    "    fitresultsdf.to_csv('fit_results_betatest_'+str(iteration)+'.csv')\n",
    "\n"
   ]
  },
  {
   "cell_type": "markdown",
   "metadata": {},
   "source": []
  },
  {
   "cell_type": "code",
   "execution_count": 15,
   "metadata": {},
   "outputs": [
    {
     "name": "stdout",
     "output_type": "stream",
     "text": [
      "[0. 0. 0. 1. 1. 1. 1. 2. 2. 2. 3. 3. 3. 3. 3. 3. 3. 4. 4. 4. 4. 4. 4. 4.\n",
      " 4. 4. 5. 5. 5. 5. 5. 6. 6. 6. 6. 6. 6. 6. 7. 7. 7. 7. 7. 7. 8. 8. 8. 9.\n",
      " 9. 9. 9. 9. 9.]\n"
     ]
    },
    {
     "data": {
      "image/png": "[encoded data removed]",
      "text/plain": [
       "<Figure size 640x480 with 1 Axes>"
      ]
     },
     "metadata": {},
     "output_type": "display_data"
    }
   ],
   "source": [
    "plt.bar(totals_asc['Bin (asc)'],totals_asc['RDG Count'],color='white',edgecolor='black')\n",
    "print(dummydata)"
   ]
  }
 ],
 "metadata": {
  "kernelspec": {
   "display_name": "Python 3",
   "language": "python",
   "name": "python3"
  },
  "language_info": {
   "codemirror_mode": {
    "name": "ipython",
    "version": 3
   },
   "file_extension": ".py",
   "mimetype": "text/x-python",
   "name": "python",
   "nbconvert_exporter": "python",
   "pygments_lexer": "ipython3",
   "version": "3.11.8"
  }
 },
 "nbformat": 4,
 "nbformat_minor": 2
}
