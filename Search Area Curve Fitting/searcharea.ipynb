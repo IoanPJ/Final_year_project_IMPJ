{
 "cells": [
  {
   "cell_type": "code",
   "execution_count": 61,
   "metadata": {},
   "outputs": [],
   "source": [
    "import numpy as np\n",
    "import matplotlib.pyplot as plt\n",
    "import pandas as pd\n",
    "from scipy.stats import fit, norm, chisquare, goodness_of_fit, lognorm, t,beta, cosine, uniform\n",
    "from scipy.optimize import curve_fit\n",
    "from tqdm import tqdm\n",
    "\n",
    "# Creating the master dataframe\n",
    "\n",
    "lengthdf = pd.read_csv('..\\\\Search Area Results\\\\iteration_1_raw.csv') # we just need this for the length\n",
    "\n",
    "\n",
    "count = 0\n",
    "n_bins=10\n",
    "bin_size = int(len(lengthdf)/n_bins)\n",
    "\n",
    "\n",
    "\n",
    "rdgprobs = pd.DataFrame()\n",
    "allprobs = pd.DataFrame(np.array([np.zeros(len(lengthdf))]).T,columns=['CLASS'])\n",
    "allprobs['sum']=np.zeros(len(allprobs))\n",
    "\n",
    "# We want to add results from each iteration to a master dataframe\n",
    "\n",
    "for i in range(1,11):\n",
    "    df = pd.read_csv('..\\\\Search Area Results\\\\iteration_'+str(i)+'_raw.csv')\n",
    "    rdgprobs['iteration_' +str(i)] = df.loc[df['CLASS1']==3]['y_probs_bll']\n",
    "    allprobs['iteration_'+str(i)] = df['y_probs_bll']\n",
    "    allprobs['CLASS_it' +str(i) ]=df['CLASS1']\n"
   ]
  },
  {
   "cell_type": "markdown",
   "metadata": {},
   "source": [
    "Freedman-Diaconis' Rule for histogram bin widths is implemented below"
   ]
  },
  {
   "cell_type": "code",
   "execution_count": 62,
   "metadata": {},
   "outputs": [
    {
     "name": "stdout",
     "output_type": "stream",
     "text": [
      "0.40559230998585855\n"
     ]
    }
   ],
   "source": [
    "# extracting key features of the data e.g. interquartile range\n",
    "\n",
    "IQR = np.zeros(10)\n",
    "for i in range(1,11):\n",
    "    IQR[i-1] = allprobs['iteration_'+str(i)].quantile(q=0.75)-allprobs['iteration_'+str(i)].quantile(q=0.25)\n",
    "\n",
    "IQR_av = np.average(IQR)\n",
    "\n",
    "# extracting the number of radio galaxies\n",
    "\n",
    "n = len(rdgprobs)\n",
    "\n",
    "# implementing freedman-diaconis\n",
    "\n",
    "h = 2*IQR_av*(n**(-1/3))\n",
    "\n",
    "print(h) \n",
    "\n"
   ]
  },
  {
   "cell_type": "markdown",
   "metadata": {},
   "source": [
    "Plotting a Histogram based on Freedman-Diaconis"
   ]
  },
  {
   "cell_type": "code",
   "execution_count": 70,
   "metadata": {},
   "outputs": [
    {
     "data": {
      "image/png": "[encoded data removed]",
      "text/plain": [
       "<Figure size 640x480 with 1 Axes>"
      ]
     },
     "metadata": {},
     "output_type": "display_data"
    }
   ],
   "source": [
    "n_bins = int(np.ceil(1/h))\n",
    "\n",
    "bin_width = 1/n_bins\n",
    "\n",
    "# averaging columns\n",
    "\n",
    "probs_asc = pd.DataFrame()\n",
    "\n",
    "for i in range(1,11):\n",
    "    probs_asc['it'+str(i)] = np.sort(np.array(allprobs['iteration_'+str(i)]))\n",
    "\n",
    "probs_avgs = probs_asc.mean(axis=1)\n",
    "\n",
    "# averaging radio galaxy probs (radio galaxies are always in the same order)\n",
    "rdgprobs_avgs = np.array(rdgprobs.mean(axis=1))\n",
    "\n",
    "# binning the data\n",
    "\n",
    "freedman_bins = pd.DataFrame(np.array([np.arange(0,n_bins,1),np.zeros(n_bins),np.zeros(n_bins)]).T,columns=('bin','total count','rdg count'))\n",
    "\n",
    "for i in range(0,n_bins):\n",
    "    for k in range(0,len(allprobs)):\n",
    "        if probs_avgs[k] >= bin_width*i and probs_avgs[k] < bin_width*(i+1):\n",
    "            freedman_bins['total count'][i] +=1\n",
    "    for k in range(0,len(rdgprobs_avgs)):\n",
    "        if rdgprobs_avgs[k] >= bin_width*i and rdgprobs_avgs[k] < bin_width*(i+1):\n",
    "            freedman_bins['rdg count'][i] +=1\n",
    "        \n",
    "\n",
    "freedman_bins['rdg frac'] = freedman_bins['rdg count']/freedman_bins['total count']\n",
    "plt.bar(freedman_bins['bin']/n_bins,freedman_bins['rdg frac'],width = bin_width,edgecolor='black')\n",
    "\n",
    "freedman_bins['bin median'] = (bin_width * freedman_bins['bin']) + 0.5*bin_width"
   ]
  },
  {
   "cell_type": "code",
   "execution_count": 115,
   "metadata": {},
   "outputs": [
    {
     "name": "stdout",
     "output_type": "stream",
     "text": [
      "53\n",
      "[0.16666667 0.5        0.83333333]\n"
     ]
    }
   ],
   "source": [
    "# In order to create dummy data we must create data which is distributed across the bins in the same proportions\n",
    "# and yet has an overall sample size equal to the overall number of radio galaxies\n",
    "\n",
    "def bin_rounding(xs,n_bins):\n",
    "    bin_width = 1/n_bins\n",
    "    bins = np.arange(0,n_bins,1)\n",
    "    bin_medians = (bin_width*bins)+0.5*bin_width\n",
    "    roundedxs = np.empty(len(xs))\n",
    "\n",
    "    for i in range(0,n_bins):\n",
    "        for k in range(0,len(xs)):\n",
    "            if xs[k] >= bin_width*i and xs[k] < bin_width*(i+1):\n",
    "                roundedxs[k] = bin_medians[i]\n",
    "\n",
    "    return roundedxs\n",
    "\n",
    "freedman_bins['adjusted rdg count'] = ((freedman_bins['rdg frac']/(freedman_bins['rdg frac'].sum()))*freedman_bins['rdg count'].sum()).round()\n",
    "dummydata = np.array([])\n",
    "\n",
    "for i in range(0,len(freedman_bins)):\n",
    "    dummydata = np.append(dummydata,freedman_bins['bin median'][i]*np.ones(int(freedman_bins['adjusted rdg count'][i])))\n",
    "\n",
    "\n",
    "# in order to do a parametric bootstrap test we will generate values (monte carlo method) according to the test\n",
    "# distribution, then ROUND THEM (so that they have median bin values) and then compare the K-S statistic of the rounded \n",
    "# values to the K-S statistic of the original distribution\n",
    "\n",
    "fitresults = goodness_of_fit(norm,dummydata,statistic='ks',n_mc_samples=5)\n",
    "fitresultsdf=pd.DataFrame([[fitresults[0],fitresults[1],fitresults[2]]],columns=['Fit Results','KS Statistic','P-Value'])\n",
    "#fitresultsdf.to_csv('fit_results_normal_(freedman)_'+str(iteration)+'.csv')\n",
    "#print(fitresults)\n",
    "\n",
    "# generating values\n",
    "\n",
    "mc_norm = norm.rvs(size=99999,loc=0.556,scale=0.224)\n",
    "mc_norm = [x for x in mc_norm if x<1]\n",
    "mc_norm = [x for x in mc_norm if x>0]\n",
    "mc_norm_binned = bin_rounding(mc_norm,3)\n",
    "\n",
    "mc_norm_binned = mc_norm_binned[:53]\n",
    "print(len(mc_norm_binned))\n",
    "print(np.unique(mc_norm_binned))\n",
    "\n",
    "\n",
    "\n"
   ]
  },
  {
   "cell_type": "code",
   "execution_count": 65,
   "metadata": {},
   "outputs": [
    {
     "data": {
      "text/plain": [
       "\"\\ny_probs=np.empty(len(allprobs))\\n\\nfor iteration in tqdm(range(1,2)):\\n    y_probs=allprobs['iteration_'+str(iteration)]\\n    classes=allprobs['CLASS_it' +str(iteration)]\\n\\n    y_probs_ascending=np.sort(y_probs)\\n    y_probs_descending=np.flip(y_probs_ascending)\\n\\n\\n    cutoff_prob_a = np.array([0])\\n    cutoff_prob_d = np.array([1])\\n    #print(y_probs_ascending)\\n\\n    for i in range(0,len(y_probs)):\\n        count+=1\\n        if count >= bin_size:\\n            cutoff_prob_a = np.append(cutoff_prob_a,y_probs_ascending[i])\\n            cutoff_prob_d = np.append(cutoff_prob_d,y_probs_descending[i])\\n            count = 0\\n    n_bins = len(cutoff_prob_a)-1\\n\\n    bins = pd.DataFrame((np.array([y_probs,classes,np.zeros(len(classes)),np.zeros(len(classes))]).T),\\n                        columns=['y_probs','classes','bin_n_ascending','bin_n_descending'])\\n\\n    for i in range(0,n_bins):\\n        for k in range(0,len(y_probs)):\\n            if y_probs[k] >= cutoff_prob_a[i] and y_probs[k] < cutoff_prob_a[i+1]:\\n                bins['bin_n_ascending'][k] = i\\n            if y_probs[k] <= cutoff_prob_d[i] and y_probs[k] > cutoff_prob_d[i+1]:\\n                bins['bin_n_descending'][k] = i\\n\\n    lowerbounds = np.delete(cutoff_prob_a,-1)\\n    upperbounds = np.delete(cutoff_prob_a,0)\\n    totals_asc = pd.DataFrame((np.array([np.zeros(n_bins),lowerbounds, upperbounds,np.zeros(n_bins),np.zeros(n_bins),np.zeros(n_bins)]).T),\\n                                    columns=['Bin (asc)','Lower Bound','Upper Bound','RDG Count','Total Count','Frac'])\\n\\n\\n    for i in range(0,n_bins): # iterates over each bin in the set\\n            n_rdg = bins.loc[(bins['bin_n_ascending']==i) & (bins['classes']==3)]\\n            n_bll = bins.loc[(bins['bin_n_ascending']==i) & (bins['classes']==0)]\\n            n_fsrq = bins.loc[(bins['bin_n_ascending']==i) & (bins['classes']==1)]\\n            tot = len(n_rdg)+len(n_bll)+len(n_fsrq)\\n            #print(f'n_rdg is {len(n_rdg)} from {tot} in ascending bin {i}')\\n            totals_asc['Bin (asc)'][i] = i\\n            totals_asc['RDG Count'][i] = len(n_rdg)\\n            totals_asc['Total Count'][i] = tot\\n            totals_asc['Frac'][i] = len(n_rdg)/tot\\n\\n    #totals_asc.to_csv('..\\\\Search Area Results\\\\iteration_10')\\n    #fig, ax = plt.subplots()\\n    #ax.bar(totals_asc['Bin (asc)'],totals_asc['RDG Count'])\\n    #ax.set_xlabel('Bin Number')\\n    #ax.set_ylabel('Fraction of Radio Galaxies')\\n    totals_asc.to_csv('totals_asc'+str(iteration)+'.csv')\\n\\n\\n    dummydata = np.array([])\\n\\n    for i in range(0,len(totals_asc)):\\n        dummydata = np.append(dummydata,totals_asc['Bin (asc)'][i]*np.ones(int(totals_asc['RDG Count'][i])))\\n\\n    fittype=beta\\n    xs = np.arange(0,len(totals_asc),1)\\n    \\n    guess = list(beta.fit(dummydata))\\n    \\n    fitresults = goodness_of_fit(norm,dummydata,statistic='ks',n_mc_samples=999,guessed_params={'a':guess[0],'b':guess[1],'scale':guess[3]})\\n    fitresultsdf=pd.DataFrame([[fitresults[0],fitresults[1],fitresults[2]]],columns=['Fit Results','KS Statistic','P-Value'])\\n    fitresultsdf.to_csv('fit_results_normal_'+str(iteration)+'.csv')\\n\""
      ]
     },
     "execution_count": 65,
     "metadata": {},
     "output_type": "execute_result"
    }
   ],
   "source": [
    "'''\n",
    "y_probs=np.empty(len(allprobs))\n",
    "\n",
    "for iteration in tqdm(range(1,2)):\n",
    "    y_probs=allprobs['iteration_'+str(iteration)]\n",
    "    classes=allprobs['CLASS_it' +str(iteration)]\n",
    "\n",
    "    y_probs_ascending=np.sort(y_probs)\n",
    "    y_probs_descending=np.flip(y_probs_ascending)\n",
    "\n",
    "\n",
    "    cutoff_prob_a = np.array([0])\n",
    "    cutoff_prob_d = np.array([1])\n",
    "    #print(y_probs_ascending)\n",
    "\n",
    "    for i in range(0,len(y_probs)):\n",
    "        count+=1\n",
    "        if count >= bin_size:\n",
    "            cutoff_prob_a = np.append(cutoff_prob_a,y_probs_ascending[i])\n",
    "            cutoff_prob_d = np.append(cutoff_prob_d,y_probs_descending[i])\n",
    "            count = 0\n",
    "    n_bins = len(cutoff_prob_a)-1\n",
    "\n",
    "    bins = pd.DataFrame((np.array([y_probs,classes,np.zeros(len(classes)),np.zeros(len(classes))]).T),\n",
    "                        columns=['y_probs','classes','bin_n_ascending','bin_n_descending'])\n",
    "\n",
    "    for i in range(0,n_bins):\n",
    "        for k in range(0,len(y_probs)):\n",
    "            if y_probs[k] >= cutoff_prob_a[i] and y_probs[k] < cutoff_prob_a[i+1]:\n",
    "                bins['bin_n_ascending'][k] = i\n",
    "            if y_probs[k] <= cutoff_prob_d[i] and y_probs[k] > cutoff_prob_d[i+1]:\n",
    "                bins['bin_n_descending'][k] = i\n",
    "\n",
    "    lowerbounds = np.delete(cutoff_prob_a,-1)\n",
    "    upperbounds = np.delete(cutoff_prob_a,0)\n",
    "    totals_asc = pd.DataFrame((np.array([np.zeros(n_bins),lowerbounds, upperbounds,np.zeros(n_bins),np.zeros(n_bins),np.zeros(n_bins)]).T),\n",
    "                                    columns=['Bin (asc)','Lower Bound','Upper Bound','RDG Count','Total Count','Frac'])\n",
    "\n",
    "\n",
    "    for i in range(0,n_bins): # iterates over each bin in the set\n",
    "            n_rdg = bins.loc[(bins['bin_n_ascending']==i) & (bins['classes']==3)]\n",
    "            n_bll = bins.loc[(bins['bin_n_ascending']==i) & (bins['classes']==0)]\n",
    "            n_fsrq = bins.loc[(bins['bin_n_ascending']==i) & (bins['classes']==1)]\n",
    "            tot = len(n_rdg)+len(n_bll)+len(n_fsrq)\n",
    "            #print(f'n_rdg is {len(n_rdg)} from {tot} in ascending bin {i}')\n",
    "            totals_asc['Bin (asc)'][i] = i\n",
    "            totals_asc['RDG Count'][i] = len(n_rdg)\n",
    "            totals_asc['Total Count'][i] = tot\n",
    "            totals_asc['Frac'][i] = len(n_rdg)/tot\n",
    "\n",
    "    #totals_asc.to_csv('..\\\\Search Area Results\\\\iteration_10')\n",
    "    #fig, ax = plt.subplots()\n",
    "    #ax.bar(totals_asc['Bin (asc)'],totals_asc['RDG Count'])\n",
    "    #ax.set_xlabel('Bin Number')\n",
    "    #ax.set_ylabel('Fraction of Radio Galaxies')\n",
    "    totals_asc.to_csv('totals_asc'+str(iteration)+'.csv')\n",
    "\n",
    "\n",
    "    dummydata = np.array([])\n",
    "\n",
    "    for i in range(0,len(totals_asc)):\n",
    "        dummydata = np.append(dummydata,totals_asc['Bin (asc)'][i]*np.ones(int(totals_asc['RDG Count'][i])))\n",
    "\n",
    "    fittype=beta\n",
    "    xs = np.arange(0,len(totals_asc),1)\n",
    "    \n",
    "    guess = list(beta.fit(dummydata))\n",
    "    \n",
    "    fitresults = goodness_of_fit(norm,dummydata,statistic='ks',n_mc_samples=999,guessed_params={'a':guess[0],'b':guess[1],'scale':guess[3]})\n",
    "    fitresultsdf=pd.DataFrame([[fitresults[0],fitresults[1],fitresults[2]]],columns=['Fit Results','KS Statistic','P-Value'])\n",
    "    fitresultsdf.to_csv('fit_results_normal_'+str(iteration)+'.csv')\n",
    "'''\n"
   ]
  },
  {
   "cell_type": "markdown",
   "metadata": {},
   "source": []
  },
  {
   "cell_type": "code",
   "execution_count": 66,
   "metadata": {},
   "outputs": [
    {
     "name": "stdout",
     "output_type": "stream",
     "text": [
      "[]\n"
     ]
    },
    {
     "data": {
      "image/png": "[encoded data removed]",
      "text/plain": [
       "<Figure size 640x480 with 1 Axes>"
      ]
     },
     "metadata": {},
     "output_type": "display_data"
    }
   ],
   "source": [
    "plt.bar(totals_asc['Bin (asc)'],totals_asc['RDG Count'],color='white',edgecolor='black')\n",
    "print(dummydata)"
   ]
  }
 ],
 "metadata": {
  "kernelspec": {
   "display_name": "Python 3",
   "language": "python",
   "name": "python3"
  },
  "language_info": {
   "codemirror_mode": {
    "name": "ipython",
    "version": 3
   },
   "file_extension": ".py",
   "mimetype": "text/x-python",
   "name": "python",
   "nbconvert_exporter": "python",
   "pygments_lexer": "ipython3",
   "version": "3.11.8"
  }
 },
 "nbformat": 4,
 "nbformat_minor": 2
}
