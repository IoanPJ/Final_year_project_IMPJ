{
 "cells": [
  {
   "cell_type": "code",
   "execution_count": 1,
   "metadata": {},
   "outputs": [],
   "source": [
    "import numpy as np\n",
    "import pandas as pd\n",
    "import matplotlib.pyplot as plt\n",
    "from sklearn.experimental import enable_iterative_imputer\n",
    "from sklearn.impute import IterativeImputer"
   ]
  },
  {
   "cell_type": "code",
   "execution_count": 13,
   "metadata": {},
   "outputs": [],
   "source": [
    "imp = IterativeImputer(max_iter=20)\n",
    "df = pd.read_csv('..\\\\Fermi-LAT Data\\\\fl_numericalonly_nopositional_withclasses.csv',index_col=0)"
   ]
  },
  {
   "cell_type": "code",
   "execution_count": 32,
   "metadata": {},
   "outputs": [
    {
     "name": "stdout",
     "output_type": "stream",
     "text": [
      "[1 2 3]\n"
     ]
    }
   ],
   "source": [
    "print(df['CLASS1'].unique())"
   ]
  },
  {
   "cell_type": "code",
   "execution_count": 23,
   "metadata": {},
   "outputs": [
    {
     "name": "stderr",
     "output_type": "stream",
     "text": [
      "C:\\Users\\ioanp\\AppData\\Local\\Packages\\PythonSoftwareFoundation.Python.3.11_qbz5n2kfra8p0\\LocalCache\\local-packages\\Python311\\site-packages\\sklearn\\impute\\_iterative.py:800: ConvergenceWarning: [IterativeImputer] Early stopping criterion not reached.\n",
      "  warnings.warn(\n"
     ]
    }
   ],
   "source": [
    "df=df.replace(np.inf,np.nan)\n",
    "df=df.replace(-np.inf,np.nan)\n",
    "reduceddf = df.drop('CLASS1',axis=1)\n",
    "\n",
    "\n",
    "imp.fit(reduceddf)\n",
    "imp_arr=imp.transform(reduceddf)"
   ]
  },
  {
   "cell_type": "code",
   "execution_count": 30,
   "metadata": {},
   "outputs": [],
   "source": [
    "impdf=pd.DataFrame(imp_arr,columns=reduceddf.columns)\n",
    "impdf['CLASS1']=np.array(df['CLASS1'])\n",
    "impdf.to_csv('..\\\\Fermi-LAT Data\\\\imputed_full.csv')\n",
    "\n",
    "tokeep=['CLASS1','Frac_Variability','HR_24','Signif_Avg','Pivot_Energy','HR_35','HR_37',\n",
    "        'LP_Flux_Density','HR_36','HR_47','HR_57','PLEC_ExpfactorS','HR_46']\n",
    "\n",
    "imputed_12 = impdf[tokeep]\n",
    "imputed_12.to_csv('..\\\\Fermi-LAT Data\\\\imputed_wrappered_12.csv')"
   ]
  },
  {
   "cell_type": "code",
   "execution_count": 36,
   "metadata": {},
   "outputs": [
    {
     "name": "stdout",
     "output_type": "stream",
     "text": [
      "[0 1 2 3]\n"
     ]
    },
    {
     "name": "stderr",
     "output_type": "stream",
     "text": [
      "C:\\Users\\ioanp\\AppData\\Local\\Packages\\PythonSoftwareFoundation.Python.3.11_qbz5n2kfra8p0\\LocalCache\\local-packages\\Python311\\site-packages\\sklearn\\impute\\_iterative.py:800: ConvergenceWarning: [IterativeImputer] Early stopping criterion not reached.\n",
      "  warnings.warn(\n"
     ]
    }
   ],
   "source": [
    "# FOR BCUS\n",
    "\n",
    "df = pd.read_csv('..\\\\Fermi-LAT Data\\\\fl_withbcus.csv',index_col=0)\n",
    "print(df['CLASS1'].unique())\n",
    "\n",
    "df=df.replace(np.inf,np.nan)\n",
    "df=df.replace(-np.inf,np.nan)\n",
    "reduceddf = df.drop('CLASS1',axis=1)\n",
    "\n",
    "imp.fit(reduceddf)\n",
    "imp_arr=imp.transform(reduceddf)"
   ]
  },
  {
   "cell_type": "code",
   "execution_count": 40,
   "metadata": {},
   "outputs": [
    {
     "ename": "TypeError",
     "evalue": "only size-1 arrays can be converted to Python scalars",
     "output_type": "error",
     "traceback": [
      "\u001b[1;31m---------------------------------------------------------------------------\u001b[0m",
      "\u001b[1;31mTypeError\u001b[0m                                 Traceback (most recent call last)",
      "Cell \u001b[1;32mIn[40], line 10\u001b[0m\n\u001b[0;32m      8\u001b[0m imputed_12 \u001b[38;5;241m=\u001b[39m impdf[tokeep]\n\u001b[0;32m      9\u001b[0m imputed_12_bcu \u001b[38;5;241m=\u001b[39m imputed_12\u001b[38;5;241m.\u001b[39mloc[imputed_12[\u001b[38;5;124m'\u001b[39m\u001b[38;5;124mCLASS1\u001b[39m\u001b[38;5;124m'\u001b[39m]\u001b[38;5;241m==\u001b[39m\u001b[38;5;241m0\u001b[39m]\n\u001b[1;32m---> 10\u001b[0m imputed_12_bcu[\u001b[38;5;124m'\u001b[39m\u001b[38;5;124mCLASS1\u001b[39m\u001b[38;5;124m'\u001b[39m]\u001b[38;5;241m=\u001b[39m\u001b[38;5;28;43mint\u001b[39;49m\u001b[43m(\u001b[49m\u001b[38;5;241;43m7\u001b[39;49m\u001b[38;5;241;43m*\u001b[39;49m\u001b[43mnp\u001b[49m\u001b[38;5;241;43m.\u001b[39;49m\u001b[43mones\u001b[49m\u001b[43m(\u001b[49m\u001b[38;5;28;43mlen\u001b[39;49m\u001b[43m(\u001b[49m\u001b[43mimputed_12_bcu\u001b[49m\u001b[43m)\u001b[49m\u001b[43m)\u001b[49m\u001b[43m)\u001b[49m\n\u001b[0;32m     11\u001b[0m imputed_12_bcu\u001b[38;5;241m.\u001b[39mto_csv(\u001b[38;5;124m'\u001b[39m\u001b[38;5;124m..\u001b[39m\u001b[38;5;130;01m\\\\\u001b[39;00m\u001b[38;5;124mFermi-LAT Data\u001b[39m\u001b[38;5;130;01m\\\\\u001b[39;00m\u001b[38;5;124mimputed_bcuonly.csv\u001b[39m\u001b[38;5;124m'\u001b[39m)\n",
      "\u001b[1;31mTypeError\u001b[0m: only size-1 arrays can be converted to Python scalars"
     ]
    },
    {
     "ename": "",
     "evalue": "",
     "output_type": "error",
     "traceback": [
      "\u001b[1;31mThe Kernel crashed while executing code in the current cell or a previous cell. \n",
      "\u001b[1;31mPlease review the code in the cell(s) to identify a possible cause of the failure. \n",
      "\u001b[1;31mClick <a href='https://aka.ms/vscodeJupyterKernelCrash'>here</a> for more info. \n",
      "\u001b[1;31mView Jupyter <a href='command:jupyter.viewOutput'>log</a> for further details."
     ]
    }
   ],
   "source": [
    "impdf=pd.DataFrame(imp_arr,columns=reduceddf.columns)\n",
    "impdf['CLASS1']=np.array(df['CLASS1'])\n",
    "impdf.to_csv('..\\\\Fermi-LAT Data\\\\imputed_full_withbcus.csv')\n",
    "\n",
    "tokeep=['CLASS1','Frac_Variability','HR_24','Signif_Avg','Pivot_Energy','HR_35','HR_37',\n",
    "        'LP_Flux_Density','HR_36','HR_47','HR_57','PLEC_ExpfactorS','HR_46']\n",
    "\n",
    "imputed_12 = impdf[tokeep]\n",
    "imputed_12_bcu = imputed_12.loc[imputed_12['CLASS1']==0]\n",
    "imputed_12_bcu['CLASS1']=7*np.ones(len(imputed_12_bcu))\n",
    "imputed_12_bcu.to_csv('..\\\\Fermi-LAT Data\\\\imputed_bcuonly.csv')"
   ]
  }
 ],
 "metadata": {
  "kernelspec": {
   "display_name": "Python 3",
   "language": "python",
   "name": "python3"
  },
  "language_info": {
   "codemirror_mode": {
    "name": "ipython",
    "version": 3
   },
   "file_extension": ".py",
   "mimetype": "text/x-python",
   "name": "python",
   "nbconvert_exporter": "python",
   "pygments_lexer": "ipython3",
   "version": "3.11.9"
  }
 },
 "nbformat": 4,
 "nbformat_minor": 2
}
