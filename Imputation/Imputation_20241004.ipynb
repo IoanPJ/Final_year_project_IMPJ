{
 "cells": [
  {
   "cell_type": "code",
   "execution_count": 7,
   "metadata": {},
   "outputs": [],
   "source": [
    "import numpy as np\n",
    "import pandas as pd\n",
    "import matplotlib.pyplot as plt\n",
    "from sklearn.experimental import enable_iterative_imputer\n",
    "from sklearn.impute import IterativeImputer"
   ]
  },
  {
   "cell_type": "code",
   "execution_count": 8,
   "metadata": {},
   "outputs": [],
   "source": [
    "imp = IterativeImputer(max_iter=20)\n",
    "df = pd.read_csv('..\\\\Fermi-LAT Data\\\\fl_withbcus.csv',index_col=0)"
   ]
  },
  {
   "cell_type": "code",
   "execution_count": 9,
   "metadata": {},
   "outputs": [
    {
     "name": "stdout",
     "output_type": "stream",
     "text": [
      "[0 1 2 3]\n"
     ]
    }
   ],
   "source": [
    "print(df['CLASS1'].unique())"
   ]
  },
  {
   "cell_type": "code",
   "execution_count": 10,
   "metadata": {},
   "outputs": [
    {
     "name": "stderr",
     "output_type": "stream",
     "text": [
      "C:\\Users\\ioanp\\AppData\\Local\\Packages\\PythonSoftwareFoundation.Python.3.11_qbz5n2kfra8p0\\LocalCache\\local-packages\\Python311\\site-packages\\sklearn\\impute\\_iterative.py:800: ConvergenceWarning: [IterativeImputer] Early stopping criterion not reached.\n",
      "  warnings.warn(\n"
     ]
    }
   ],
   "source": [
    "df=df.replace(np.inf,np.nan)\n",
    "df=df.replace(-np.inf,np.nan)\n",
    "reduceddf = df.drop('CLASS1',axis=1)\n",
    "\n",
    "\n",
    "imp.fit(reduceddf)\n",
    "imp_arr=imp.transform(reduceddf)"
   ]
  },
  {
   "cell_type": "code",
   "execution_count": 11,
   "metadata": {},
   "outputs": [],
   "source": [
    "impdf=pd.DataFrame(imp_arr,columns=reduceddf.columns)\n",
    "impdf['CLASS1']=np.array(df['CLASS1'])\n",
    "impdf.to_csv('..\\\\Fermi-LAT Data\\\\imputed_full_withbcus.csv')\n",
    "\n",
    "tokeep=['CLASS1','Frac_Variability','HR_24','Signif_Avg','Pivot_Energy','HR_35','HR_37',\n",
    "        'LP_Flux_Density','HR_36','HR_47','HR_57','PLEC_ExpfactorS','HR_46']\n",
    "\n",
    "imputed_12 = impdf[tokeep]\n",
    "imputed_12.to_csv('..\\\\Fermi-LAT Data\\\\imputed_wrappered_12_withbcus.csv')"
   ]
  },
  {
   "cell_type": "code",
   "execution_count": null,
   "metadata": {},
   "outputs": [],
   "source": []
  },
  {
   "cell_type": "code",
   "execution_count": 12,
   "metadata": {},
   "outputs": [
    {
     "name": "stdout",
     "output_type": "stream",
     "text": [
      "[0 1 2 3]\n"
     ]
    },
    {
     "name": "stderr",
     "output_type": "stream",
     "text": [
      "C:\\Users\\ioanp\\AppData\\Local\\Packages\\PythonSoftwareFoundation.Python.3.11_qbz5n2kfra8p0\\LocalCache\\local-packages\\Python311\\site-packages\\sklearn\\impute\\_iterative.py:800: ConvergenceWarning: [IterativeImputer] Early stopping criterion not reached.\n",
      "  warnings.warn(\n"
     ]
    }
   ],
   "source": [
    "# FOR BCUS\n",
    "\n",
    "df = pd.read_csv('..\\\\Fermi-LAT Data\\\\fl_withbcus.csv',index_col=0)\n",
    "print(df['CLASS1'].unique())\n",
    "\n",
    "df=df.replace(np.inf,np.nan)\n",
    "df=df.replace(-np.inf,np.nan)\n",
    "reduceddf = df.drop('CLASS1',axis=1)\n",
    "\n",
    "imp.fit(reduceddf)\n",
    "imp_arr=imp.transform(reduceddf)"
   ]
  },
  {
   "cell_type": "code",
   "execution_count": 26,
   "metadata": {},
   "outputs": [
    {
     "name": "stdout",
     "output_type": "stream",
     "text": [
      "Index([   3,    8,    9,   12,   13,   16,   19,   21,   22,   23,\n",
      "       ...\n",
      "       7167, 7169, 7177, 7178, 7181, 7186, 7188, 7192, 7193, 7194],\n",
      "      dtype='int64', length=1624)\n"
     ]
    }
   ],
   "source": [
    "impdf=pd.DataFrame(impdf,columns=reduceddf.columns)\n",
    "impdf.set_index(df.index,inplace=True)\n",
    "impdf['CLASS1']=np.array(df['CLASS1'])\n",
    "impdf.to_csv('..\\\\Fermi-LAT Data\\\\imputed_full_withbcus.csv')\n",
    "\n",
    "tokeep=['CLASS1','Frac_Variability','HR_24','Signif_Avg','Pivot_Energy','HR_35','HR_37',\n",
    "        'LP_Flux_Density','HR_36','HR_47','HR_57','PLEC_ExpfactorS','HR_46']\n",
    "\n",
    "imputed_12 = impdf[tokeep]\n",
    "imputed_12.to_csv('..\\\\Fermi-LAT Data\\\\imputed_wrappered_12_withbcus.csv')\n",
    "print(imputed_12.loc[imputed_12['CLASS1']==0].index)"
   ]
  }
 ],
 "metadata": {
  "kernelspec": {
   "display_name": "Python 3",
   "language": "python",
   "name": "python3"
  },
  "language_info": {
   "codemirror_mode": {
    "name": "ipython",
    "version": 3
   },
   "file_extension": ".py",
   "mimetype": "text/x-python",
   "name": "python",
   "nbconvert_exporter": "python",
   "pygments_lexer": "ipython3",
   "version": "3.11.9"
  }
 },
 "nbformat": 4,
 "nbformat_minor": 2
}
