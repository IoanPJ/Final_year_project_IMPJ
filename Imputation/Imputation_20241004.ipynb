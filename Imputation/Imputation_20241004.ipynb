{
 "cells": [
  {
   "cell_type": "code",
   "execution_count": 1,
   "metadata": {},
   "outputs": [],
   "source": [
    "import numpy as np\n",
    "import pandas as pd\n",
    "import matplotlib.pyplot as plt\n",
    "from sklearn.experimental import enable_iterative_imputer\n",
    "from sklearn.impute import IterativeImputer"
   ]
  },
  {
   "cell_type": "code",
   "execution_count": 9,
   "metadata": {},
   "outputs": [],
   "source": [
    "imp = IterativeImputer()\n",
    "df = pd.read_csv('..\\\\Fermi-LAT Data Subsets\\\\fl_wrappered_12.csv',index_col=0)\n",
    "\n",
    "ps = [0,5,10,20,30,40,50,60,70,80,90]\n",
    "\n",
    "for y in range(1,6):\n",
    "    for x in range(0,len(ps)):\n",
    "        frac=ps[x]/100\n",
    "\n",
    "        dataset=pd.read_csv('Datasets\\\\impute_percentage_'+str(ps[x])+'_'+str(y)+'.csv',index_col=0)\n",
    "\n",
    "        class1=np.array(df['CLASS1'])\n",
    "        dataset['CLASS1']=class1\n",
    "        dataset.to_csv('Datasets\\\\impute_percentage_'+str(ps[x])+'_'+str(y)+'.csv')\n"
   ]
  },
  {
   "cell_type": "code",
   "execution_count": null,
   "metadata": {},
   "outputs": [],
   "source": []
  }
 ],
 "metadata": {
  "kernelspec": {
   "display_name": "Python 3",
   "language": "python",
   "name": "python3"
  },
  "language_info": {
   "codemirror_mode": {
    "name": "ipython",
    "version": 3
   },
   "file_extension": ".py",
   "mimetype": "text/x-python",
   "name": "python",
   "nbconvert_exporter": "python",
   "pygments_lexer": "ipython3",
   "version": "3.11.9"
  }
 },
 "nbformat": 4,
 "nbformat_minor": 2
}
