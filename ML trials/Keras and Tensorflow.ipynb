{
 "cells": [
  {
   "cell_type": "code",
   "execution_count": 1,
   "metadata": {},
   "outputs": [
    {
     "name": "stdout",
     "output_type": "stream",
     "text": [
      "Hello World\n"
     ]
    }
   ],
   "source": [
    "print('Hello World')"
   ]
  },
  {
   "cell_type": "code",
   "execution_count": 1,
   "metadata": {},
   "outputs": [],
   "source": [
    "import tensorflow as tf\n",
    "import keras"
   ]
  },
  {
   "cell_type": "markdown",
   "metadata": {},
   "source": [
    "Experimenting with Tensors:"
   ]
  },
  {
   "cell_type": "code",
   "execution_count": 70,
   "metadata": {},
   "outputs": [],
   "source": [
    "x = tf.constant([[5,2],[1,3]])\n",
    "#print(x)\n",
    "\n",
    "x.numpy()\n",
    "\n",
    "#print('dtype:',x.dtype)\n",
    "#print('dtype:',x.shape)\n",
    "\n",
    "#print(tf.ones(shape=(5,3)))\n",
    "#print(tf.zeros(shape=(2,1)))\n",
    "\n",
    "x = tf.random.normal(shape = (2,2), mean = 0.0, stddev=1.0)\n",
    "\n",
    "#x = tf.random.uniform(shape=(2,2),minval=0,maxval=5,dtype='int32')\n",
    "\n",
    "#print(x)\n"
   ]
  },
  {
   "cell_type": "markdown",
   "metadata": {},
   "source": [
    "Variables: \n",
    "Special tensors used to store 'mutable states' such as weights of a neural network"
   ]
  },
  {
   "cell_type": "code",
   "execution_count": 75,
   "metadata": {},
   "outputs": [
    {
     "name": "stdout",
     "output_type": "stream",
     "text": [
      "<tf.Variable 'Variable:0' shape=(2, 2) dtype=float32, numpy=\n",
      "array([[ 0.14624842,  0.65177846],\n",
      "       [ 0.92965645, -0.02915145]], dtype=float32)>\n"
     ]
    }
   ],
   "source": [
    "initial_value = tf.random.normal(shape=(2,2))\n",
    "\n",
    "a = tf.Variable(initial_value)\n",
    "print(a)"
   ]
  },
  {
   "cell_type": "code",
   "execution_count": 79,
   "metadata": {},
   "outputs": [],
   "source": [
    "new_value = tf.random.normal(shape=(2,2))\n",
    "a.assign(new_value)\n",
    "\n",
    "for i in range(2):\n",
    "    for j in range(2):\n",
    "        assert a[i,j] == new_value[i,j]\n",
    "\n",
    "\n",
    "added_value = tf.random.normal(shape=(2,2))\n",
    "a.assign_add(added_value)\n",
    "for i in range(2):\n",
    "    for j in range(2):\n",
    "        assert a[i,j] == new_value[i,j] + added_value[i,j]"
   ]
  },
  {
   "cell_type": "markdown",
   "metadata": {},
   "source": [
    "Gradients\n"
   ]
  },
  {
   "cell_type": "code",
   "execution_count": 89,
   "metadata": {},
   "outputs": [
    {
     "name": "stdout",
     "output_type": "stream",
     "text": [
      "tf.Tensor(\n",
      "[[-0.07744095  0.03717181]\n",
      " [-0.83118665  0.6544504 ]], shape=(2, 2), dtype=float32)\n",
      "None\n"
     ]
    }
   ],
   "source": [
    "a = tf.random.normal(shape=(2,2))\n",
    "b = tf.random.normal(shape=(2,2))\n"
   ]
  },
  {
   "cell_type": "code",
   "execution_count": 119,
   "metadata": {},
   "outputs": [
    {
     "name": "stdout",
     "output_type": "stream",
     "text": [
      "tf.Tensor(\n",
      "[[-0.07744095  0.03717181]\n",
      " [-0.83118665  0.6544504 ]], shape=(2, 2), dtype=float32)\n",
      "tf.Tensor(\n",
      "[[0.6262486 0.7254205]\n",
      " [2.2200336 0.9487737]], shape=(2, 2), dtype=float32)\n"
     ]
    }
   ],
   "source": [
    "\n",
    "with tf.GradientTape() as outer_tape:\n",
    "    outer_tape.watch(a)\n",
    "    with tf.GradientTape() as tape:\n",
    "        tape.watch(a)\n",
    "        c = tf.sqrt(tf.square(a)+tf.square(b))\n",
    "        dc_da = tape.gradient(c,a)\n",
    "        print(dc_da)\n",
    "    dc2_da2 = outer_tape.gradient(dc_da,a)\n",
    "    print(dc2_da2)\n"
   ]
  },
  {
   "cell_type": "markdown",
   "metadata": {},
   "source": [
    "Keras"
   ]
  },
  {
   "cell_type": "code",
   "execution_count": 123,
   "metadata": {},
   "outputs": [],
   "source": [
    "class Linear(keras.layers.Layer):\n",
    "    \"\"\"y = w.x + b\"\"\"\n",
    "\n",
    "    def __init__(self, units=32, input_dim=32):\n",
    "        super().__init__()\n",
    "        self.w = self.add_weight(\n",
    "            shape=(input_dim, units), initializer=\"random_normal\", trainable=True\n",
    "        )\n",
    "        self.b = self.add_weight(shape=(units,), initializer=\"zeros\", trainable=True)\n",
    "\n",
    "    def call(self, inputs):\n",
    "        return tf.matmul(inputs, self.w) + self.b\n"
   ]
  },
  {
   "cell_type": "markdown",
   "metadata": {},
   "source": []
  },
  {
   "cell_type": "code",
   "execution_count": 124,
   "metadata": {},
   "outputs": [
    {
     "name": "stdout",
     "output_type": "stream",
     "text": [
      "Epoch 1/100\n",
      "13/13 - 2s - loss: 53572.1953 - 2s/epoch - 138ms/step\n",
      "Epoch 2/100\n",
      "13/13 - 0s - loss: 14407.2939 - 58ms/epoch - 4ms/step\n",
      "Epoch 3/100\n",
      "13/13 - 0s - loss: 4552.7632 - 59ms/epoch - 5ms/step\n",
      "Epoch 4/100\n",
      "13/13 - 0s - loss: 2675.4941 - 49ms/epoch - 4ms/step\n",
      "Epoch 5/100\n",
      "13/13 - 0s - loss: 1650.9501 - 56ms/epoch - 4ms/step\n",
      "Epoch 6/100\n",
      "13/13 - 0s - loss: 1078.4967 - 62ms/epoch - 5ms/step\n",
      "Epoch 7/100\n",
      "13/13 - 0s - loss: 746.5729 - 68ms/epoch - 5ms/step\n",
      "Epoch 8/100\n",
      "13/13 - 0s - loss: 543.9101 - 41ms/epoch - 3ms/step\n",
      "Epoch 9/100\n",
      "13/13 - 0s - loss: 415.6507 - 40ms/epoch - 3ms/step\n",
      "Epoch 10/100\n",
      "13/13 - 0s - loss: 335.8566 - 46ms/epoch - 4ms/step\n",
      "Epoch 11/100\n",
      "13/13 - 0s - loss: 284.4289 - 41ms/epoch - 3ms/step\n",
      "Epoch 12/100\n",
      "13/13 - 0s - loss: 249.1811 - 34ms/epoch - 3ms/step\n",
      "Epoch 13/100\n",
      "13/13 - 0s - loss: 226.9591 - 41ms/epoch - 3ms/step\n",
      "Epoch 14/100\n",
      "13/13 - 0s - loss: 212.9881 - 41ms/epoch - 3ms/step\n",
      "Epoch 15/100\n",
      "13/13 - 0s - loss: 205.1863 - 42ms/epoch - 3ms/step\n",
      "Epoch 16/100\n",
      "13/13 - 0s - loss: 200.4955 - 32ms/epoch - 2ms/step\n",
      "Epoch 17/100\n",
      "13/13 - 0s - loss: 196.2096 - 39ms/epoch - 3ms/step\n",
      "Epoch 18/100\n",
      "13/13 - 0s - loss: 193.1946 - 26ms/epoch - 2ms/step\n",
      "Epoch 19/100\n",
      "13/13 - 0s - loss: 190.9051 - 36ms/epoch - 3ms/step\n",
      "Epoch 20/100\n",
      "13/13 - 0s - loss: 189.2604 - 44ms/epoch - 3ms/step\n",
      "Epoch 21/100\n",
      "13/13 - 0s - loss: 187.8956 - 40ms/epoch - 3ms/step\n",
      "Epoch 22/100\n",
      "13/13 - 0s - loss: 187.0822 - 32ms/epoch - 2ms/step\n",
      "Epoch 23/100\n",
      "13/13 - 0s - loss: 186.3161 - 47ms/epoch - 4ms/step\n",
      "Epoch 24/100\n",
      "13/13 - 0s - loss: 185.8199 - 24ms/epoch - 2ms/step\n",
      "Epoch 25/100\n",
      "13/13 - 0s - loss: 185.3268 - 32ms/epoch - 2ms/step\n",
      "Epoch 26/100\n",
      "13/13 - 0s - loss: 184.9926 - 40ms/epoch - 3ms/step\n",
      "Epoch 27/100\n",
      "13/13 - 0s - loss: 184.8429 - 27ms/epoch - 2ms/step\n",
      "Epoch 28/100\n",
      "13/13 - 0s - loss: 184.5984 - 52ms/epoch - 4ms/step\n",
      "Epoch 29/100\n",
      "13/13 - 0s - loss: 184.5109 - 35ms/epoch - 3ms/step\n",
      "Epoch 30/100\n",
      "13/13 - 0s - loss: 184.4027 - 33ms/epoch - 3ms/step\n",
      "Epoch 31/100\n",
      "13/13 - 0s - loss: 184.3400 - 40ms/epoch - 3ms/step\n",
      "Epoch 32/100\n",
      "13/13 - 0s - loss: 184.2200 - 33ms/epoch - 3ms/step\n",
      "Epoch 33/100\n",
      "13/13 - 0s - loss: 184.2011 - 32ms/epoch - 2ms/step\n",
      "Epoch 34/100\n",
      "13/13 - 0s - loss: 184.1380 - 31ms/epoch - 2ms/step\n",
      "Epoch 35/100\n",
      "13/13 - 0s - loss: 184.0582 - 33ms/epoch - 3ms/step\n",
      "Epoch 36/100\n",
      "13/13 - 0s - loss: 184.0363 - 41ms/epoch - 3ms/step\n",
      "Epoch 37/100\n",
      "13/13 - 0s - loss: 183.9556 - 33ms/epoch - 3ms/step\n",
      "Epoch 38/100\n",
      "13/13 - 0s - loss: 183.8923 - 32ms/epoch - 2ms/step\n",
      "Epoch 39/100\n",
      "13/13 - 0s - loss: 183.8632 - 33ms/epoch - 3ms/step\n",
      "Epoch 40/100\n",
      "13/13 - 0s - loss: 183.7987 - 36ms/epoch - 3ms/step\n",
      "Epoch 41/100\n",
      "13/13 - 0s - loss: 183.7412 - 31ms/epoch - 2ms/step\n",
      "Epoch 42/100\n",
      "13/13 - 0s - loss: 183.7309 - 36ms/epoch - 3ms/step\n",
      "Epoch 43/100\n",
      "13/13 - 0s - loss: 183.6359 - 36ms/epoch - 3ms/step\n",
      "Epoch 44/100\n",
      "13/13 - 0s - loss: 183.6203 - 40ms/epoch - 3ms/step\n",
      "Epoch 45/100\n",
      "13/13 - 0s - loss: 183.5116 - 32ms/epoch - 2ms/step\n",
      "Epoch 46/100\n",
      "13/13 - 0s - loss: 183.5210 - 36ms/epoch - 3ms/step\n",
      "Epoch 47/100\n",
      "13/13 - 0s - loss: 183.3914 - 33ms/epoch - 3ms/step\n",
      "Epoch 48/100\n",
      "13/13 - 0s - loss: 183.3243 - 33ms/epoch - 3ms/step\n",
      "Epoch 49/100\n",
      "13/13 - 0s - loss: 183.2523 - 32ms/epoch - 2ms/step\n",
      "Epoch 50/100\n",
      "13/13 - 0s - loss: 183.3043 - 41ms/epoch - 3ms/step\n",
      "Epoch 51/100\n",
      "13/13 - 0s - loss: 183.0628 - 41ms/epoch - 3ms/step\n",
      "Epoch 52/100\n",
      "13/13 - 0s - loss: 182.8526 - 38ms/epoch - 3ms/step\n",
      "Epoch 53/100\n",
      "13/13 - 0s - loss: 182.4285 - 35ms/epoch - 3ms/step\n",
      "Epoch 54/100\n",
      "13/13 - 0s - loss: 181.6002 - 41ms/epoch - 3ms/step\n",
      "Epoch 55/100\n",
      "13/13 - 0s - loss: 181.2591 - 38ms/epoch - 3ms/step\n",
      "Epoch 56/100\n",
      "13/13 - 0s - loss: 181.0029 - 46ms/epoch - 4ms/step\n",
      "Epoch 57/100\n",
      "13/13 - 0s - loss: 180.8064 - 37ms/epoch - 3ms/step\n",
      "Epoch 58/100\n",
      "13/13 - 0s - loss: 180.6051 - 39ms/epoch - 3ms/step\n",
      "Epoch 59/100\n",
      "13/13 - 0s - loss: 180.4534 - 43ms/epoch - 3ms/step\n",
      "Epoch 60/100\n",
      "13/13 - 0s - loss: 180.3517 - 39ms/epoch - 3ms/step\n",
      "Epoch 61/100\n",
      "13/13 - 0s - loss: 180.0053 - 34ms/epoch - 3ms/step\n",
      "Epoch 62/100\n",
      "13/13 - 0s - loss: 179.8248 - 33ms/epoch - 3ms/step\n",
      "Epoch 63/100\n",
      "13/13 - 0s - loss: 179.5957 - 37ms/epoch - 3ms/step\n",
      "Epoch 64/100\n",
      "13/13 - 0s - loss: 179.3896 - 35ms/epoch - 3ms/step\n",
      "Epoch 65/100\n",
      "13/13 - 0s - loss: 179.2048 - 30ms/epoch - 2ms/step\n",
      "Epoch 66/100\n",
      "13/13 - 0s - loss: 179.0548 - 43ms/epoch - 3ms/step\n",
      "Epoch 67/100\n",
      "13/13 - 0s - loss: 178.7505 - 41ms/epoch - 3ms/step\n",
      "Epoch 68/100\n",
      "13/13 - 0s - loss: 178.4937 - 34ms/epoch - 3ms/step\n",
      "Epoch 69/100\n",
      "13/13 - 0s - loss: 178.2703 - 36ms/epoch - 3ms/step\n",
      "Epoch 70/100\n",
      "13/13 - 0s - loss: 178.0663 - 32ms/epoch - 2ms/step\n",
      "Epoch 71/100\n",
      "13/13 - 0s - loss: 177.8364 - 40ms/epoch - 3ms/step\n",
      "Epoch 72/100\n",
      "13/13 - 0s - loss: 177.6355 - 39ms/epoch - 3ms/step\n",
      "Epoch 73/100\n",
      "13/13 - 0s - loss: 177.3309 - 33ms/epoch - 3ms/step\n",
      "Epoch 74/100\n",
      "13/13 - 0s - loss: 177.1031 - 43ms/epoch - 3ms/step\n",
      "Epoch 75/100\n",
      "13/13 - 0s - loss: 177.0066 - 39ms/epoch - 3ms/step\n",
      "Epoch 76/100\n",
      "13/13 - 0s - loss: 176.7677 - 42ms/epoch - 3ms/step\n",
      "Epoch 77/100\n",
      "13/13 - 0s - loss: 176.4265 - 41ms/epoch - 3ms/step\n",
      "Epoch 78/100\n",
      "13/13 - 0s - loss: 176.1907 - 31ms/epoch - 2ms/step\n",
      "Epoch 79/100\n",
      "13/13 - 0s - loss: 175.8875 - 40ms/epoch - 3ms/step\n",
      "Epoch 80/100\n",
      "13/13 - 0s - loss: 175.6431 - 36ms/epoch - 3ms/step\n",
      "Epoch 81/100\n",
      "13/13 - 0s - loss: 175.3714 - 34ms/epoch - 3ms/step\n",
      "Epoch 82/100\n",
      "13/13 - 0s - loss: 175.1837 - 37ms/epoch - 3ms/step\n",
      "Epoch 83/100\n",
      "13/13 - 0s - loss: 174.8793 - 39ms/epoch - 3ms/step\n",
      "Epoch 84/100\n",
      "13/13 - 0s - loss: 174.6850 - 43ms/epoch - 3ms/step\n",
      "Epoch 85/100\n",
      "13/13 - 0s - loss: 174.4606 - 42ms/epoch - 3ms/step\n",
      "Epoch 86/100\n",
      "13/13 - 0s - loss: 174.0574 - 40ms/epoch - 3ms/step\n",
      "Epoch 87/100\n",
      "13/13 - 0s - loss: 174.0331 - 52ms/epoch - 4ms/step\n",
      "Epoch 88/100\n",
      "13/13 - 0s - loss: 173.5405 - 49ms/epoch - 4ms/step\n",
      "Epoch 89/100\n",
      "13/13 - 0s - loss: 173.2507 - 50ms/epoch - 4ms/step\n",
      "Epoch 90/100\n",
      "13/13 - 0s - loss: 172.9424 - 50ms/epoch - 4ms/step\n",
      "Epoch 91/100\n",
      "13/13 - 0s - loss: 172.9808 - 33ms/epoch - 3ms/step\n",
      "Epoch 92/100\n",
      "13/13 - 0s - loss: 172.5640 - 40ms/epoch - 3ms/step\n",
      "Epoch 93/100\n",
      "13/13 - 0s - loss: 172.1028 - 32ms/epoch - 2ms/step\n",
      "Epoch 94/100\n",
      "13/13 - 0s - loss: 171.8784 - 35ms/epoch - 3ms/step\n",
      "Epoch 95/100\n",
      "13/13 - 0s - loss: 171.4654 - 48ms/epoch - 4ms/step\n",
      "Epoch 96/100\n",
      "13/13 - 0s - loss: 171.4203 - 35ms/epoch - 3ms/step\n",
      "Epoch 97/100\n",
      "13/13 - 0s - loss: 170.8844 - 46ms/epoch - 4ms/step\n",
      "Epoch 98/100\n",
      "13/13 - 0s - loss: 170.5255 - 34ms/epoch - 3ms/step\n",
      "Epoch 99/100\n",
      "13/13 - 0s - loss: 170.2389 - 24ms/epoch - 2ms/step\n",
      "Epoch 100/100\n",
      "13/13 - 0s - loss: 169.8209 - 34ms/epoch - 3ms/step\n"
     ]
    },
    {
     "data": {
      "text/plain": [
       "<keras.src.callbacks.History at 0x1d7912bfa10>"
      ]
     },
     "execution_count": 124,
     "metadata": {},
     "output_type": "execute_result"
    }
   ],
   "source": [
    "from tensorflow.keras.models import Sequential\n",
    "from tensorflow.keras.layers import Dense, Activation\n",
    "import pandas as pd\n",
    "import io\n",
    "import os\n",
    "import requests\n",
    "import numpy as np\n",
    "from sklearn import metrics\n",
    "\n",
    "df = pd.read_csv(\n",
    "    \"https://data.heatonresearch.com/data/t81-558/auto-mpg.csv\", \n",
    "    na_values=['NA', '?'])\n",
    "\n",
    "cars = df['name']\n",
    "\n",
    "# Handle missing value\n",
    "df['horsepower'] = df['horsepower'].fillna(df['horsepower'].median())\n",
    "\n",
    "# Pandas to Numpy\n",
    "x = df[['cylinders', 'displacement', 'horsepower', 'weight',\n",
    "       'acceleration', 'year', 'origin']].values\n",
    "y = df['mpg'].values # regression\n",
    "\n",
    "# Build the neural network\n",
    "model = Sequential()\n",
    "model.add(Dense(25, input_dim=x.shape[1], activation='relu')) # Hidden 1\n",
    "model.add(Dense(10, activation='relu')) # Hidden 2\n",
    "model.add(Dense(1)) # Output\n",
    "model.compile(loss='mean_squared_error', optimizer='adam')\n",
    "model.fit(x,y,verbose=2,epochs=100)"
   ]
  },
  {
   "cell_type": "code",
   "execution_count": 46,
   "metadata": {},
   "outputs": [
    {
     "name": "stdout",
     "output_type": "stream",
     "text": [
      "['1', '0', '0', '0', '0', '0']\n",
      "0\n"
     ]
    }
   ],
   "source": [
    "def solution(P,Q):\n",
    "\n",
    "    for i in range(0,len(P)):\n",
    "\n",
    "        newlist.append(P[i])\n",
    "\n",
    "\n",
    "    return \n",
    "\n",
    "print(Solution([a,b,c],[b,c,d]))"
   ]
  }
 ],
 "metadata": {
  "kernelspec": {
   "display_name": "Python 3",
   "language": "python",
   "name": "python3"
  },
  "language_info": {
   "codemirror_mode": {
    "name": "ipython",
    "version": 3
   },
   "file_extension": ".py",
   "mimetype": "text/x-python",
   "name": "python",
   "nbconvert_exporter": "python",
   "pygments_lexer": "ipython3",
   "version": "3.11.6"
  },
  "orig_nbformat": 4
 },
 "nbformat": 4,
 "nbformat_minor": 2
}
