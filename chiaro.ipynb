{
 "cells": [
  {
   "cell_type": "code",
   "execution_count": 2,
   "metadata": {},
   "outputs": [],
   "source": [
    "import pandas as pd\n",
    "import numpy as np\n",
    "import pandas as pd"
   ]
  },
  {
   "cell_type": "code",
   "execution_count": 9,
   "metadata": {},
   "outputs": [
    {
     "name": "stdout",
     "output_type": "stream",
     "text": [
      "3.5211267605633805\n"
     ]
    }
   ],
   "source": [
    "df = pd.read_csv('Fermi-LAT Data\\\\imputed_full.csv',index_col=0)\n",
    "df = df.loc[df['Variability_Index']<30]\n",
    "df = df.loc[df['Variability_Index']>2.8]\n",
    "df = df.loc[df['PL_Index']<2.7]\n",
    "df = df.loc[df['PL_Index']>1.6]\n",
    "rdg=df.loc[df['CLASS1']==3]\n",
    "print(len(rdg)/len(df)*100)"
   ]
  },
  {
   "cell_type": "code",
   "execution_count": 18,
   "metadata": {},
   "outputs": [
    {
     "name": "stdout",
     "output_type": "stream",
     "text": [
      "79\n",
      "1468\n",
      "22\n"
     ]
    },
    {
     "ename": "",
     "evalue": "",
     "output_type": "error",
     "traceback": [
      "\u001b[1;31mThe Kernel crashed while executing code in the current cell or a previous cell. \n",
      "\u001b[1;31mPlease review the code in the cell(s) to identify a possible cause of the failure. \n",
      "\u001b[1;31mClick <a href='https://aka.ms/vscodeJupyterKernelCrash'>here</a> for more info. \n",
      "\u001b[1;31mView Jupyter <a href='command:jupyter.viewOutput'>log</a> for further details."
     ]
    }
   ],
   "source": [
    "df = pd.read_csv('Fermi-LAT Data\\\\hdu1.csv',index_col=0)\n",
    "print(len(df.columns))\n",
    "print(len(df.loc[df['CLASS1']=='bll']))\n",
    "print(len(df.loc[df['CLASS1']=='BLL']))"
   ]
  }
 ],
 "metadata": {
  "kernelspec": {
   "display_name": "Python 3",
   "language": "python",
   "name": "python3"
  },
  "language_info": {
   "codemirror_mode": {
    "name": "ipython",
    "version": 3
   },
   "file_extension": ".py",
   "mimetype": "text/x-python",
   "name": "python",
   "nbconvert_exporter": "python",
   "pygments_lexer": "ipython3",
   "version": "3.11.9"
  }
 },
 "nbformat": 4,
 "nbformat_minor": 2
}
