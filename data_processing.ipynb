{
 "cells": [
  {
   "cell_type": "code",
   "execution_count": 3,
   "metadata": {},
   "outputs": [
    {
     "name": "stdout",
     "output_type": "stream",
     "text": [
      "   Source_Name     DataRelease RAJ2000  ... Unc_Counterpart Flags\n",
      "                                 deg    ...       deg            \n",
      "------------------ ----------- -------- ... --------------- -----\n",
      "4FGL J0000.3-7355            1   0.0983 ...              --     0\n",
      "4FGL J0000.5+0743            2   0.1375 ...              --     0\n",
      "4FGL J0000.7+2530            3   0.1878 ...              --     0\n",
      "4FGL J0001.2+4741            1   0.3126 ...         0.00000     0\n",
      "4FGL J0001.2-0747            1   0.3151 ...         0.00000     0\n",
      "4FGL J0001.4-0010            3   0.3717 ...         0.00450     0\n",
      "4FGL J0001.5+2113            1   0.3815 ...         0.00000     0\n",
      "4FGL J0001.6+3503            3   0.4098 ...              --     0\n",
      "4FGL J0001.6-4156            1   0.4165 ...         0.00007     0\n",
      "4FGL J0001.8-2153            3   0.4647 ...         0.00000  4096\n",
      "               ...         ...      ... ...             ...   ...\n",
      "4FGL J2359.0-3038            1 359.7719 ...         0.00000     0\n",
      "4FGL J2359.1+1719            1 359.7756 ...         0.00000     0\n",
      "4FGL J2359.2-3134            2 359.8167 ...         0.00000    16\n",
      "4FGL J2359.3+0215            2 359.8329 ...         0.00450     0\n",
      "4FGL J2359.3+2502            3 359.8342 ...              --     0\n",
      "4FGL J2359.3-2049            1 359.8357 ...         0.00000     2\n",
      "4FGL J2359.3+1444            1 359.8390 ...              --     2\n",
      "4FGL J2359.7-5041            3 359.9365 ...         0.00450     0\n",
      "4FGL J2359.9-3736            1 359.9816 ...         0.00000     0\n",
      "4FGL J2359.9+3145            3 359.9908 ...         0.00450     0\n",
      "Length = 7195 rows\n"
     ]
    },
    {
     "name": "stderr",
     "output_type": "stream",
     "text": [
      "WARNING: hdu= was not specified but multiple tables are present, reading in first available table (hdu=1) [astropy.io.fits.connect]\n"
     ]
    },
    {
     "ename": "",
     "evalue": "",
     "output_type": "error",
     "traceback": [
      "\u001b[1;31mThe Kernel crashed while executing code in the the current cell or a previous cell. Please review the code in the cell(s) to identify a possible cause of the failure. Click <a href='https://aka.ms/vscodeJupyterKernelCrash'>here</a> for more info. View Jupyter <a href='command:jupyter.viewOutput'>log</a> for further details."
     ]
    }
   ],
   "source": [
    "import pandas as pd\n",
    "from astropy.table import Table\n",
    "\n",
    "table = Table.read('gll_psc_v32.fit')\n",
    "print(table)\n",
    "#df = table.to_pandas()"
   ]
  }
 ],
 "metadata": {
  "kernelspec": {
   "display_name": "Python 3",
   "language": "python",
   "name": "python3"
  },
  "language_info": {
   "codemirror_mode": {
    "name": "ipython",
    "version": 3
   },
   "file_extension": ".py",
   "mimetype": "text/x-python",
   "name": "python",
   "nbconvert_exporter": "python",
   "pygments_lexer": "ipython3",
   "version": "3.11.5"
  },
  "orig_nbformat": 4
 },
 "nbformat": 4,
 "nbformat_minor": 2
}
