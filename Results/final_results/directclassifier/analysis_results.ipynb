{
 "cells": [
  {
   "cell_type": "code",
   "execution_count": 1,
   "metadata": {},
   "outputs": [],
   "source": [
    "import pandas as pd\n",
    "import numpy as np\n",
    "import matplotlib.pyplot as plt\n",
    "from scipy.stats import gumbel_r"
   ]
  },
  {
   "cell_type": "code",
   "execution_count": 2,
   "metadata": {},
   "outputs": [
    {
     "data": {
      "text/html": [
       "<div>\n",
       "<style scoped>\n",
       "    .dataframe tbody tr th:only-of-type {\n",
       "        vertical-align: middle;\n",
       "    }\n",
       "\n",
       "    .dataframe tbody tr th {\n",
       "        vertical-align: top;\n",
       "    }\n",
       "\n",
       "    .dataframe thead th {\n",
       "        text-align: right;\n",
       "    }\n",
       "</style>\n",
       "<table border=\"1\" class=\"dataframe\">\n",
       "  <thead>\n",
       "    <tr style=\"text-align: right;\">\n",
       "      <th></th>\n",
       "      <th>y_proba_1</th>\n",
       "      <th>Fit Values</th>\n",
       "      <th>Source_Name</th>\n",
       "      <th>RAJ2000</th>\n",
       "      <th>DEJ2000</th>\n",
       "      <th>ASSOC1</th>\n",
       "      <th>ASSOC2</th>\n",
       "      <th>Ranking</th>\n",
       "    </tr>\n",
       "  </thead>\n",
       "  <tbody>\n",
       "    <tr>\n",
       "      <th>1244</th>\n",
       "      <td>0.814367</td>\n",
       "      <td>0.414290</td>\n",
       "      <td>4FGL J0503.6+4518</td>\n",
       "      <td>75.9202</td>\n",
       "      <td>45.3113</td>\n",
       "      <td>GB6 J0503+4517</td>\n",
       "      <td>NaN</td>\n",
       "      <td>0</td>\n",
       "    </tr>\n",
       "    <tr>\n",
       "      <th>1119</th>\n",
       "      <td>0.814797</td>\n",
       "      <td>0.413454</td>\n",
       "      <td>4FGL J0431.1+4433</td>\n",
       "      <td>67.7881</td>\n",
       "      <td>44.5625</td>\n",
       "      <td>NaN</td>\n",
       "      <td>NaN</td>\n",
       "      <td>1</td>\n",
       "    </tr>\n",
       "    <tr>\n",
       "      <th>1010</th>\n",
       "      <td>0.814797</td>\n",
       "      <td>0.413453</td>\n",
       "      <td>4FGL J0359.4-2616</td>\n",
       "      <td>59.8713</td>\n",
       "      <td>-26.2734</td>\n",
       "      <td>PKS 0357-264</td>\n",
       "      <td>NaN</td>\n",
       "      <td>2</td>\n",
       "    </tr>\n",
       "    <tr>\n",
       "      <th>1077</th>\n",
       "      <td>0.814916</td>\n",
       "      <td>0.413222</td>\n",
       "      <td>4FGL J0420.2+4012</td>\n",
       "      <td>65.0547</td>\n",
       "      <td>40.2010</td>\n",
       "      <td>B3 0416+400</td>\n",
       "      <td>NaN</td>\n",
       "      <td>3</td>\n",
       "    </tr>\n",
       "    <tr>\n",
       "      <th>1504</th>\n",
       "      <td>0.814933</td>\n",
       "      <td>0.413189</td>\n",
       "      <td>4FGL J0600.6-3939</td>\n",
       "      <td>90.1507</td>\n",
       "      <td>-39.6507</td>\n",
       "      <td>PKS 0558-396</td>\n",
       "      <td>NaN</td>\n",
       "      <td>4</td>\n",
       "    </tr>\n",
       "  </tbody>\n",
       "</table>\n",
       "</div>"
      ],
      "text/plain": [
       "      y_proba_1  Fit Values        Source_Name  RAJ2000  DEJ2000  \\\n",
       "1244   0.814367    0.414290  4FGL J0503.6+4518  75.9202  45.3113   \n",
       "1119   0.814797    0.413454  4FGL J0431.1+4433  67.7881  44.5625   \n",
       "1010   0.814797    0.413453  4FGL J0359.4-2616  59.8713 -26.2734   \n",
       "1077   0.814916    0.413222  4FGL J0420.2+4012  65.0547  40.2010   \n",
       "1504   0.814933    0.413189  4FGL J0600.6-3939  90.1507 -39.6507   \n",
       "\n",
       "              ASSOC1 ASSOC2  Ranking  \n",
       "1244  GB6 J0503+4517    NaN        0  \n",
       "1119             NaN    NaN        1  \n",
       "1010    PKS 0357-264    NaN        2  \n",
       "1077     B3 0416+400    NaN        3  \n",
       "1504    PKS 0558-396    NaN        4  "
      ]
     },
     "execution_count": 2,
     "metadata": {},
     "output_type": "execute_result"
    }
   ],
   "source": [
    "full=pd.read_csv('..\\\\..\\\\..\\\\Fermi-LAT Data\\\\hdu1.csv',index_col=0)\n",
    "y_pred=pd.DataFrame()\n",
    "y_proba=pd.DataFrame()\n",
    "\n",
    "to_avg=pd.DataFrame()\n",
    "\n",
    "for i in range(1,11):\n",
    "    tempdf = pd.read_csv('Final Results\\\\Run '+str(i)+'\\\\y_results_BCU.csv',index_col=0)\n",
    "    to_avg['y_proba_1_it'+str(i)] = tempdf['y_proba_1']\n",
    "    y_pred['it'+str(i)]=tempdf['y_pred']\n",
    "\n",
    "data=pd.DataFrame(to_avg.mean(axis=1),columns=['y_proba_1'],index=tempdf.index)\n",
    "\n",
    "'''\n",
    " In 'data' all unknown BCUs are assigned 0. \n",
    "        All BLLs are assigned 1 and all FSRQs are assigned 2.\n",
    "        Radio Galaxies = 3 and Other = 4\n",
    "\n",
    "        In the machine learning algorithm '0' corresponds to a BLL and '1' corresponds \n",
    "        to an FSRQ.\n",
    "'''\n",
    "\n",
    "gumbel_vals = gumbel_r.pdf(data['y_proba_1'],0.3421238340282159,0.19413067816085203)\n",
    "data['Fit Values']=gumbel_vals\n",
    "\n",
    "rdgrank=pd.merge(data,full[['Source_Name','RAJ2000','DEJ2000','ASSOC1','ASSOC2']],how='inner',\n",
    "         left_index=True,right_index=True)\n",
    "rdgrank=rdgrank.sort_values('Fit Values',ascending=False)\n",
    "rdgrank['Ranking']=np.arange(0,len(rdgrank),1)\n",
    "\n",
    "rdgrank_ltx=pd.merge(data,full[['Source_Name','RAJ2000','DEJ2000','ASSOC1','ASSOC_PROB_BAY','ASSOC_PROB_LR']],\n",
    "                     how='inner',left_index=True,right_index=True)\n",
    "rdgrank_ltx=rdgrank_ltx.drop('y_proba_1',axis=1)\n",
    "#rdgrank_ltx=rdgrank_ltx.drop('Fit Values',axis=1)\n",
    "rdgrank_ltx=rdgrank_ltx.sort_values('Fit Values',ascending=False)\n",
    "rdgrank_ltx=rdgrank_ltx.head(5)\n",
    "rdgrank_ltx=rdgrank_ltx.drop('Fit Values',axis=1)\n",
    "rdgrank_ltx.to_latex('latex_tables\\\\RDG_Ranked_top_5',index=False,float_format=\"{:.2f}\".format,)\n",
    "rdgrank.head()"
   ]
  },
  {
   "cell_type": "code",
   "execution_count": 3,
   "metadata": {},
   "outputs": [
    {
     "name": "stderr",
     "output_type": "stream",
     "text": [
      " 26%|██▌       | 13/50 [00:11<00:31,  1.17it/s]"
     ]
    },
    {
     "name": "stdout",
     "output_type": "stream",
     "text": [
      "762    4FGL J0259.1-4748\n",
      "Name: Source_Name, dtype: object\n"
     ]
    },
    {
     "name": "stderr",
     "output_type": "stream",
     "text": [
      " 42%|████▏     | 21/50 [00:17<00:24,  1.19it/s]C:\\Users\\ioanp\\AppData\\Local\\Temp\\ipykernel_16128\\2490490146.py:36: RuntimeWarning: More than 20 figures have been opened. Figures created through the pyplot interface (`matplotlib.pyplot.figure`) are retained until explicitly closed and may consume too much memory. (To control this warning, see the rcParam `figure.max_open_warning`). Consider using `matplotlib.pyplot.close()`.\n",
      "  fig, ax = plt.subplots(figsize=(9,8),dpi=400)\n",
      " 60%|██████    | 30/50 [00:26<00:18,  1.09it/s]"
     ]
    },
    {
     "name": "stdout",
     "output_type": "stream",
     "text": [
      "608    4FGL J0220.0-3001\n",
      "Name: Source_Name, dtype: object\n"
     ]
    },
    {
     "name": "stderr",
     "output_type": "stream",
     "text": [
      " 80%|████████  | 40/50 [00:34<00:08,  1.20it/s]"
     ]
    },
    {
     "name": "stdout",
     "output_type": "stream",
     "text": [
      "1083    4FGL J0421.6-0627\n",
      "Name: Source_Name, dtype: object\n",
      "390    4FGL J0128.1+7542\n",
      "Name: Source_Name, dtype: object\n"
     ]
    },
    {
     "name": "stderr",
     "output_type": "stream",
     "text": [
      " 90%|█████████ | 45/50 [00:36<00:02,  1.69it/s]"
     ]
    },
    {
     "name": "stdout",
     "output_type": "stream",
     "text": [
      "1123    4FGL J0433.0+0522\n",
      "Name: Source_Name, dtype: object\n"
     ]
    },
    {
     "name": "stderr",
     "output_type": "stream",
     "text": [
      "100%|██████████| 50/50 [00:39<00:00,  1.26it/s]\n"
     ]
    },
    {
     "data": {
      "text/plain": [
       "SIMPLE  =                    T /FITS header                                     \n",
       "BITPIX  =                   16 /No.Bits per pixel                               \n",
       "NAXIS   =                    2 /No.dimensions                                   \n",
       "NAXIS1  =                  177 /Length X axis                                   \n",
       "NAXIS2  =                  177 /Length Y axis                                   \n",
       "DATE    = '14/04/24          ' /Date of FITS file creation                      \n",
       "ORIGIN  = 'CASB -- STScI     ' /Origin of FITS image                            \n",
       "PLTLABEL= 'E627              ' /Observatory plate label                         \n",
       "PLATEID = '07WO              ' /GSSS Plate ID                                   \n",
       "REGION  = 'XE194             ' /GSSS Region Name                                \n",
       "DATE-OBS= '22/10/52          ' /UT date of Observation                          \n",
       "UT      = '05:23:00.00       ' /UT time of observation                          \n",
       "EPOCH   =  1.9528066406250E+03 /Epoch of plate                                  \n",
       "PLTRAH  =                    1 /Plate center RA                                 \n",
       "PLTRAM  =                    8 /                                                \n",
       "PLTRAS  =  1.4484940000000E+01 /                                                \n",
       "PLTDECSN= '+                 ' /Plate center Dec                                \n",
       "PLTDECD =                   42 /                                                \n",
       "PLTDECM =                   46 /                                                \n",
       "PLTDECS =  3.3147240000000E+01 /                                                \n",
       "EQUINOX =  2.0000000000000E+03 /Julian Reference frame equinox                  \n",
       "EXPOSURE=  5.0000000000000E+01 /Exposure time minutes                           \n",
       "BANDPASS=                    8 /GSSS Bandpass code                              \n",
       "PLTGRADE=                    1 /Plate grade                                     \n",
       "PLTSCALE=  6.7200000000000E+01 /Plate Scale arcsec per mm                       \n",
       "SITELAT = '+33:24:24.00      ' /Latitude of Observatory                         \n",
       "SITELONG= '-116:51:48.00     ' /Longitude of Observatory                        \n",
       "TELESCOP= 'Palomar 48-inch Schmidt'/Telescope where plate taken                 \n",
       "CNPIX1  =                 5759 /X corner  (pixels)                              \n",
       "CNPIX2  =                 9055 /Y corner                                        \n",
       "DATATYPE= 'INTEGER*2         ' /Type of Data                                    \n",
       "SCANIMG = 'XE194_07WO_00_00.PIM'/Name of original scan                          \n",
       "SCANNUM =                    0 /Identifies scan of the plate                    \n",
       "DCHOPPED=                    F /Image repaired for chopping effects             \n",
       "DSHEARED=                    F /Image repaired for shearing effects             \n",
       "DSCNDNUM=                    0 /Identifies descendant of plate scan image       \n",
       "XPIXELSZ=  2.5284450000000E+01 /X pixel size microns                            \n",
       "YPIXELSZ=  2.5284450000000E+01 /Y pixel size microns                            \n",
       "PPO1    =  0.0000000000000E+00 /Orientation Coefficients                        \n",
       "PPO2    =  0.0000000000000E+00 /                                                \n",
       "PPO3    =  1.7747471555000E+05 /                                                \n",
       "PPO4    =  0.0000000000000E+00 /                                                \n",
       "PPO5    =  0.0000000000000E+00 /                                                \n",
       "PPO6    =  1.7747471555000E+05 /                                                \n",
       "AMDX1   =  6.7247811821830E+01 /Plate solution x coefficients                   \n",
       "AMDX2   =  1.7763727083050E-01 /                                                \n",
       "AMDX3   = -2.0045160285970E+02 /                                                \n",
       "AMDX4   = -3.8477068675930E-06 /                                                \n",
       "AMDX5   = -2.1777241043650E-05 /                                                \n",
       "AMDX6   =  7.5834095689710E-06 /                                                \n",
       "AMDX7   =  0.0000000000000E+00 /                                                \n",
       "AMDX8   =  1.7721055494710E-06 /                                                \n",
       "AMDX9   =  7.3807321769230E-08 /                                                \n",
       "AMDX10  =  2.2262902482920E-06 /                                                \n",
       "AMDX11  = -6.3219584942050E-08 /                                                \n",
       "AMDX12  =  0.0000000000000E+00 /                                                \n",
       "AMDX13  =  0.0000000000000E+00 /                                                \n",
       "AMDX14  =  0.0000000000000E+00 /                                                \n",
       "AMDX15  =  0.0000000000000E+00 /                                                \n",
       "AMDX16  =  0.0000000000000E+00 /                                                \n",
       "AMDX17  =  0.0000000000000E+00 /                                                \n",
       "AMDX18  =  0.0000000000000E+00 /                                                \n",
       "AMDX19  =  0.0000000000000E+00 /                                                \n",
       "AMDX20  =  0.0000000000000E+00 /                                                \n",
       "AMDY1   =  6.7260605659420E+01 /Plate solution y coefficients                   \n",
       "AMDY2   = -1.7467535244590E-01 /                                                \n",
       "AMDY3   = -5.4371553968620E+01 /                                                \n",
       "AMDY4   = -2.3371167929100E-06 /                                                \n",
       "AMDY5   = -2.1665086149510E-05 /                                                \n",
       "AMDY6   = -1.1342104135270E-05 /                                                \n",
       "AMDY7   =  0.0000000000000E+00 /                                                \n",
       "AMDY8   =  1.8184048468870E-06 /                                                \n",
       "AMDY9   = -6.3947266836610E-08 /                                                \n",
       "AMDY10  =  2.2200316787000E-06 /                                                \n",
       "AMDY11  = -4.9093675561460E-08 /                                                \n",
       "AMDY12  =  0.0000000000000E+00 /                                                \n",
       "AMDY13  =  0.0000000000000E+00 /                                                \n",
       "AMDY14  =  0.0000000000000E+00 /                                                \n",
       "AMDY15  =  0.0000000000000E+00 /                                                \n",
       "AMDY16  =  0.0000000000000E+00 /                                                \n",
       "AMDY17  =  0.0000000000000E+00 /                                                \n",
       "AMDY18  =  0.0000000000000E+00 /                                                \n",
       "AMDY19  =  0.0000000000000E+00 /                                                \n",
       "AMDY20  =  0.0000000000000E+00 /                                                \n",
       "        Based on photographic data of the National Geographic Society -- Palomar\n",
       "        Observatory Sky Survey (NGS-POSS) obtained using the Oschin Telescope on\n",
       "        Palomar Mountain.  The NGS-POSS was funded by a grant from the National \n",
       "        Geographic Society to the California Institute of Technology.  The      \n",
       "        plates were processed into the present compressed digital form with     \n",
       "        their permission.  The Digitized Sky Survey was produced at the Space   \n",
       "        Telescope Science Institute under US Government grant NAG W-2166.       \n",
       "                                                                                \n",
       "        Investigators using these scans are requested to include the above      \n",
       "        acknowledgements in any publications.                                   \n",
       "                                                                                \n",
       "        Copyright (c) 1994, Association of Universities for Research in         \n",
       "        Astronomy, Inc.  All rights reserved.                                   \n",
       "DATAMAX =                13387 /Maximum data value                              \n",
       "DATAMIN =                 2425 /Minimum data value                              \n",
       "OBJECT  = '/nedlocal/work/ops' /Object ID                                       \n",
       "OBJCTRA = '01 11 00.710      ' /Object Right Ascension (J2000)                  \n",
       "OBJCTDEC= '+43 45 38.80      ' /Object Declination (J2000)                      \n",
       "OBJCTX  =              5847.71 /Object X on plate (pixels)                      \n",
       "OBJCTY  =              9143.46 /Object Y on plate (pixels)                      "
      ]
     },
     "execution_count": 3,
     "metadata": {},
     "output_type": "execute_result"
    },
    {
     "data": {
      "text/plain": [
       "<Figure size 3600x3200 with 0 Axes>"
      ]
     },
     "metadata": {},
     "output_type": "display_data"
    },
    {
     "data": {
      "text/plain": [
       "<Figure size 3600x3200 with 0 Axes>"
      ]
     },
     "metadata": {},
     "output_type": "display_data"
    },
    {
     "data": {
      "text/plain": [
       "<Figure size 3600x3200 with 0 Axes>"
      ]
     },
     "metadata": {},
     "output_type": "display_data"
    },
    {
     "data": {
      "text/plain": [
       "<Figure size 3600x3200 with 0 Axes>"
      ]
     },
     "metadata": {},
     "output_type": "display_data"
    },
    {
     "data": {
      "text/plain": [
       "<Figure size 3600x3200 with 0 Axes>"
      ]
     },
     "metadata": {},
     "output_type": "display_data"
    },
    {
     "data": {
      "text/plain": [
       "<Figure size 3600x3200 with 0 Axes>"
      ]
     },
     "metadata": {},
     "output_type": "display_data"
    },
    {
     "data": {
      "text/plain": [
       "<Figure size 3600x3200 with 0 Axes>"
      ]
     },
     "metadata": {},
     "output_type": "display_data"
    },
    {
     "data": {
      "text/plain": [
       "<Figure size 3600x3200 with 0 Axes>"
      ]
     },
     "metadata": {},
     "output_type": "display_data"
    },
    {
     "data": {
      "text/plain": [
       "<Figure size 3600x3200 with 0 Axes>"
      ]
     },
     "metadata": {},
     "output_type": "display_data"
    },
    {
     "data": {
      "text/plain": [
       "<Figure size 3600x3200 with 0 Axes>"
      ]
     },
     "metadata": {},
     "output_type": "display_data"
    },
    {
     "data": {
      "text/plain": [
       "<Figure size 3600x3200 with 0 Axes>"
      ]
     },
     "metadata": {},
     "output_type": "display_data"
    },
    {
     "data": {
      "text/plain": [
       "<Figure size 3600x3200 with 0 Axes>"
      ]
     },
     "metadata": {},
     "output_type": "display_data"
    },
    {
     "data": {
      "text/plain": [
       "<Figure size 3600x3200 with 0 Axes>"
      ]
     },
     "metadata": {},
     "output_type": "display_data"
    },
    {
     "data": {
      "text/plain": [
       "<Figure size 3600x3200 with 0 Axes>"
      ]
     },
     "metadata": {},
     "output_type": "display_data"
    },
    {
     "data": {
      "text/plain": [
       "<Figure size 3600x3200 with 0 Axes>"
      ]
     },
     "metadata": {},
     "output_type": "display_data"
    },
    {
     "data": {
      "text/plain": [
       "<Figure size 3600x3200 with 0 Axes>"
      ]
     },
     "metadata": {},
     "output_type": "display_data"
    },
    {
     "data": {
      "text/plain": [
       "<Figure size 3600x3200 with 0 Axes>"
      ]
     },
     "metadata": {},
     "output_type": "display_data"
    },
    {
     "data": {
      "text/plain": [
       "<Figure size 3600x3200 with 0 Axes>"
      ]
     },
     "metadata": {},
     "output_type": "display_data"
    },
    {
     "data": {
      "text/plain": [
       "<Figure size 3600x3200 with 0 Axes>"
      ]
     },
     "metadata": {},
     "output_type": "display_data"
    },
    {
     "data": {
      "text/plain": [
       "<Figure size 3600x3200 with 0 Axes>"
      ]
     },
     "metadata": {},
     "output_type": "display_data"
    },
    {
     "data": {
      "text/plain": [
       "<Figure size 3600x3200 with 0 Axes>"
      ]
     },
     "metadata": {},
     "output_type": "display_data"
    },
    {
     "data": {
      "text/plain": [
       "<Figure size 3600x3200 with 0 Axes>"
      ]
     },
     "metadata": {},
     "output_type": "display_data"
    },
    {
     "data": {
      "text/plain": [
       "<Figure size 3600x3200 with 0 Axes>"
      ]
     },
     "metadata": {},
     "output_type": "display_data"
    },
    {
     "data": {
      "text/plain": [
       "<Figure size 3600x3200 with 0 Axes>"
      ]
     },
     "metadata": {},
     "output_type": "display_data"
    },
    {
     "data": {
      "text/plain": [
       "<Figure size 3600x3200 with 0 Axes>"
      ]
     },
     "metadata": {},
     "output_type": "display_data"
    },
    {
     "data": {
      "text/plain": [
       "<Figure size 3600x3200 with 0 Axes>"
      ]
     },
     "metadata": {},
     "output_type": "display_data"
    },
    {
     "data": {
      "text/plain": [
       "<Figure size 3600x3200 with 0 Axes>"
      ]
     },
     "metadata": {},
     "output_type": "display_data"
    },
    {
     "data": {
      "text/plain": [
       "<Figure size 3600x3200 with 0 Axes>"
      ]
     },
     "metadata": {},
     "output_type": "display_data"
    },
    {
     "data": {
      "text/plain": [
       "<Figure size 3600x3200 with 0 Axes>"
      ]
     },
     "metadata": {},
     "output_type": "display_data"
    },
    {
     "data": {
      "text/plain": [
       "<Figure size 3600x3200 with 0 Axes>"
      ]
     },
     "metadata": {},
     "output_type": "display_data"
    },
    {
     "data": {
      "text/plain": [
       "<Figure size 3600x3200 with 0 Axes>"
      ]
     },
     "metadata": {},
     "output_type": "display_data"
    },
    {
     "data": {
      "text/plain": [
       "<Figure size 3600x3200 with 0 Axes>"
      ]
     },
     "metadata": {},
     "output_type": "display_data"
    },
    {
     "data": {
      "text/plain": [
       "<Figure size 3600x3200 with 0 Axes>"
      ]
     },
     "metadata": {},
     "output_type": "display_data"
    },
    {
     "data": {
      "text/plain": [
       "<Figure size 3600x3200 with 0 Axes>"
      ]
     },
     "metadata": {},
     "output_type": "display_data"
    },
    {
     "data": {
      "text/plain": [
       "<Figure size 3600x3200 with 0 Axes>"
      ]
     },
     "metadata": {},
     "output_type": "display_data"
    },
    {
     "data": {
      "text/plain": [
       "<Figure size 3600x3200 with 0 Axes>"
      ]
     },
     "metadata": {},
     "output_type": "display_data"
    },
    {
     "data": {
      "text/plain": [
       "<Figure size 3600x3200 with 0 Axes>"
      ]
     },
     "metadata": {},
     "output_type": "display_data"
    },
    {
     "data": {
      "text/plain": [
       "<Figure size 3600x3200 with 0 Axes>"
      ]
     },
     "metadata": {},
     "output_type": "display_data"
    },
    {
     "data": {
      "text/plain": [
       "<Figure size 3600x3200 with 0 Axes>"
      ]
     },
     "metadata": {},
     "output_type": "display_data"
    },
    {
     "data": {
      "text/plain": [
       "<Figure size 3600x3200 with 0 Axes>"
      ]
     },
     "metadata": {},
     "output_type": "display_data"
    },
    {
     "data": {
      "text/plain": [
       "<Figure size 3600x3200 with 0 Axes>"
      ]
     },
     "metadata": {},
     "output_type": "display_data"
    },
    {
     "data": {
      "text/plain": [
       "<Figure size 3600x3200 with 0 Axes>"
      ]
     },
     "metadata": {},
     "output_type": "display_data"
    },
    {
     "data": {
      "text/plain": [
       "<Figure size 3600x3200 with 0 Axes>"
      ]
     },
     "metadata": {},
     "output_type": "display_data"
    },
    {
     "data": {
      "text/plain": [
       "<Figure size 3600x3200 with 0 Axes>"
      ]
     },
     "metadata": {},
     "output_type": "display_data"
    },
    {
     "data": {
      "text/plain": [
       "<Figure size 3600x3200 with 0 Axes>"
      ]
     },
     "metadata": {},
     "output_type": "display_data"
    }
   ],
   "source": [
    "from astroquery.ipac.ned import Ned\n",
    "from tqdm import tqdm\n",
    "from astropy.table import Table\n",
    "from astropy.io import fits,ascii\n",
    "\n",
    "N=20\n",
    "\n",
    "for i in tqdm(range(0,50)):\n",
    "    ls=[1,7,8,11,12,16,23,29,32,36,44,48] # list of object with no associated counterparts\n",
    "    ls2=[13,30,40,41,45] # list of objects with no NED data at all\n",
    "    if i in ls:\n",
    "        candidate = rdgrank['Source_Name'].loc[rdgrank['Ranking']==i]\n",
    "    elif i in ls2:\n",
    "        candidate = rdgrank['Source_Name'].loc[rdgrank['Ranking']==i]\n",
    "        print(candidate)\n",
    "        continue\n",
    "    else:\n",
    "        candidate = rdgrank['ASSOC1'].loc[rdgrank['Ranking']==i]\n",
    "    fl=str(rdgrank['Source_Name'].loc[rdgrank['Ranking']==i])\n",
    "    imageurl = Ned.get_image_list(candidate)\n",
    "    image_toplot=Ned.get_images(candidate)\n",
    "    fl= [idx for idx in fl.split(' ')]\n",
    "    fl=fl[4]+fl[5]\n",
    "    fl= [idx for idx in fl.split('\\n')]\n",
    "    fl=fl[0]\n",
    "    hdu1 = fits.open(imageurl[0])\n",
    "    pltscale=hdu1[0].header['PLTSCALE']\n",
    "    xpixelsize=hdu1[0].header['XPIXELSZ']\n",
    "    xpixelsizemm=xpixelsize*0.001\n",
    "    pixelscale=pltscale*xpixelsizemm\n",
    "    exposuretimeinminutes=hdu1[0].header['EXPOSURE']\n",
    "    #print(exposuretime)\n",
    "    for x in range(0,len(image_toplot)):\n",
    "        image_data=image_toplot[0][x].data\n",
    "        \n",
    "        fig, ax = plt.subplots(figsize=(9,8),dpi=400)\n",
    "        plt.title(f'Pixel Scale: {np.round(pixelscale,decimals=2)} arcsec/pixel',fontsize=N)\n",
    "        plt.xticks(fontsize=N)\n",
    "        plt.yticks(fontsize=N)\n",
    "        plt.imshow(image_data, cmap='gray')\n",
    "        cbar=plt.colorbar()\n",
    "        cbar.ax.tick_params(labelsize=N)\n",
    "        ax.tick_params('x',rotation=90)\n",
    "        ax.set_xlabel('X (pixels)', fontsize=N)\n",
    "        ax.set_ylabel('Y (pixels)', fontsize=N)\n",
    "        cbar.set_label(f'No. Counts ({np.round(exposuretimeinminutes,decimals=2)} minute exposure)',\n",
    "                        rotation=90,fontsize=N,labelpad=20)\n",
    "        plt.subplots_adjust(bottom=0.2,left=0.1)\n",
    "        plt.savefig(f'Images\\\\{str(fl)}_image_'+str(x)+'.png',dpi=300)\n",
    "        #plt.show()\n",
    "        plt.clf()\n",
    "    #print(candidate)\n",
    "hdu1[0].header"
   ]
  },
  {
   "cell_type": "code",
   "execution_count": 4,
   "metadata": {},
   "outputs": [
    {
     "ename": "NameError",
     "evalue": "name 'image' is not defined",
     "output_type": "error",
     "traceback": [
      "\u001b[1;31m---------------------------------------------------------------------------\u001b[0m",
      "\u001b[1;31mNameError\u001b[0m                                 Traceback (most recent call last)",
      "Cell \u001b[1;32mIn[4], line 10\u001b[0m\n\u001b[0;32m      5\u001b[0m plt\u001b[38;5;241m.\u001b[39mstyle\u001b[38;5;241m.\u001b[39muse(astropy_mpl_style)\n\u001b[0;32m      8\u001b[0m \u001b[38;5;66;03m#image_file = image[0][0].data\u001b[39;00m\n\u001b[0;32m      9\u001b[0m \u001b[38;5;66;03m#image_data=image_file\u001b[39;00m\n\u001b[1;32m---> 10\u001b[0m image_data\u001b[38;5;241m=\u001b[39mfits\u001b[38;5;241m.\u001b[39minfo(\u001b[43mimage\u001b[49m[\u001b[38;5;241m0\u001b[39m])\n\u001b[0;32m     11\u001b[0m plt\u001b[38;5;241m.\u001b[39mfigure()\n\u001b[0;32m     12\u001b[0m plt\u001b[38;5;241m.\u001b[39mimshow(image_data, cmap\u001b[38;5;241m=\u001b[39m\u001b[38;5;124m'\u001b[39m\u001b[38;5;124mgray\u001b[39m\u001b[38;5;124m'\u001b[39m)\n",
      "\u001b[1;31mNameError\u001b[0m: name 'image' is not defined"
     ]
    }
   ],
   "source": [
    "from astropy.io import fits\n",
    "import matplotlib.pyplot as plt\n",
    "from astropy.visualization import astropy_mpl_style\n",
    "from astropy.utils.data import get_pkg_data_filename\n",
    "plt.style.use(astropy_mpl_style)\n",
    "\n",
    "\n",
    "#image_file = image[0][0].data\n",
    "#image_data=image_file\n",
    "image_data=fits.info(image[0])\n",
    "plt.figure()\n",
    "plt.imshow(image_data, cmap='gray')\n",
    "plt.colorbar()\n",
    "plt.show()"
   ]
  },
  {
   "cell_type": "code",
   "execution_count": null,
   "metadata": {},
   "outputs": [],
   "source": []
  }
 ],
 "metadata": {
  "kernelspec": {
   "display_name": "Python 3",
   "language": "python",
   "name": "python3"
  },
  "language_info": {
   "codemirror_mode": {
    "name": "ipython",
    "version": 3
   },
   "file_extension": ".py",
   "mimetype": "text/x-python",
   "name": "python",
   "nbconvert_exporter": "python",
   "pygments_lexer": "ipython3",
   "version": "3.11.9"
  }
 },
 "nbformat": 4,
 "nbformat_minor": 2
}
