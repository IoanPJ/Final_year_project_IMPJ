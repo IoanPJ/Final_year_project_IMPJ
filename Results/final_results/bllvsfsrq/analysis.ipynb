{
 "cells": [
  {
   "cell_type": "code",
   "execution_count": 1,
   "metadata": {},
   "outputs": [],
   "source": [
    "import pandas as pd\n",
    "import numpy as np\n",
    "import matplotlib.pyplot as plt\n",
    "from scipy.stats import gumbel_r"
   ]
  },
  {
   "cell_type": "code",
   "execution_count": 2,
   "metadata": {},
   "outputs": [],
   "source": [
    "full=pd.read_csv('..\\\\..\\\\..\\\\Fermi-LAT Data\\\\hdu1.csv',index_col=0)\n",
    "y_pred=pd.DataFrame()\n",
    "y_proba=pd.DataFrame()\n",
    "\n",
    "to_avg=pd.DataFrame()\n",
    "\n",
    "for i in range(1,11):\n",
    "    tempdf = pd.read_csv('Final Results\\\\y_results_imputed_wrappered_12_run'+str(i)+'.csv',index_col=0)\n",
    "    to_avg['y_proba_1_it'+str(i)] = tempdf['y_proba_1']\n",
    "    y_pred['it'+str(i)]=tempdf['y_pred']\n",
    "\n",
    "data=pd.DataFrame(to_avg.mean(axis=1),columns=['y_proba_1'],index=tempdf.index)\n",
    "\n",
    "'''\n",
    " In 'data' all unknown BCUs are assigned 0. \n",
    "        All BLLs are assigned 1 and all FSRQs are assigned 2.\n",
    "        Radio Galaxies = 3 and Other = 4\n",
    "\n",
    "        In the machine learning algorithm '0' corresponds to a BLL and '1' corresponds \n",
    "        to an FSRQ.\n",
    "'''\n",
    "\n",
    "gumbel_vals = gumbel_r.pdf(data['y_proba_1'],0.3421238340282159,0.19413067816085203)\n",
    "data['Fit Values']=gumbel_vals\n",
    "\n",
    "rdgrank=pd.merge(data,full[['Source_Name','RAJ2000','DEJ2000','ASSOC1','ASSOC2']],how='inner',\n",
    "         left_index=True,right_index=True)\n",
    "rdgrank=rdgrank.sort_values('Fit Values',ascending=False)\n",
    "rdgrank['Ranking']=np.arange(0,len(rdgrank),1)\n",
    "\n",
    "rdgrank_ltx=pd.merge(data,full[['Source_Name','RAJ2000','DEJ2000','ASSOC1','ASSOC_PROB_BAY','ASSOC_PROB_LR']],\n",
    "                     how='inner',left_index=True,right_index=True)\n",
    "rdgrank_ltx=rdgrank_ltx.drop('y_proba_1',axis=1)\n",
    "#rdgrank_ltx=rdgrank_ltx.drop('Fit Values',axis=1)\n",
    "rdgrank_ltx=rdgrank_ltx.sort_values('Fit Values',ascending=False)\n",
    "rdgrank_ltx=rdgrank_ltx.head(5)\n",
    "rdgrank_ltx=rdgrank_ltx.drop('Fit Values',axis=1)\n",
    "rdgrank_ltx.to_latex('latex_tables\\\\RDG_Ranked_top_5',index=False,float_format=\"{:.2f}\".format,)"
   ]
  },
  {
   "cell_type": "code",
   "execution_count": 3,
   "metadata": {},
   "outputs": [
    {
     "name": "stderr",
     "output_type": "stream",
     "text": [
      "  0%|          | 0/50 [00:00<?, ?it/s]"
     ]
    },
    {
     "name": "stdout",
     "output_type": "stream",
     "text": [
      "4021    PKS 1452-367\n",
      "Name: ASSOC1, dtype: object\n",
      "[[<astropy.io.fits.hdu.image.PrimaryHDU object at 0x0000024BEEE1D750>]]\n"
     ]
    },
    {
     "name": "stderr",
     "output_type": "stream",
     "text": [
      "  2%|▏         | 1/50 [00:00<00:38,  1.27it/s]"
     ]
    },
    {
     "name": "stdout",
     "output_type": "stream",
     "text": [
      "3046    PMN J1143-1017\n",
      "Name: ASSOC1, dtype: object\n",
      "[[<astropy.io.fits.hdu.image.PrimaryHDU object at 0x0000024BEEF74B90>]]\n"
     ]
    },
    {
     "name": "stderr",
     "output_type": "stream",
     "text": [
      "  4%|▍         | 2/50 [00:01<00:35,  1.36it/s]"
     ]
    },
    {
     "name": "stdout",
     "output_type": "stream",
     "text": [
      "7074    TXS 2327+121\n",
      "Name: ASSOC1, dtype: object\n",
      "[[<astropy.io.fits.hdu.image.PrimaryHDU object at 0x0000024BEEFC0950>]]\n"
     ]
    },
    {
     "name": "stderr",
     "output_type": "stream",
     "text": [
      "  6%|▌         | 3/50 [00:02<00:32,  1.42it/s]"
     ]
    },
    {
     "name": "stdout",
     "output_type": "stream",
     "text": [
      "1357    PMN J0529-0058\n",
      "Name: ASSOC1, dtype: object\n",
      "[[<astropy.io.fits.hdu.image.PrimaryHDU object at 0x0000024BF2518950>]]\n"
     ]
    },
    {
     "name": "stderr",
     "output_type": "stream",
     "text": [
      "  8%|▊         | 4/50 [00:02<00:31,  1.44it/s]"
     ]
    },
    {
     "name": "stdout",
     "output_type": "stream",
     "text": [
      "2768    7C 1043+5505\n",
      "Name: ASSOC1, dtype: object\n",
      "[[<astropy.io.fits.hdu.image.PrimaryHDU object at 0x0000024BF25DCC10>]]\n"
     ]
    },
    {
     "name": "stderr",
     "output_type": "stream",
     "text": [
      " 10%|█         | 5/50 [00:03<00:32,  1.38it/s]"
     ]
    },
    {
     "name": "stdout",
     "output_type": "stream",
     "text": [
      "3357    87GB 123919.7+390026\n",
      "Name: ASSOC1, dtype: object\n",
      "[[<astropy.io.fits.hdu.image.PrimaryHDU object at 0x0000024BEEFD7190>]]\n"
     ]
    },
    {
     "name": "stderr",
     "output_type": "stream",
     "text": [
      " 12%|█▏        | 6/50 [00:04<00:31,  1.42it/s]"
     ]
    },
    {
     "name": "stdout",
     "output_type": "stream",
     "text": [
      "5917    TXS 1906-217\n",
      "Name: ASSOC1, dtype: object\n",
      "[[<astropy.io.fits.hdu.image.PrimaryHDU object at 0x0000024BEEEE0950>]]\n"
     ]
    },
    {
     "name": "stderr",
     "output_type": "stream",
     "text": [
      " 14%|█▍        | 7/50 [00:05<00:32,  1.34it/s]"
     ]
    },
    {
     "name": "stdout",
     "output_type": "stream",
     "text": [
      "79    GALEXASC J001420.46-045929.1\n",
      "Name: ASSOC1, dtype: object\n",
      "[[<astropy.io.fits.hdu.image.PrimaryHDU object at 0x0000024BEEE84C10>]]\n"
     ]
    },
    {
     "name": "stderr",
     "output_type": "stream",
     "text": [
      " 16%|█▌        | 8/50 [00:05<00:30,  1.36it/s]"
     ]
    },
    {
     "name": "stdout",
     "output_type": "stream",
     "text": [
      "6828    MG3 J222946+2545\n",
      "Name: ASSOC1, dtype: object\n",
      "[[<astropy.io.fits.hdu.image.PrimaryHDU object at 0x0000024BF3FB8950>]]\n"
     ]
    },
    {
     "name": "stderr",
     "output_type": "stream",
     "text": [
      " 18%|█▊        | 9/50 [00:06<00:30,  1.33it/s]"
     ]
    },
    {
     "name": "stdout",
     "output_type": "stream",
     "text": [
      "3371    SUMSS J124422-495422\n",
      "Name: ASSOC1, dtype: object\n",
      "[[<astropy.io.fits.hdu.image.PrimaryHDU object at 0x0000024BFC138950>]]\n"
     ]
    },
    {
     "name": "stderr",
     "output_type": "stream",
     "text": [
      " 20%|██        | 10/50 [00:07<00:30,  1.31it/s]"
     ]
    },
    {
     "name": "stdout",
     "output_type": "stream",
     "text": [
      "6924    B3 2251+428\n",
      "Name: ASSOC1, dtype: object\n",
      "[[<astropy.io.fits.hdu.image.PrimaryHDU object at 0x0000024BF3FC0950>]]\n"
     ]
    },
    {
     "name": "stderr",
     "output_type": "stream",
     "text": [
      " 22%|██▏       | 11/50 [00:08<00:30,  1.30it/s]"
     ]
    },
    {
     "name": "stdout",
     "output_type": "stream",
     "text": [
      "5196    PMN J1747-5310\n",
      "Name: ASSOC1, dtype: object\n",
      "[[<astropy.io.fits.hdu.image.PrimaryHDU object at 0x0000024BFC138950>]]\n"
     ]
    },
    {
     "name": "stderr",
     "output_type": "stream",
     "text": [
      " 24%|██▍       | 12/50 [00:08<00:28,  1.34it/s]"
     ]
    },
    {
     "name": "stdout",
     "output_type": "stream",
     "text": [
      "2617    PMN J1014-4508\n",
      "Name: ASSOC1, dtype: object\n",
      "[[<astropy.io.fits.hdu.image.PrimaryHDU object at 0x0000024BFF847190>]]\n"
     ]
    },
    {
     "name": "stderr",
     "output_type": "stream",
     "text": [
      " 26%|██▌       | 13/50 [00:09<00:26,  1.37it/s]"
     ]
    },
    {
     "name": "stdout",
     "output_type": "stream",
     "text": [
      "6553    PMN J2118-3316\n",
      "Name: ASSOC1, dtype: object\n",
      "[[<astropy.io.fits.hdu.image.PrimaryHDU object at 0x0000024BFF8D8950>]]\n"
     ]
    },
    {
     "name": "stderr",
     "output_type": "stream",
     "text": [
      " 28%|██▊       | 14/50 [00:10<00:26,  1.34it/s]"
     ]
    },
    {
     "name": "stdout",
     "output_type": "stream",
     "text": [
      "4306    WB J1549+7409\n",
      "Name: ASSOC1, dtype: object\n",
      "[[<astropy.io.fits.hdu.image.PrimaryHDU object at 0x0000024C02B50950>]]\n"
     ]
    },
    {
     "name": "stderr",
     "output_type": "stream",
     "text": [
      " 30%|███       | 15/50 [00:11<00:26,  1.34it/s]"
     ]
    },
    {
     "name": "stdout",
     "output_type": "stream",
     "text": [
      "3481    TXS 1307-046\n",
      "Name: ASSOC1, dtype: object\n",
      "[[<astropy.io.fits.hdu.image.PrimaryHDU object at 0x0000024BFF8E4C10>]]\n"
     ]
    },
    {
     "name": "stderr",
     "output_type": "stream",
     "text": [
      " 32%|███▏      | 16/50 [00:11<00:25,  1.32it/s]"
     ]
    },
    {
     "name": "stdout",
     "output_type": "stream",
     "text": [
      "6639    PMN J2142-2551\n",
      "Name: ASSOC1, dtype: object\n",
      "[[<astropy.io.fits.hdu.image.PrimaryHDU object at 0x0000024BFF828950>]]\n"
     ]
    },
    {
     "name": "stderr",
     "output_type": "stream",
     "text": [
      " 34%|███▍      | 17/50 [00:12<00:25,  1.28it/s]"
     ]
    },
    {
     "name": "stdout",
     "output_type": "stream",
     "text": [
      "6545    TXS 2115-155\n",
      "Name: ASSOC1, dtype: object\n",
      "[[<astropy.io.fits.hdu.image.PrimaryHDU object at 0x0000024BFC127190>]]\n"
     ]
    },
    {
     "name": "stderr",
     "output_type": "stream",
     "text": [
      " 36%|███▌      | 18/50 [00:13<00:24,  1.30it/s]"
     ]
    },
    {
     "name": "stdout",
     "output_type": "stream",
     "text": [
      "5071    TXS 1733-339\n",
      "Name: ASSOC1, dtype: object\n",
      "[[<astropy.io.fits.hdu.image.PrimaryHDU object at 0x0000024BF3FBF190>]]\n"
     ]
    },
    {
     "name": "stderr",
     "output_type": "stream",
     "text": [
      " 38%|███▊      | 19/50 [00:14<00:23,  1.30it/s]"
     ]
    },
    {
     "name": "stdout",
     "output_type": "stream",
     "text": [
      "706    NVSS J024248+173700\n",
      "Name: ASSOC1, dtype: object\n",
      "[[<astropy.io.fits.hdu.image.PrimaryHDU object at 0x0000024BF3F7DAD0>]]\n"
     ]
    },
    {
     "name": "stderr",
     "output_type": "stream",
     "text": [
      " 40%|████      | 20/50 [00:15<00:24,  1.24it/s]C:\\Users\\ioanp\\AppData\\Local\\Temp\\ipykernel_18796\\42259583.py:29: RuntimeWarning: More than 20 figures have been opened. Figures created through the pyplot interface (`matplotlib.pyplot.figure`) are retained until explicitly closed and may consume too much memory. (To control this warning, see the rcParam `figure.max_open_warning`). Consider using `matplotlib.pyplot.close()`.\n",
      "  fig, ax = plt.subplots(figsize=(9,8),dpi=300)\n"
     ]
    },
    {
     "name": "stdout",
     "output_type": "stream",
     "text": [
      "671    TXS 0230+067\n",
      "Name: ASSOC1, dtype: object\n",
      "[[<astropy.io.fits.hdu.image.PrimaryHDU object at 0x0000024BEEEF0950>]]\n"
     ]
    },
    {
     "name": "stderr",
     "output_type": "stream",
     "text": [
      " 42%|████▏     | 21/50 [00:16<00:24,  1.18it/s]"
     ]
    },
    {
     "name": "stdout",
     "output_type": "stream",
     "text": [
      "4007    TXS 1450-131\n",
      "Name: ASSOC1, dtype: object\n",
      "[[<astropy.io.fits.hdu.image.PrimaryHDU object at 0x0000024BEEFD7190>]]\n"
     ]
    },
    {
     "name": "stderr",
     "output_type": "stream",
     "text": [
      " 44%|████▍     | 22/50 [00:16<00:22,  1.22it/s]"
     ]
    },
    {
     "name": "stdout",
     "output_type": "stream",
     "text": [
      "2982    B3 1124+382\n",
      "Name: ASSOC1, dtype: object\n",
      "[[<astropy.io.fits.hdu.image.PrimaryHDU object at 0x0000024BEEEE0950>]]\n"
     ]
    },
    {
     "name": "stderr",
     "output_type": "stream",
     "text": [
      " 46%|████▌     | 23/50 [00:17<00:21,  1.23it/s]"
     ]
    },
    {
     "name": "stdout",
     "output_type": "stream",
     "text": [
      "649    SUMSS J022707-611811\n",
      "Name: ASSOC1, dtype: object\n",
      "[[<astropy.io.fits.hdu.image.PrimaryHDU object at 0x0000024BEEEC0950>]]\n"
     ]
    },
    {
     "name": "stderr",
     "output_type": "stream",
     "text": [
      " 48%|████▊     | 24/50 [00:18<00:21,  1.20it/s]"
     ]
    },
    {
     "name": "stdout",
     "output_type": "stream",
     "text": [
      "1870    NVSS J072949+685305\n",
      "Name: ASSOC1, dtype: object\n",
      "[[<astropy.io.fits.hdu.image.PrimaryHDU object at 0x0000024BF250F190>]]\n"
     ]
    },
    {
     "name": "stderr",
     "output_type": "stream",
     "text": [
      " 50%|█████     | 25/50 [00:19<00:20,  1.21it/s]"
     ]
    },
    {
     "name": "stdout",
     "output_type": "stream",
     "text": [
      "6946    GALEXASC J225957.26-155332.5\n",
      "Name: ASSOC1, dtype: object\n",
      "[[<astropy.io.fits.hdu.image.PrimaryHDU object at 0x0000024BEEFFF190>]]\n"
     ]
    },
    {
     "name": "stderr",
     "output_type": "stream",
     "text": [
      " 52%|█████▏    | 26/50 [00:20<00:20,  1.18it/s]"
     ]
    },
    {
     "name": "stdout",
     "output_type": "stream",
     "text": [
      "2744    GB6 J1039+7326\n",
      "Name: ASSOC1, dtype: object\n",
      "[[<astropy.io.fits.hdu.image.PrimaryHDU object at 0x0000024BF3F87190>]]\n"
     ]
    },
    {
     "name": "stderr",
     "output_type": "stream",
     "text": [
      " 54%|█████▍    | 27/50 [00:21<00:19,  1.17it/s]"
     ]
    },
    {
     "name": "stdout",
     "output_type": "stream",
     "text": [
      "1635    PMN J0627-2601\n",
      "Name: ASSOC1, dtype: object\n",
      "[[<astropy.io.fits.hdu.image.PrimaryHDU object at 0x0000024BF3FBB3D0>]]\n"
     ]
    },
    {
     "name": "stderr",
     "output_type": "stream",
     "text": [
      " 56%|█████▌    | 28/50 [00:21<00:18,  1.20it/s]"
     ]
    },
    {
     "name": "stdout",
     "output_type": "stream",
     "text": [
      "1049    GB6 J0411+3040\n",
      "Name: ASSOC1, dtype: object\n",
      "[[<astropy.io.fits.hdu.image.PrimaryHDU object at 0x0000024BF3FB8950>]]\n"
     ]
    },
    {
     "name": "stderr",
     "output_type": "stream",
     "text": [
      " 58%|█████▊    | 29/50 [00:22<00:18,  1.13it/s]"
     ]
    },
    {
     "name": "stdout",
     "output_type": "stream",
     "text": [
      "2310    GB6 J0902+6444\n",
      "Name: ASSOC1, dtype: object\n",
      "[[<astropy.io.fits.hdu.image.PrimaryHDU object at 0x0000024C02B4BE90>]]\n"
     ]
    },
    {
     "name": "stderr",
     "output_type": "stream",
     "text": [
      " 60%|██████    | 30/50 [00:23<00:18,  1.10it/s]"
     ]
    },
    {
     "name": "stdout",
     "output_type": "stream",
     "text": [
      "3579    HE 1326-0516\n",
      "Name: ASSOC1, dtype: object\n",
      "[[<astropy.io.fits.hdu.image.PrimaryHDU object at 0x0000024C02BE0950>]]\n"
     ]
    },
    {
     "name": "stderr",
     "output_type": "stream",
     "text": [
      " 62%|██████▏   | 31/50 [00:24<00:16,  1.13it/s]"
     ]
    },
    {
     "name": "stdout",
     "output_type": "stream",
     "text": [
      "1110    PMN J0428-5005\n",
      "Name: ASSOC1, dtype: object\n",
      "[[<astropy.io.fits.hdu.image.PrimaryHDU object at 0x0000024BFF8D8950>]]\n"
     ]
    },
    {
     "name": "stderr",
     "output_type": "stream",
     "text": [
      " 64%|██████▍   | 32/50 [00:25<00:15,  1.19it/s]"
     ]
    },
    {
     "name": "stdout",
     "output_type": "stream",
     "text": [
      "332    1RXS J011451.8+262337\n",
      "Name: ASSOC1, dtype: object\n",
      "[[<astropy.io.fits.hdu.image.PrimaryHDU object at 0x0000024BFF8D33D0>]]\n"
     ]
    },
    {
     "name": "stderr",
     "output_type": "stream",
     "text": [
      " 66%|██████▌   | 33/50 [00:26<00:13,  1.25it/s]"
     ]
    },
    {
     "name": "stdout",
     "output_type": "stream",
     "text": [
      "1888    SUMSS J073334-544544\n",
      "Name: ASSOC1, dtype: object\n",
      "[[<astropy.io.fits.hdu.image.PrimaryHDU object at 0x0000024C02BA0950>]]\n"
     ]
    },
    {
     "name": "stderr",
     "output_type": "stream",
     "text": [
      " 68%|██████▊   | 34/50 [00:26<00:12,  1.27it/s]"
     ]
    },
    {
     "name": "stdout",
     "output_type": "stream",
     "text": [
      "1933    SUMSS J074419-621059\n",
      "Name: ASSOC1, dtype: object\n",
      "[[<astropy.io.fits.hdu.image.PrimaryHDU object at 0x0000024BFF8A8950>]]\n"
     ]
    },
    {
     "name": "stderr",
     "output_type": "stream",
     "text": [
      " 70%|███████   | 35/50 [00:27<00:11,  1.31it/s]"
     ]
    },
    {
     "name": "stdout",
     "output_type": "stream",
     "text": [
      "4363    NVSS J160005-252439\n",
      "Name: ASSOC1, dtype: object\n",
      "[[<astropy.io.fits.hdu.image.PrimaryHDU object at 0x0000024BFF8BB3D0>]]\n"
     ]
    },
    {
     "name": "stderr",
     "output_type": "stream",
     "text": [
      " 72%|███████▏  | 36/50 [00:28<00:11,  1.27it/s]"
     ]
    },
    {
     "name": "stdout",
     "output_type": "stream",
     "text": [
      "681    OD 58\n",
      "Name: ASSOC1, dtype: object\n",
      "[[<astropy.io.fits.hdu.image.PrimaryHDU object at 0x0000024BFF8E7190>]]\n"
     ]
    },
    {
     "name": "stderr",
     "output_type": "stream",
     "text": [
      " 74%|███████▍  | 37/50 [00:29<00:09,  1.30it/s]"
     ]
    },
    {
     "name": "stdout",
     "output_type": "stream",
     "text": [
      "3632    PKS 1336-237\n",
      "Name: ASSOC1, dtype: object\n",
      "[[<astropy.io.fits.hdu.image.PrimaryHDU object at 0x0000024BF3FB8950>]]\n"
     ]
    },
    {
     "name": "stderr",
     "output_type": "stream",
     "text": [
      " 76%|███████▌  | 38/50 [00:29<00:09,  1.27it/s]"
     ]
    },
    {
     "name": "stdout",
     "output_type": "stream",
     "text": [
      "1137    NVSS J043614-003637\n",
      "Name: ASSOC1, dtype: object\n",
      "[[<astropy.io.fits.hdu.image.PrimaryHDU object at 0x0000024BFC1A0950>]]\n"
     ]
    },
    {
     "name": "stderr",
     "output_type": "stream",
     "text": [
      " 78%|███████▊  | 39/50 [00:30<00:08,  1.24it/s]"
     ]
    },
    {
     "name": "stdout",
     "output_type": "stream",
     "text": [
      "3702    AT20G J135303-875108\n",
      "Name: ASSOC1, dtype: object\n",
      "[[<astropy.io.fits.hdu.image.PrimaryHDU object at 0x0000024BEEE28950>]]\n"
     ]
    },
    {
     "name": "stderr",
     "output_type": "stream",
     "text": [
      " 80%|████████  | 40/50 [00:31<00:07,  1.25it/s]"
     ]
    },
    {
     "name": "stdout",
     "output_type": "stream",
     "text": [
      "6704    PKS 2153-76\n",
      "Name: ASSOC1, dtype: object\n",
      "[[<astropy.io.fits.hdu.image.PrimaryHDU object at 0x0000024BEEEE7190>]]\n"
     ]
    },
    {
     "name": "stderr",
     "output_type": "stream",
     "text": [
      " 82%|████████▏ | 41/50 [00:32<00:07,  1.28it/s]"
     ]
    },
    {
     "name": "stdout",
     "output_type": "stream",
     "text": [
      "5299    87GB 175603.3+143022\n",
      "Name: ASSOC1, dtype: object\n",
      "[[<astropy.io.fits.hdu.image.PrimaryHDU object at 0x0000024BF25DF190>]]\n"
     ]
    },
    {
     "name": "stderr",
     "output_type": "stream",
     "text": [
      " 84%|████████▍ | 42/50 [00:33<00:06,  1.30it/s]"
     ]
    },
    {
     "name": "stdout",
     "output_type": "stream",
     "text": [
      "6343    NVSS J203508-045029\n",
      "Name: ASSOC1, dtype: object\n",
      "[[<astropy.io.fits.hdu.image.PrimaryHDU object at 0x0000024BEEEBF190>]]\n"
     ]
    },
    {
     "name": "stderr",
     "output_type": "stream",
     "text": [
      " 86%|████████▌ | 43/50 [00:33<00:05,  1.24it/s]"
     ]
    },
    {
     "name": "stdout",
     "output_type": "stream",
     "text": [
      "157    MG3 J003408+3901\n",
      "Name: ASSOC1, dtype: object\n",
      "[[<astropy.io.fits.hdu.image.PrimaryHDU object at 0x0000024C113A8950>]]\n"
     ]
    },
    {
     "name": "stderr",
     "output_type": "stream",
     "text": [
      " 88%|████████▊ | 44/50 [00:34<00:05,  1.19it/s]"
     ]
    },
    {
     "name": "stdout",
     "output_type": "stream",
     "text": [
      "1274    GB6 J0509+5546\n",
      "Name: ASSOC1, dtype: object\n",
      "[[<astropy.io.fits.hdu.image.PrimaryHDU object at 0x0000024BF25A7190>]]\n"
     ]
    },
    {
     "name": "stderr",
     "output_type": "stream",
     "text": [
      " 90%|█████████ | 45/50 [00:35<00:04,  1.23it/s]"
     ]
    },
    {
     "name": "stdout",
     "output_type": "stream",
     "text": [
      "1521    4C +22.12\n",
      "Name: ASSOC1, dtype: object\n",
      "[[<astropy.io.fits.hdu.image.PrimaryHDU object at 0x0000024BEEE37190>]]\n"
     ]
    },
    {
     "name": "stderr",
     "output_type": "stream",
     "text": [
      " 92%|█████████▏| 46/50 [00:36<00:03,  1.25it/s]"
     ]
    },
    {
     "name": "stdout",
     "output_type": "stream",
     "text": [
      "2980    PKS 1124-382\n",
      "Name: ASSOC1, dtype: object\n",
      "[[<astropy.io.fits.hdu.image.PrimaryHDU object at 0x0000024BF3F9C490>]]\n"
     ]
    },
    {
     "name": "stderr",
     "output_type": "stream",
     "text": [
      " 94%|█████████▍| 47/50 [00:37<00:02,  1.28it/s]"
     ]
    },
    {
     "name": "stdout",
     "output_type": "stream",
     "text": [
      "3206    NVSS J121210+641253\n",
      "Name: ASSOC1, dtype: object\n",
      "[[<astropy.io.fits.hdu.image.PrimaryHDU object at 0x0000024C1135CC10>]]\n"
     ]
    },
    {
     "name": "stderr",
     "output_type": "stream",
     "text": [
      " 96%|█████████▌| 48/50 [00:37<00:01,  1.27it/s]"
     ]
    },
    {
     "name": "stdout",
     "output_type": "stream",
     "text": [
      "5091    NVSS J173913-341749\n",
      "Name: ASSOC1, dtype: object\n",
      "[[<astropy.io.fits.hdu.image.PrimaryHDU object at 0x0000024BF3F433D0>]]\n"
     ]
    },
    {
     "name": "stderr",
     "output_type": "stream",
     "text": [
      " 98%|█████████▊| 49/50 [00:38<00:00,  1.27it/s]"
     ]
    },
    {
     "name": "stdout",
     "output_type": "stream",
     "text": [
      "6284    PMN J2023-0123\n",
      "Name: ASSOC1, dtype: object\n",
      "[[<astropy.io.fits.hdu.image.PrimaryHDU object at 0x0000024BFC138950>]]\n"
     ]
    },
    {
     "name": "stderr",
     "output_type": "stream",
     "text": [
      "100%|██████████| 50/50 [00:39<00:00,  1.27it/s]\n"
     ]
    },
    {
     "data": {
      "text/plain": [
       "SIMPLE  =                    T /FITS header                                     \n",
       "BITPIX  =                   16 /No.Bits per pixel                               \n",
       "NAXIS   =                    2 /No.dimensions                                   \n",
       "NAXIS1  =                  177 /Length X axis                                   \n",
       "NAXIS2  =                  177 /Length Y axis                                   \n",
       "DATE    = '13/04/24          ' /Date of FITS file creation                      \n",
       "ORIGIN  = 'CASB -- STScI     ' /Origin of FITS image                            \n",
       "PLTLABEL= 'J 8014            ' /Observatory plate label                         \n",
       "PLATEID = '01O1              ' /GSSS Plate ID                                   \n",
       "REGION  = 'S884              ' /GSSS Region Name                                \n",
       "DATE-OBS= '17/08/82          ' /UT date of Observation                          \n",
       "UT      = '11:33:00.00       ' /UT time of observation                          \n",
       "EPOCH   =  1.9826259765625E+03 /Epoch of plate                                  \n",
       "PLTRAH  =                   20 /Plate center RA                                 \n",
       "PLTRAM  =                   22 /                                                \n",
       "PLTRAS  =  3.3717800000000E+01 /                                                \n",
       "PLTDECSN= '+                 ' /Plate center Dec                                \n",
       "PLTDECD =                    0 /                                                \n",
       "PLTDECM =                    9 /                                                \n",
       "PLTDECS =  3.9355240000000E+01 /                                                \n",
       "EQUINOX =  2.0000000000000E+03 /Julian Reference frame equinox                  \n",
       "EXPOSURE=  5.5000000000000E+01 /Exposure time minutes                           \n",
       "BANDPASS=                    0 /GSSS Bandpass code                              \n",
       "PLTGRADE=                    1 /Plate grade                                     \n",
       "PLTSCALE=  6.7200000000000E+01 /Plate Scale arcsec per mm                       \n",
       "SITELAT = '-31:16:24.00      ' /Latitude of Observatory                         \n",
       "SITELONG= '+149:03:42.00     ' /Longitude of Observatory                        \n",
       "TELESCOP= 'UK Schmidt (new optics)' /Telescope where plate taken                \n",
       "CNPIX1  =                 6430 /X corner  (pixels)                              \n",
       "CNPIX2  =                 3666 /Y corner                                        \n",
       "DATATYPE= 'INTEGER*2         ' /Type of Data                                    \n",
       "SCANIMG = 'S884_01O1_00_00.PIM' /Name of original scan                          \n",
       "SCANNUM =                    0 /Identifies scan of the plate                    \n",
       "DCHOPPED=                    F /Image repaired for chopping effects             \n",
       "DSHEARED=                    F /Image repaired for shearing effects             \n",
       "DSCNDNUM=                    0 /Identifies descendant of plate scan image       \n",
       "XPIXELSZ=  2.5284450000000E+01 /X pixel size microns                            \n",
       "YPIXELSZ=  2.5284450000000E+01 /Y pixel size microns                            \n",
       "PPO1    =  0.0000000000000E+00 /Orientation Coefficients                        \n",
       "PPO2    =  0.0000000000000E+00 /                                                \n",
       "PPO3    =  1.7756766554946E+05 /                                                \n",
       "PPO4    =  0.0000000000000E+00 /                                                \n",
       "PPO5    =  0.0000000000000E+00 /                                                \n",
       "PPO6    =  1.7832912679952E+05 /                                                \n",
       "AMDX1   =  6.7217559848367E+01 /Plate solution x coefficients                   \n",
       "AMDX2   = -3.4235832776775E-01 /                                                \n",
       "AMDX3   =  1.2524379438353E-01 /                                                \n",
       "AMDX4   =  1.6956695065119E-05 /                                                \n",
       "AMDX5   =  1.4409150905664E-05 /                                                \n",
       "AMDX6   =  3.9505013786946E-05 /                                                \n",
       "AMDX7   =  0.0000000000000E+00 /                                                \n",
       "AMDX8   =  2.2643069428126E-06 /                                                \n",
       "AMDX9   = -3.6037180249979E-08 /                                                \n",
       "AMDX10  =  2.5552152568614E-06 /                                                \n",
       "AMDX11  = -1.7225683548235E-07 /                                                \n",
       "AMDX12  =  0.0000000000000E+00 /                                                \n",
       "AMDX13  =  0.0000000000000E+00 /                                                \n",
       "AMDX14  =  0.0000000000000E+00 /                                                \n",
       "AMDX15  =  0.0000000000000E+00 /                                                \n",
       "AMDX16  =  0.0000000000000E+00 /                                                \n",
       "AMDX17  =  0.0000000000000E+00 /                                                \n",
       "AMDX18  =  0.0000000000000E+00 /                                                \n",
       "AMDX19  =  0.0000000000000E+00 /                                                \n",
       "AMDX20  =  0.0000000000000E+00 /                                                \n",
       "AMDY1   =  6.7229422690510E+01 /Plate solution y coefficients                   \n",
       "AMDY2   =  3.3946046423835E-01 /                                                \n",
       "AMDY3   = -1.5710742314944E-01 /                                                \n",
       "AMDY4   =  3.1141296049217E-05 /                                                \n",
       "AMDY5   = -1.0324545759970E-05 /                                                \n",
       "AMDY6   =  6.4386897380975E-06 /                                                \n",
       "AMDY7   =  0.0000000000000E+00 /                                                \n",
       "AMDY8   =  2.1872217468769E-06 /                                                \n",
       "AMDY9   =  2.7790864815353E-08 /                                                \n",
       "AMDY10  =  2.3418219128977E-06 /                                                \n",
       "AMDY11  =  1.4548891834614E-07 /                                                \n",
       "AMDY12  =  0.0000000000000E+00 /                                                \n",
       "AMDY13  =  0.0000000000000E+00 /                                                \n",
       "AMDY14  =  0.0000000000000E+00 /                                                \n",
       "AMDY15  =  0.0000000000000E+00 /                                                \n",
       "AMDY16  =  0.0000000000000E+00 /                                                \n",
       "AMDY17  =  0.0000000000000E+00 /                                                \n",
       "AMDY18  =  0.0000000000000E+00 /                                                \n",
       "AMDY19  =  0.0000000000000E+00 /                                                \n",
       "AMDY20  =  0.0000000000000E+00 /                                                \n",
       "        Based on photographic data obtained using The UK Schmidt Telescope.     \n",
       "        The UK Schmidt Telescope was operated by the Royal Observatory          \n",
       "        Edinburgh, with funding from the UK Science and Engineering Research    \n",
       "        Council, until 1988 June, and thereafter by the Anglo-Australian        \n",
       "        Observatory.  Original plate material is copyright (c) the Royal        \n",
       "        Observatory Edinburgh and the Anglo-Australian Observatory.  The        \n",
       "        plates were processed into the present compressed digital form with     \n",
       "        their permission.  The Digitized Sky Survey was produced at the Space   \n",
       "        Telescope Science Institute under US Government grant NAG W-2166.       \n",
       "                                                                                \n",
       "        Investigators using these scans are requested to include the above      \n",
       "        acknowledgements in any publications.                                   \n",
       "                                                                                \n",
       "        Copyright (c) 1993, 1994, Association of Universities for Research in   \n",
       "        Astronomy, Inc.  All rights reserved.                                   \n",
       "DATAMAX =                19575 /Maximum data value                              \n",
       "DATAMIN =                 4103 /Minimum data value                              \n",
       "OBJECT  = '/nedlocal/work/ops' /Object ID                                       \n",
       "OBJCTRA = '20 23 32.816      ' /Object Right Ascension (J2000)                  \n",
       "OBJCTDEC= '-01 23 42.15      ' /Object Declination (J2000)                      \n",
       "OBJCTX  =              6518.39 /Object X on plate (pixels)                      \n",
       "OBJCTY  =              3754.98 /Object Y on plate (pixels)                      "
      ]
     },
     "execution_count": 3,
     "metadata": {},
     "output_type": "execute_result"
    },
    {
     "data": {
      "text/plain": [
       "<Figure size 2700x2400 with 0 Axes>"
      ]
     },
     "metadata": {},
     "output_type": "display_data"
    },
    {
     "data": {
      "text/plain": [
       "<Figure size 2700x2400 with 0 Axes>"
      ]
     },
     "metadata": {},
     "output_type": "display_data"
    },
    {
     "data": {
      "text/plain": [
       "<Figure size 2700x2400 with 0 Axes>"
      ]
     },
     "metadata": {},
     "output_type": "display_data"
    },
    {
     "data": {
      "text/plain": [
       "<Figure size 2700x2400 with 0 Axes>"
      ]
     },
     "metadata": {},
     "output_type": "display_data"
    },
    {
     "data": {
      "text/plain": [
       "<Figure size 2700x2400 with 0 Axes>"
      ]
     },
     "metadata": {},
     "output_type": "display_data"
    },
    {
     "data": {
      "text/plain": [
       "<Figure size 2700x2400 with 0 Axes>"
      ]
     },
     "metadata": {},
     "output_type": "display_data"
    },
    {
     "data": {
      "text/plain": [
       "<Figure size 2700x2400 with 0 Axes>"
      ]
     },
     "metadata": {},
     "output_type": "display_data"
    },
    {
     "data": {
      "text/plain": [
       "<Figure size 2700x2400 with 0 Axes>"
      ]
     },
     "metadata": {},
     "output_type": "display_data"
    },
    {
     "data": {
      "text/plain": [
       "<Figure size 2700x2400 with 0 Axes>"
      ]
     },
     "metadata": {},
     "output_type": "display_data"
    },
    {
     "data": {
      "text/plain": [
       "<Figure size 2700x2400 with 0 Axes>"
      ]
     },
     "metadata": {},
     "output_type": "display_data"
    },
    {
     "data": {
      "text/plain": [
       "<Figure size 2700x2400 with 0 Axes>"
      ]
     },
     "metadata": {},
     "output_type": "display_data"
    },
    {
     "data": {
      "text/plain": [
       "<Figure size 2700x2400 with 0 Axes>"
      ]
     },
     "metadata": {},
     "output_type": "display_data"
    },
    {
     "data": {
      "text/plain": [
       "<Figure size 2700x2400 with 0 Axes>"
      ]
     },
     "metadata": {},
     "output_type": "display_data"
    },
    {
     "data": {
      "text/plain": [
       "<Figure size 2700x2400 with 0 Axes>"
      ]
     },
     "metadata": {},
     "output_type": "display_data"
    },
    {
     "data": {
      "text/plain": [
       "<Figure size 2700x2400 with 0 Axes>"
      ]
     },
     "metadata": {},
     "output_type": "display_data"
    },
    {
     "data": {
      "text/plain": [
       "<Figure size 2700x2400 with 0 Axes>"
      ]
     },
     "metadata": {},
     "output_type": "display_data"
    },
    {
     "data": {
      "text/plain": [
       "<Figure size 2700x2400 with 0 Axes>"
      ]
     },
     "metadata": {},
     "output_type": "display_data"
    },
    {
     "data": {
      "text/plain": [
       "<Figure size 2700x2400 with 0 Axes>"
      ]
     },
     "metadata": {},
     "output_type": "display_data"
    },
    {
     "data": {
      "text/plain": [
       "<Figure size 2700x2400 with 0 Axes>"
      ]
     },
     "metadata": {},
     "output_type": "display_data"
    },
    {
     "data": {
      "text/plain": [
       "<Figure size 2700x2400 with 0 Axes>"
      ]
     },
     "metadata": {},
     "output_type": "display_data"
    },
    {
     "data": {
      "text/plain": [
       "<Figure size 2700x2400 with 0 Axes>"
      ]
     },
     "metadata": {},
     "output_type": "display_data"
    },
    {
     "data": {
      "text/plain": [
       "<Figure size 2700x2400 with 0 Axes>"
      ]
     },
     "metadata": {},
     "output_type": "display_data"
    },
    {
     "data": {
      "text/plain": [
       "<Figure size 2700x2400 with 0 Axes>"
      ]
     },
     "metadata": {},
     "output_type": "display_data"
    },
    {
     "data": {
      "text/plain": [
       "<Figure size 2700x2400 with 0 Axes>"
      ]
     },
     "metadata": {},
     "output_type": "display_data"
    },
    {
     "data": {
      "text/plain": [
       "<Figure size 2700x2400 with 0 Axes>"
      ]
     },
     "metadata": {},
     "output_type": "display_data"
    },
    {
     "data": {
      "text/plain": [
       "<Figure size 2700x2400 with 0 Axes>"
      ]
     },
     "metadata": {},
     "output_type": "display_data"
    },
    {
     "data": {
      "text/plain": [
       "<Figure size 2700x2400 with 0 Axes>"
      ]
     },
     "metadata": {},
     "output_type": "display_data"
    },
    {
     "data": {
      "text/plain": [
       "<Figure size 2700x2400 with 0 Axes>"
      ]
     },
     "metadata": {},
     "output_type": "display_data"
    },
    {
     "data": {
      "text/plain": [
       "<Figure size 2700x2400 with 0 Axes>"
      ]
     },
     "metadata": {},
     "output_type": "display_data"
    },
    {
     "data": {
      "text/plain": [
       "<Figure size 2700x2400 with 0 Axes>"
      ]
     },
     "metadata": {},
     "output_type": "display_data"
    },
    {
     "data": {
      "text/plain": [
       "<Figure size 2700x2400 with 0 Axes>"
      ]
     },
     "metadata": {},
     "output_type": "display_data"
    },
    {
     "data": {
      "text/plain": [
       "<Figure size 2700x2400 with 0 Axes>"
      ]
     },
     "metadata": {},
     "output_type": "display_data"
    },
    {
     "data": {
      "text/plain": [
       "<Figure size 2700x2400 with 0 Axes>"
      ]
     },
     "metadata": {},
     "output_type": "display_data"
    },
    {
     "data": {
      "text/plain": [
       "<Figure size 2700x2400 with 0 Axes>"
      ]
     },
     "metadata": {},
     "output_type": "display_data"
    },
    {
     "data": {
      "text/plain": [
       "<Figure size 2700x2400 with 0 Axes>"
      ]
     },
     "metadata": {},
     "output_type": "display_data"
    },
    {
     "data": {
      "text/plain": [
       "<Figure size 2700x2400 with 0 Axes>"
      ]
     },
     "metadata": {},
     "output_type": "display_data"
    },
    {
     "data": {
      "text/plain": [
       "<Figure size 2700x2400 with 0 Axes>"
      ]
     },
     "metadata": {},
     "output_type": "display_data"
    },
    {
     "data": {
      "text/plain": [
       "<Figure size 2700x2400 with 0 Axes>"
      ]
     },
     "metadata": {},
     "output_type": "display_data"
    },
    {
     "data": {
      "text/plain": [
       "<Figure size 2700x2400 with 0 Axes>"
      ]
     },
     "metadata": {},
     "output_type": "display_data"
    },
    {
     "data": {
      "text/plain": [
       "<Figure size 2700x2400 with 0 Axes>"
      ]
     },
     "metadata": {},
     "output_type": "display_data"
    },
    {
     "data": {
      "text/plain": [
       "<Figure size 2700x2400 with 0 Axes>"
      ]
     },
     "metadata": {},
     "output_type": "display_data"
    },
    {
     "data": {
      "text/plain": [
       "<Figure size 2700x2400 with 0 Axes>"
      ]
     },
     "metadata": {},
     "output_type": "display_data"
    },
    {
     "data": {
      "text/plain": [
       "<Figure size 2700x2400 with 0 Axes>"
      ]
     },
     "metadata": {},
     "output_type": "display_data"
    },
    {
     "data": {
      "text/plain": [
       "<Figure size 2700x2400 with 0 Axes>"
      ]
     },
     "metadata": {},
     "output_type": "display_data"
    },
    {
     "data": {
      "text/plain": [
       "<Figure size 2700x2400 with 0 Axes>"
      ]
     },
     "metadata": {},
     "output_type": "display_data"
    },
    {
     "data": {
      "text/plain": [
       "<Figure size 2700x2400 with 0 Axes>"
      ]
     },
     "metadata": {},
     "output_type": "display_data"
    },
    {
     "data": {
      "text/plain": [
       "<Figure size 2700x2400 with 0 Axes>"
      ]
     },
     "metadata": {},
     "output_type": "display_data"
    },
    {
     "data": {
      "text/plain": [
       "<Figure size 2700x2400 with 0 Axes>"
      ]
     },
     "metadata": {},
     "output_type": "display_data"
    },
    {
     "data": {
      "text/plain": [
       "<Figure size 2700x2400 with 0 Axes>"
      ]
     },
     "metadata": {},
     "output_type": "display_data"
    },
    {
     "data": {
      "text/plain": [
       "<Figure size 2700x2400 with 0 Axes>"
      ]
     },
     "metadata": {},
     "output_type": "display_data"
    }
   ],
   "source": [
    "from astroquery.ipac.ned import Ned\n",
    "from tqdm import tqdm\n",
    "from astropy.table import Table\n",
    "from astropy.io import fits,ascii\n",
    "\n",
    "N=20\n",
    "\n",
    "for i in tqdm(range(0,50)):\n",
    "    candidate = rdgrank['ASSOC1'].loc[rdgrank['Ranking']==i]\n",
    "    fl=str(rdgrank['Source_Name'].loc[rdgrank['Ranking']==i])\n",
    "    imageurl = Ned.get_image_list(candidate)\n",
    "    image_toplot=Ned.get_images(candidate)\n",
    "    fl= [idx for idx in fl.split(' ')]\n",
    "    fl=fl[4]+fl[5]\n",
    "    fl= [idx for idx in fl.split('\\n')]\n",
    "    fl=fl[0]\n",
    "    hdu1 = fits.open(imageurl[0])\n",
    "    pltscale=hdu1[0].header['PLTSCALE']\n",
    "    xpixelsize=hdu1[0].header['XPIXELSZ']\n",
    "    xpixelsizemm=xpixelsize*0.001\n",
    "    pixelscale=pltscale*xpixelsizemm\n",
    "    exposuretimeinminutes=hdu1[0].header['EXPOSURE']\n",
    "    #print(exposuretime)\n",
    "    print(image_toplot)\n",
    "    for x in range(0,len(image_toplot)):\n",
    "        image_data=image_toplot[0][x].data\n",
    "        \n",
    "        fig, ax = plt.subplots(figsize=(9,8),dpi=300)\n",
    "        plt.title(f'Pixel Scale: {np.round(pixelscale,decimals=2)} arcsec/pixel',fontsize=N)\n",
    "        plt.xticks(fontsize=N)\n",
    "        plt.yticks(fontsize=N)\n",
    "        plt.imshow(image_data, cmap='gray')\n",
    "        cbar=plt.colorbar()\n",
    "        cbar.ax.tick_params(labelsize=N)\n",
    "        ax.tick_params('x',rotation=90)\n",
    "        ax.set_xlabel('X (pixels)', fontsize=N)\n",
    "        ax.set_ylabel('Y (pixels)', fontsize=N)\n",
    "        cbar.set_label(f'No. Counts ({np.round(exposuretimeinminutes,decimals=2)} minute exposure)',\n",
    "                        rotation=90,fontsize=N,labelpad=20)\n",
    "        plt.savefig(f'Images\\\\{str(fl)}_image_'+str(x)+'.png',dpi=300)\n",
    "        plt.subplots_adjust(bottom=0.2,left=0.1)\n",
    "        #plt.show()\n",
    "        plt.clf()\n",
    "    #print(candidate)\n",
    "hdu1[0].header"
   ]
  },
  {
   "cell_type": "code",
   "execution_count": 4,
   "metadata": {},
   "outputs": [
    {
     "ename": "NameError",
     "evalue": "name 'image' is not defined",
     "output_type": "error",
     "traceback": [
      "\u001b[1;31m---------------------------------------------------------------------------\u001b[0m",
      "\u001b[1;31mNameError\u001b[0m                                 Traceback (most recent call last)",
      "Cell \u001b[1;32mIn[4], line 10\u001b[0m\n\u001b[0;32m      5\u001b[0m plt\u001b[38;5;241m.\u001b[39mstyle\u001b[38;5;241m.\u001b[39muse(astropy_mpl_style)\n\u001b[0;32m      8\u001b[0m \u001b[38;5;66;03m#image_file = image[0][0].data\u001b[39;00m\n\u001b[0;32m      9\u001b[0m \u001b[38;5;66;03m#image_data=image_file\u001b[39;00m\n\u001b[1;32m---> 10\u001b[0m image_data\u001b[38;5;241m=\u001b[39mfits\u001b[38;5;241m.\u001b[39minfo(\u001b[43mimage\u001b[49m[\u001b[38;5;241m0\u001b[39m])\n\u001b[0;32m     11\u001b[0m plt\u001b[38;5;241m.\u001b[39mfigure()\n\u001b[0;32m     12\u001b[0m plt\u001b[38;5;241m.\u001b[39mimshow(image_data, cmap\u001b[38;5;241m=\u001b[39m\u001b[38;5;124m'\u001b[39m\u001b[38;5;124mgray\u001b[39m\u001b[38;5;124m'\u001b[39m)\n",
      "\u001b[1;31mNameError\u001b[0m: name 'image' is not defined"
     ]
    }
   ],
   "source": [
    "from astropy.io import fits\n",
    "import matplotlib.pyplot as plt\n",
    "from astropy.visualization import astropy_mpl_style\n",
    "from astropy.utils.data import get_pkg_data_filename\n",
    "plt.style.use(astropy_mpl_style)\n",
    "\n",
    "\n",
    "#image_file = image[0][0].data\n",
    "#image_data=image_file\n",
    "image_data=fits.info(image[0])\n",
    "plt.figure()\n",
    "plt.imshow(image_data, cmap='gray')\n",
    "plt.colorbar()\n",
    "plt.show()"
   ]
  },
  {
   "cell_type": "code",
   "execution_count": null,
   "metadata": {},
   "outputs": [],
   "source": []
  }
 ],
 "metadata": {
  "kernelspec": {
   "display_name": "Python 3",
   "language": "python",
   "name": "python3"
  },
  "language_info": {
   "codemirror_mode": {
    "name": "ipython",
    "version": 3
   },
   "file_extension": ".py",
   "mimetype": "text/x-python",
   "name": "python",
   "nbconvert_exporter": "python",
   "pygments_lexer": "ipython3",
   "version": "3.11.9"
  }
 },
 "nbformat": 4,
 "nbformat_minor": 2
}
