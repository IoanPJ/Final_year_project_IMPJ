{
 "cells": [
  {
   "cell_type": "code",
   "execution_count": 17,
   "metadata": {},
   "outputs": [
    {
     "name": "stdout",
     "output_type": "stream",
     "text": [
      "float64    54\n",
      "object      7\n",
      "int32       3\n",
      "Name: count, dtype: int64\n"
     ]
    },
    {
     "data": {
      "text/plain": [
       "Index(['Flux_Band', 'Unc_Flux_Band', 'nuFnu_Band', 'Sqrt_TS_Band',\n",
       "       'Flux_History', 'Unc_Flux_History', 'Sqrt_TS_History'],\n",
       "      dtype='object')"
      ]
     },
     "execution_count": 17,
     "metadata": {},
     "output_type": "execute_result"
    }
   ],
   "source": [
    "import numpy as np\n",
    "from tqdm import tqdm\n",
    "from astropy.io import ascii\n",
    "\n",
    "table = ascii.read('hdu1.txt')\n",
    "fermi_lat = table.to_pandas()\n",
    "fl = fermi_lat.drop(columns=['Source_Name','Extended_Source_Name','SpectrumType','ASSOC_4FGL','ASSOC_FGL','ASSOC_FHL','ASSOC_GAM1','ASSOC_GAM2','ASSOC_GAM3','TEVCAT_FLAG','ASSOC_TEV','CLASS1','CLASS2','ASSOC1','ASSOC2'])\n",
    "print(fl.dtypes.value_counts())\n",
    "fl.select_dtypes(include=object).columns"
   ]
  },
  {
   "cell_type": "code",
   "execution_count": 18,
   "metadata": {},
   "outputs": [
    {
     "name": "stderr",
     "output_type": "stream",
     "text": [
      "100%|██████████| 7195/7195 [00:00<00:00, 157807.58it/s]\n",
      "100%|██████████| 7195/7195 [00:00<00:00, 114210.30it/s]\n",
      "100%|██████████| 7195/7195 [00:00<00:00, 154591.79it/s]\n",
      "100%|██████████| 7195/7195 [00:00<00:00, 96423.40it/s]\n",
      "100%|██████████| 7195/7195 [00:00<00:00, 103551.51it/s]\n",
      "100%|██████████| 7195/7195 [00:00<00:00, 76106.60it/s]\n",
      "100%|██████████| 7195/7195 [00:00<00:00, 126760.04it/s]\n"
     ]
    },
    {
     "data": {
      "text/plain": [
       "Index(['DataRelease', 'RAJ2000', 'DEJ2000', 'GLON', 'GLAT',\n",
       "       'Conf_68_SemiMajor', 'Conf_68_SemiMinor', 'Conf_68_PosAng',\n",
       "       'Conf_95_SemiMajor', 'Conf_95_SemiMinor', 'Conf_95_PosAng', 'ROI_num',\n",
       "       'Signif_Avg', 'Pivot_Energy', 'Flux1000', 'Unc_Flux1000',\n",
       "       'Energy_Flux100', 'Unc_Energy_Flux100', 'PL_Flux_Density',\n",
       "       'Unc_PL_Flux_Density', 'PL_Index', 'Unc_PL_Index', 'LP_Flux_Density',\n",
       "       'Unc_LP_Flux_Density', 'LP_Index', 'Unc_LP_Index', 'LP_beta',\n",
       "       'Unc_LP_beta', 'LP_SigCurv', 'LP_EPeak', 'Unc_LP_EPeak',\n",
       "       'PLEC_Flux_Density', 'Unc_PLEC_Flux_Density', 'PLEC_IndexS',\n",
       "       'Unc_PLEC_IndexS', 'PLEC_ExpfactorS', 'Unc_PLEC_ExpfactorS',\n",
       "       'PLEC_Exp_Index', 'Unc_PLEC_Exp_Index', 'PLEC_SigCurv', 'PLEC_EPeak',\n",
       "       'Unc_PLEC_EPeak', 'Npred', 'Flux_Band', 'Unc_Flux_Band', 'nuFnu_Band',\n",
       "       'Sqrt_TS_Band', 'Variability_Index', 'Frac_Variability',\n",
       "       'Unc_Frac_Variability', 'Signif_Peak', 'Flux_Peak', 'Unc_Flux_Peak',\n",
       "       'Time_Peak', 'Peak_Interval', 'Flux_History', 'Unc_Flux_History',\n",
       "       'Sqrt_TS_History', 'ASSOC_PROB_BAY', 'ASSOC_PROB_LR', 'RA_Counterpart',\n",
       "       'DEC_Counterpart', 'Unc_Counterpart', 'Flags', 'Flux_Band_1',\n",
       "       'Unc_Flux_Band_1', 'nuFnu_Band_1', 'Sqrt_TS_Band_1', 'Flux_History_1',\n",
       "       'Unc_Flux_History_1', 'Sqrt_TS_History_1'],\n",
       "      dtype='object')"
      ]
     },
     "execution_count": 18,
     "metadata": {},
     "output_type": "execute_result"
    }
   ],
   "source": [
    "col0 = np.zeros(len(fl))\n",
    "col1 = np.zeros(len(fl))\n",
    "col2 = np.zeros(len(fl))\n",
    "col3 = np.zeros(len(fl))\n",
    "col4 = np.zeros(len(fl))\n",
    "col5 = np.zeros(len(fl))\n",
    "col6 = np.zeros(len(fl))\n",
    "col7 = np.zeros(len(fl))\n",
    "\n",
    "columnlist = ['Flux_Band', 'Unc_Flux_Band', 'nuFnu_Band', 'Sqrt_TS_Band',\n",
    "       'Flux_History', 'Unc_Flux_History', 'Sqrt_TS_History']\n",
    "\n",
    "for name in columnlist:    \n",
    "    for i in tqdm(range(0,len(fl))):\n",
    "        obj_data = fl[name][i]\n",
    "        obj_data = obj_data.replace('[','') \n",
    "        obj_data = obj_data.replace(']','') \n",
    "        obj_data = obj_data.replace('null','0')\n",
    "        float_data = [float(idx) for idx in obj_data.split(',')]\n",
    "        col0[i] = float_data[0]\n",
    "        col1[i] = float_data[1]\n",
    "        col2[i] = float_data[2]\n",
    "        col3[i] = float_data[3]\n",
    "        col4[i] = float_data[4]\n",
    "        col5[i] = float_data[5]\n",
    "        col6[i] = float_data[6]\n",
    "        col7[i] = float_data[7]\n",
    "    fl[name + '_0'] = col0\n",
    "    fl[name+'_1'] = col1\n",
    "    fl[name+'_2'] = col2\n",
    "    fl[name+'_3'] = col3\n",
    "    fl[name+'_4'] = col4\n",
    "    fl[name+'_5'] = col5\n",
    "    fl[name+'_6'] = col6\n",
    "    fl[name+'_7'] = col7\n",
    "    fl\n",
    "fl.columns"
   ]
  },
  {
   "cell_type": "markdown",
   "metadata": {},
   "source": []
  }
 ],
 "metadata": {
  "kernelspec": {
   "display_name": "Python 3",
   "language": "python",
   "name": "python3"
  },
  "language_info": {
   "codemirror_mode": {
    "name": "ipython",
    "version": 3
   },
   "file_extension": ".py",
   "mimetype": "text/x-python",
   "name": "python",
   "nbconvert_exporter": "python",
   "pygments_lexer": "ipython3",
   "version": "3.11.6"
  }
 },
 "nbformat": 4,
 "nbformat_minor": 2
}
